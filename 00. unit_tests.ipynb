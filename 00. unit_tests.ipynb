{
 "cells": [
  {
   "cell_type": "code",
   "execution_count": 1,
   "id": "5709469b",
   "metadata": {
    "ExecuteTime": {
     "end_time": "2024-08-30T22:09:03.944381Z",
     "start_time": "2024-08-30T22:09:03.541437Z"
    }
   },
   "outputs": [],
   "source": [
    "import sys\n",
    "sys.path.insert(0, '/Users/alam/code/vfftn/src')\n",
    "from train import *\n",
    "import matplotlib.pyplot as plt"
   ]
  },
  {
   "cell_type": "markdown",
   "id": "299b28aa",
   "metadata": {
    "heading_collapsed": true
   },
   "source": [
    "# Node tests"
   ]
  },
  {
   "cell_type": "code",
   "execution_count": 3,
   "id": "e0270d5f",
   "metadata": {
    "ExecuteTime": {
     "end_time": "2024-08-30T22:05:18.257221Z",
     "start_time": "2024-08-30T22:05:18.240725Z"
    },
    "hidden": true
   },
   "outputs": [],
   "source": [
    "data = np.random.rand(256,256,2,2)\n",
    "a = group_ind(group_ind(data, 0, 3), 1,2)"
   ]
  },
  {
   "cell_type": "code",
   "execution_count": 4,
   "id": "ba0d6e3b",
   "metadata": {
    "ExecuteTime": {
     "end_time": "2024-08-30T22:05:18.750378Z",
     "start_time": "2024-08-30T22:05:18.744195Z"
    },
    "hidden": true
   },
   "outputs": [],
   "source": [
    "b = ungroup_ind(ungroup_ind(a, 1, 2, 2), 0, 2, 3)"
   ]
  },
  {
   "cell_type": "code",
   "execution_count": 5,
   "id": "442685ce",
   "metadata": {
    "ExecuteTime": {
     "end_time": "2024-08-30T22:05:19.588653Z",
     "start_time": "2024-08-30T22:05:19.571362Z"
    },
    "hidden": true
   },
   "outputs": [
    {
     "data": {
      "text/plain": [
       "array([[[[0., 0.],\n",
       "         [0., 0.]],\n",
       "\n",
       "        [[0., 0.],\n",
       "         [0., 0.]],\n",
       "\n",
       "        [[0., 0.],\n",
       "         [0., 0.]],\n",
       "\n",
       "        ...,\n",
       "\n",
       "        [[0., 0.],\n",
       "         [0., 0.]],\n",
       "\n",
       "        [[0., 0.],\n",
       "         [0., 0.]],\n",
       "\n",
       "        [[0., 0.],\n",
       "         [0., 0.]]],\n",
       "\n",
       "\n",
       "       [[[0., 0.],\n",
       "         [0., 0.]],\n",
       "\n",
       "        [[0., 0.],\n",
       "         [0., 0.]],\n",
       "\n",
       "        [[0., 0.],\n",
       "         [0., 0.]],\n",
       "\n",
       "        ...,\n",
       "\n",
       "        [[0., 0.],\n",
       "         [0., 0.]],\n",
       "\n",
       "        [[0., 0.],\n",
       "         [0., 0.]],\n",
       "\n",
       "        [[0., 0.],\n",
       "         [0., 0.]]],\n",
       "\n",
       "\n",
       "       [[[0., 0.],\n",
       "         [0., 0.]],\n",
       "\n",
       "        [[0., 0.],\n",
       "         [0., 0.]],\n",
       "\n",
       "        [[0., 0.],\n",
       "         [0., 0.]],\n",
       "\n",
       "        ...,\n",
       "\n",
       "        [[0., 0.],\n",
       "         [0., 0.]],\n",
       "\n",
       "        [[0., 0.],\n",
       "         [0., 0.]],\n",
       "\n",
       "        [[0., 0.],\n",
       "         [0., 0.]]],\n",
       "\n",
       "\n",
       "       ...,\n",
       "\n",
       "\n",
       "       [[[0., 0.],\n",
       "         [0., 0.]],\n",
       "\n",
       "        [[0., 0.],\n",
       "         [0., 0.]],\n",
       "\n",
       "        [[0., 0.],\n",
       "         [0., 0.]],\n",
       "\n",
       "        ...,\n",
       "\n",
       "        [[0., 0.],\n",
       "         [0., 0.]],\n",
       "\n",
       "        [[0., 0.],\n",
       "         [0., 0.]],\n",
       "\n",
       "        [[0., 0.],\n",
       "         [0., 0.]]],\n",
       "\n",
       "\n",
       "       [[[0., 0.],\n",
       "         [0., 0.]],\n",
       "\n",
       "        [[0., 0.],\n",
       "         [0., 0.]],\n",
       "\n",
       "        [[0., 0.],\n",
       "         [0., 0.]],\n",
       "\n",
       "        ...,\n",
       "\n",
       "        [[0., 0.],\n",
       "         [0., 0.]],\n",
       "\n",
       "        [[0., 0.],\n",
       "         [0., 0.]],\n",
       "\n",
       "        [[0., 0.],\n",
       "         [0., 0.]]],\n",
       "\n",
       "\n",
       "       [[[0., 0.],\n",
       "         [0., 0.]],\n",
       "\n",
       "        [[0., 0.],\n",
       "         [0., 0.]],\n",
       "\n",
       "        [[0., 0.],\n",
       "         [0., 0.]],\n",
       "\n",
       "        ...,\n",
       "\n",
       "        [[0., 0.],\n",
       "         [0., 0.]],\n",
       "\n",
       "        [[0., 0.],\n",
       "         [0., 0.]],\n",
       "\n",
       "        [[0., 0.],\n",
       "         [0., 0.]]]])"
      ]
     },
     "execution_count": 5,
     "metadata": {},
     "output_type": "execute_result"
    }
   ],
   "source": [
    "data-b"
   ]
  },
  {
   "cell_type": "code",
   "execution_count": 6,
   "id": "714a15e9",
   "metadata": {
    "ExecuteTime": {
     "end_time": "2024-08-30T22:05:20.136534Z",
     "start_time": "2024-08-30T22:05:20.131096Z"
    },
    "hidden": true
   },
   "outputs": [],
   "source": [
    "# test svd()\n",
    "# test conj()"
   ]
  },
  {
   "cell_type": "markdown",
   "id": "fb7cbe1b",
   "metadata": {
    "heading_collapsed": true
   },
   "source": [
    "# MPO tests"
   ]
  },
  {
   "cell_type": "code",
   "execution_count": 7,
   "id": "13d13584",
   "metadata": {
    "ExecuteTime": {
     "end_time": "2024-08-30T22:05:22.176764Z",
     "start_time": "2024-08-30T22:05:22.162983Z"
    },
    "hidden": true
   },
   "outputs": [
    {
     "data": {
      "text/plain": [
       "0.0"
      ]
     },
     "execution_count": 7,
     "metadata": {},
     "output_type": "execute_result"
    }
   ],
   "source": [
    "# testing to_matrix()\n",
    "x = np.array([[0,1],[1,0]])\n",
    "x_tensor = x[np.newaxis,np.newaxis,:,:]\n",
    "node_list = [Node(x_tensor)] * 6\n",
    "mpo = MPO(node_list)\n",
    "np.linalg.norm(mpo.to_matrix() - np.kron(np.kron(np.kron(np.kron(np.kron(x,x),x),x),x),x))"
   ]
  },
  {
   "cell_type": "code",
   "execution_count": 8,
   "id": "ab0345b4",
   "metadata": {
    "ExecuteTime": {
     "end_time": "2024-08-30T22:05:23.351006Z",
     "start_time": "2024-08-30T22:05:23.059324Z"
    },
    "hidden": true
   },
   "outputs": [
    {
     "data": {
      "text/plain": [
       "0.0242083375073051"
      ]
     },
     "execution_count": 8,
     "metadata": {},
     "output_type": "execute_result"
    }
   ],
   "source": [
    "# testing @\n",
    "num_qubits = 8\n",
    "bond_dim = 10\n",
    "mpo1 = random_mpo(num_qubits, bond_dim)\n",
    "mpo2 = random_mpo(num_qubits, bond_dim)\n",
    "mat1 = mpo1.to_matrix()\n",
    "mat2 = mpo2.to_matrix()\n",
    "\n",
    "# the norm of an operator is a large number which is why this difference isn't as small as expected\n",
    "np.linalg.norm((mpo1 @ mpo2).to_matrix() - (mat1 @ mat2))/(2**(num_qubits+1))"
   ]
  },
  {
   "cell_type": "code",
   "execution_count": 9,
   "id": "4cb6c685",
   "metadata": {
    "ExecuteTime": {
     "end_time": "2024-08-30T22:05:24.932570Z",
     "start_time": "2024-08-30T22:05:24.909751Z"
    },
    "hidden": true
   },
   "outputs": [
    {
     "name": "stdout",
     "output_type": "stream",
     "text": [
      "[(1, 10, 2, 2), (10, 10, 2, 2), (10, 10, 2, 2), (10, 10, 2, 2), (10, 10, 2, 2), (10, 10, 2, 2), (10, 10, 2, 2), (10, 1, 2, 2)]\n",
      "[(1, 2, 2, 2), (2, 1, 2, 2), (1, 1, 2, 2), (1, 1, 2, 2), (1, 1, 2, 2), (1, 1, 2, 2), (1, 3, 2, 2), (3, 1, 2, 2)]\n"
     ]
    }
   ],
   "source": [
    "# testing compression with min_sv\n",
    "mpo3 = mpo1.compress(min_sv_ratio=0.01)\n",
    "print(mpo1.skeleton)\n",
    "print(mpo3.skeleton)"
   ]
  },
  {
   "cell_type": "code",
   "execution_count": 10,
   "id": "bbd8d778",
   "metadata": {
    "ExecuteTime": {
     "end_time": "2024-08-30T22:05:26.181719Z",
     "start_time": "2024-08-30T22:05:26.153498Z"
    },
    "hidden": true
   },
   "outputs": [
    {
     "data": {
      "text/plain": [
       "3271212.978032192"
      ]
     },
     "execution_count": 10,
     "metadata": {},
     "output_type": "execute_result"
    }
   ],
   "source": [
    "# how much error does compression cause?\n",
    "np.linalg.norm(mpo3.to_matrix() - mpo1.to_matrix())"
   ]
  },
  {
   "cell_type": "code",
   "execution_count": 11,
   "id": "cc511260",
   "metadata": {
    "ExecuteTime": {
     "end_time": "2024-08-30T22:05:28.119547Z",
     "start_time": "2024-08-30T22:05:28.110930Z"
    },
    "hidden": true
   },
   "outputs": [
    {
     "data": {
      "text/plain": [
       "[145059760.53574046,\n",
       " 1.4142135623730954,\n",
       " 1.0,\n",
       " 1.0000000000000002,\n",
       " 1.0,\n",
       " 0.9999999999999999,\n",
       " 1.0,\n",
       " 1.732050807568877]"
      ]
     },
     "execution_count": 11,
     "metadata": {},
     "output_type": "execute_result"
    }
   ],
   "source": [
    "# are weights unbalanced?\n",
    "mpo3.weights"
   ]
  },
  {
   "cell_type": "code",
   "execution_count": 12,
   "id": "d8169536",
   "metadata": {
    "ExecuteTime": {
     "end_time": "2024-08-30T22:05:31.591227Z",
     "start_time": "2024-08-30T22:05:31.574561Z"
    },
    "hidden": true
   },
   "outputs": [
    {
     "name": "stdout",
     "output_type": "stream",
     "text": [
      "[(1, 10, 2, 2), (10, 10, 2, 2), (10, 10, 2, 2), (10, 10, 2, 2), (10, 10, 2, 2), (10, 10, 2, 2), (10, 10, 2, 2), (10, 1, 2, 2)]\n",
      "[(1, 3, 2, 2), (3, 3, 2, 2), (3, 3, 2, 2), (3, 3, 2, 2), (3, 3, 2, 2), (3, 3, 2, 2), (3, 3, 2, 2), (3, 1, 2, 2)]\n"
     ]
    }
   ],
   "source": [
    "# testing compression with max_dim\n",
    "mpo4 = mpo1.compress(max_dim=3)\n",
    "print(mpo1.skeleton)\n",
    "print(mpo4.skeleton)"
   ]
  },
  {
   "cell_type": "code",
   "execution_count": 13,
   "id": "d1f65ae5",
   "metadata": {
    "ExecuteTime": {
     "end_time": "2024-08-30T22:05:33.494333Z",
     "start_time": "2024-08-30T22:05:33.453304Z"
    },
    "hidden": true
   },
   "outputs": [
    {
     "data": {
      "text/plain": [
       "(-1.1641532182693481e-10-2.9103830456733704e-11j)"
      ]
     },
     "execution_count": 13,
     "metadata": {},
     "output_type": "execute_result"
    }
   ],
   "source": [
    "# testing trace()\n",
    "mat1 = mpo1.to_matrix()\n",
    "mat2 = mpo2.to_matrix()\n",
    "mpo1.trace() - np.trace(mat1)/(2**(mpo1.num_nodes))"
   ]
  },
  {
   "cell_type": "code",
   "execution_count": 14,
   "id": "0af5e670",
   "metadata": {
    "ExecuteTime": {
     "end_time": "2024-08-30T22:05:35.719732Z",
     "start_time": "2024-08-30T22:05:35.694808Z"
    },
    "hidden": true
   },
   "outputs": [
    {
     "data": {
      "text/plain": [
       "-0.01171875j"
      ]
     },
     "execution_count": 14,
     "metadata": {},
     "output_type": "execute_result"
    }
   ],
   "source": [
    "(mpo1 @ mpo2).trace() - mpo1.mult_and_trace(mpo2)[0,0,0,0]"
   ]
  },
  {
   "cell_type": "code",
   "execution_count": 15,
   "id": "bec3f70c",
   "metadata": {
    "ExecuteTime": {
     "end_time": "2024-08-30T22:05:46.754833Z",
     "start_time": "2024-08-30T22:05:38.186896Z"
    },
    "hidden": true
   },
   "outputs": [
    {
     "name": "stdout",
     "output_type": "stream",
     "text": [
      "105 ms ± 1.03 ms per loop (mean ± std. dev. of 7 runs, 10 loops each)\n"
     ]
    }
   ],
   "source": [
    "%timeit (mpo1@mpo2).compress(max_dim=bond_dim).trace()"
   ]
  },
  {
   "cell_type": "code",
   "execution_count": 16,
   "id": "c5f6a54f",
   "metadata": {
    "ExecuteTime": {
     "end_time": "2024-08-30T22:05:52.920033Z",
     "start_time": "2024-08-30T22:05:51.341896Z"
    },
    "hidden": true
   },
   "outputs": [
    {
     "name": "stdout",
     "output_type": "stream",
     "text": [
      "189 µs ± 154 ns per loop (mean ± std. dev. of 7 runs, 1,000 loops each)\n"
     ]
    }
   ],
   "source": [
    "%timeit mpo1.mult_and_trace(mpo2)"
   ]
  },
  {
   "cell_type": "code",
   "execution_count": 17,
   "id": "992f3c5d",
   "metadata": {
    "ExecuteTime": {
     "end_time": "2024-08-30T22:05:57.846440Z",
     "start_time": "2024-08-30T22:05:57.827196Z"
    },
    "hidden": true
   },
   "outputs": [
    {
     "data": {
      "text/plain": [
       "0.002666040175232318"
      ]
     },
     "execution_count": 17,
     "metadata": {},
     "output_type": "execute_result"
    }
   ],
   "source": [
    "np.linalg.norm(MPO(mpo1.nodes[1:]).mult_and_trace(MPO(mpo2.nodes[1:])) - MPO(mpo1.nodes[1:]).mult_and_trace(MPO(mpo2.nodes[1:]), start='bottom'))"
   ]
  },
  {
   "cell_type": "code",
   "execution_count": 18,
   "id": "51dfc67e",
   "metadata": {
    "ExecuteTime": {
     "end_time": "2024-08-30T22:06:04.347398Z",
     "start_time": "2024-08-30T22:06:02.326720Z"
    },
    "hidden": true
   },
   "outputs": [
    {
     "name": "stdout",
     "output_type": "stream",
     "text": [
      "2.46 ms ± 133 µs per loop (mean ± std. dev. of 7 runs, 100 loops each)\n"
     ]
    }
   ],
   "source": [
    "%timeit MPO(mpo1.nodes[1:]).mult_and_trace(MPO(mpo2.nodes[1:]))"
   ]
  },
  {
   "cell_type": "code",
   "execution_count": 19,
   "id": "96bc4d1a",
   "metadata": {
    "ExecuteTime": {
     "end_time": "2024-08-30T22:06:14.272278Z",
     "start_time": "2024-08-30T22:06:12.364000Z"
    },
    "hidden": true
   },
   "outputs": [
    {
     "name": "stdout",
     "output_type": "stream",
     "text": [
      "229 µs ± 549 ns per loop (mean ± std. dev. of 7 runs, 1,000 loops each)\n"
     ]
    }
   ],
   "source": [
    "%timeit MPO(mpo1.nodes[1:]).mult_and_trace(MPO(mpo2.nodes[1:]), start='bottom')"
   ]
  },
  {
   "cell_type": "markdown",
   "id": "4fad9486",
   "metadata": {
    "heading_collapsed": true,
    "hidden": true
   },
   "source": [
    "## Known issue with compression "
   ]
  },
  {
   "cell_type": "code",
   "execution_count": 16,
   "id": "6fcaae0e",
   "metadata": {
    "ExecuteTime": {
     "end_time": "2023-07-07T02:02:45.699921Z",
     "start_time": "2023-07-07T02:02:45.686924Z"
    },
    "hidden": true
   },
   "outputs": [],
   "source": [
    "# compression changes the norm of the MPO\n",
    "# for some reason lowering bond dimension lowers the norm of the MPO \n",
    "# but throwing out sv's below some threshold raises the norm of the MPO?!\n",
    "# this could be because max_dim sets the dimension of all sites equal to each other \n",
    "# min_sv_ratio instead produces a staircase structure with the bond dimensions"
   ]
  },
  {
   "cell_type": "markdown",
   "id": "4c3c880a",
   "metadata": {},
   "source": [
    "# Model tests"
   ]
  },
  {
   "cell_type": "code",
   "execution_count": 2,
   "id": "14393d77",
   "metadata": {
    "ExecuteTime": {
     "end_time": "2024-08-30T22:09:06.182125Z",
     "start_time": "2024-08-30T22:09:06.165420Z"
    }
   },
   "outputs": [
    {
     "data": {
      "text/plain": [
       "4.965068306494546e-16"
      ]
     },
     "execution_count": 2,
     "metadata": {},
     "output_type": "execute_result"
    }
   ],
   "source": [
    "# does gate_to_nodes turn xy evolution into MPO properly?\n",
    "t = 0.1\n",
    "mat = xy_gate(t)\n",
    "node1, node2 = gate_to_nodes(mat)\n",
    "mpo = MPO([node1, node2])\n",
    "mpo_mat = mpo.to_matrix()\n",
    "np.linalg.norm(mat - mpo_mat)"
   ]
  },
  {
   "cell_type": "code",
   "execution_count": 3,
   "id": "f127c0e6",
   "metadata": {
    "ExecuteTime": {
     "end_time": "2024-08-30T22:07:38.922699Z",
     "start_time": "2024-08-30T22:07:38.730485Z"
    }
   },
   "outputs": [
    {
     "ename": "NameError",
     "evalue": "name 'xy_even_layer_mpo' is not defined",
     "output_type": "error",
     "traceback": [
      "\u001b[0;31m---------------------------------------------------------------------------\u001b[0m",
      "\u001b[0;31mNameError\u001b[0m                                 Traceback (most recent call last)",
      "Cell \u001b[0;32mIn[3], line 3\u001b[0m\n\u001b[1;32m      1\u001b[0m \u001b[38;5;66;03m# does zeroth layer have proper structure?\u001b[39;00m\n\u001b[1;32m      2\u001b[0m num_qubits \u001b[38;5;241m=\u001b[39m \u001b[38;5;241m10\u001b[39m\n\u001b[0;32m----> 3\u001b[0m zeroth_layer \u001b[38;5;241m=\u001b[39m \u001b[43mxy_even_layer_mpo\u001b[49m(num_qubits,t)\n\u001b[1;32m      4\u001b[0m zeroth_layer\u001b[38;5;241m.\u001b[39mskeleton\n",
      "\u001b[0;31mNameError\u001b[0m: name 'xy_even_layer_mpo' is not defined"
     ]
    }
   ],
   "source": [
    "# does zeroth layer have proper structure?\n",
    "num_qubits = 10\n",
    "zeroth_layer = xy_even_layer_mpo(num_qubits,t)\n",
    "zeroth_layer.skeleton"
   ]
  },
  {
   "cell_type": "code",
   "execution_count": 4,
   "id": "5c9d416f",
   "metadata": {
    "ExecuteTime": {
     "end_time": "2024-08-30T22:07:49.814735Z",
     "start_time": "2024-08-30T22:07:49.788626Z"
    }
   },
   "outputs": [
    {
     "ename": "NameError",
     "evalue": "name 'xy_odd_layer_mpo' is not defined",
     "output_type": "error",
     "traceback": [
      "\u001b[0;31m---------------------------------------------------------------------------\u001b[0m",
      "\u001b[0;31mNameError\u001b[0m                                 Traceback (most recent call last)",
      "Cell \u001b[0;32mIn[4], line 2\u001b[0m\n\u001b[1;32m      1\u001b[0m \u001b[38;5;66;03m# does first layer have proper structure?\u001b[39;00m\n\u001b[0;32m----> 2\u001b[0m first_layer \u001b[38;5;241m=\u001b[39m \u001b[43mxy_odd_layer_mpo\u001b[49m(num_qubits,t)\n\u001b[1;32m      3\u001b[0m first_layer\u001b[38;5;241m.\u001b[39mskeleton\n",
      "\u001b[0;31mNameError\u001b[0m: name 'xy_odd_layer_mpo' is not defined"
     ]
    }
   ],
   "source": [
    "# does first layer have proper structure?\n",
    "first_layer = xy_odd_layer_mpo(num_qubits,t)\n",
    "first_layer.skeleton"
   ]
  },
  {
   "cell_type": "code",
   "execution_count": 3,
   "id": "88093465",
   "metadata": {
    "ExecuteTime": {
     "end_time": "2024-08-30T22:09:07.789459Z",
     "start_time": "2024-08-30T22:09:07.364368Z"
    }
   },
   "outputs": [
    {
     "name": "stderr",
     "output_type": "stream",
     "text": [
      "100%|███████████████████████████████████████████| 10/10 [00:00<00:00, 26.16it/s]\n"
     ]
    }
   ],
   "source": [
    "num_qubits = 4\n",
    "t = 0.1\n",
    "exact_operator = expm(1.j * t * xy_ham(num_qubits))\n",
    "errors_16 = []\n",
    "for i in tqdm(range(1,50,5)):\n",
    "    evolution_operator = xy_mpo(num_qubits,t,num_trotter_layers=i,max_dim=16)\n",
    "    errors_16.append(1-np.trace(exact_operator.conj().T @ evolution_operator.to_matrix()).real/(2**num_qubits))"
   ]
  },
  {
   "cell_type": "code",
   "execution_count": 4,
   "id": "57537fe1",
   "metadata": {
    "ExecuteTime": {
     "end_time": "2024-08-30T22:09:11.462607Z",
     "start_time": "2024-08-30T22:09:11.334175Z"
    }
   },
   "outputs": [
    {
     "data": {
      "text/plain": [
       "[<matplotlib.lines.Line2D at 0x7f85c9d2aca0>]"
      ]
     },
     "execution_count": 4,
     "metadata": {},
     "output_type": "execute_result"
    },
    {
     "data": {
      "image/png": "[encoded data removed]",
      "text/plain": [
       "<Figure size 640x480 with 1 Axes>"
      ]
     },
     "metadata": {},
     "output_type": "display_data"
    }
   ],
   "source": [
    "plt.plot(errors_16)"
   ]
  },
  {
   "cell_type": "code",
   "execution_count": 5,
   "id": "3de181a9",
   "metadata": {
    "ExecuteTime": {
     "end_time": "2024-08-30T22:09:37.120733Z",
     "start_time": "2024-08-30T22:09:20.702537Z"
    }
   },
   "outputs": [
    {
     "name": "stderr",
     "output_type": "stream",
     "text": [
      "100%|███████████████████████████████████████████| 10/10 [00:15<00:00,  1.56s/it]\n"
     ]
    }
   ],
   "source": [
    "num_qubits = 10\n",
    "t = 0.1\n",
    "exact_operator = expm(1.j * t * xy_ham(num_qubits))\n",
    "errors_16 = []\n",
    "for i in tqdm(range(1,50,5)):\n",
    "    evolution_operator = xy_mpo(num_qubits,t,num_trotter_layers=i,max_dim=16)\n",
    "    errors_16.append(1-np.trace(exact_operator.conj().T @ evolution_operator.to_matrix()).real/(2**num_qubits))"
   ]
  },
  {
   "cell_type": "code",
   "execution_count": 30,
   "id": "da606896",
   "metadata": {
    "ExecuteTime": {
     "end_time": "2023-07-07T02:08:52.966874Z",
     "start_time": "2023-07-07T02:05:03.553671Z"
    }
   },
   "outputs": [
    {
     "name": "stderr",
     "output_type": "stream",
     "text": [
      "100%|██████████████████████████████████████████████████████████████████████████████████| 10/10 [03:48<00:00, 22.82s/it]\n"
     ]
    }
   ],
   "source": [
    "num_qubits = 10\n",
    "t = 0.1\n",
    "exact_operator = expm(1.j * t * xy_ham(num_qubits))\n",
    "errors_64 = []\n",
    "for i in tqdm(range(1,50,5)):\n",
    "    evolution_operator = xy_mpo(num_qubits,t,num_trotter_layers=i,max_dim=64)\n",
    "    errors_64.append(np.linalg.norm(exact_operator - evolution_operator.to_matrix()))"
   ]
  },
  {
   "cell_type": "code",
   "execution_count": 6,
   "id": "f6ede065",
   "metadata": {
    "ExecuteTime": {
     "end_time": "2024-08-30T22:09:47.186936Z",
     "start_time": "2024-08-30T22:09:47.178037Z"
    }
   },
   "outputs": [
    {
     "data": {
      "text/plain": [
       "[0.0007870037051582734,\n",
       " 2.1696355080425e-05,\n",
       " 6.454136801448129e-06,\n",
       " 3.0504850236923176e-06,\n",
       " 1.7707806734268416e-06,\n",
       " 1.15519156629329e-06,\n",
       " 8.125981082462985e-07,\n",
       " 6.025503633821927e-07,\n",
       " 4.645472895248304e-07,\n",
       " 3.6904717903851747e-07]"
      ]
     },
     "execution_count": 6,
     "metadata": {},
     "output_type": "execute_result"
    }
   ],
   "source": [
    "errors_16#, errors_64"
   ]
  },
  {
   "cell_type": "code",
   "execution_count": 32,
   "id": "25b081ce",
   "metadata": {
    "ExecuteTime": {
     "end_time": "2023-07-07T02:08:57.672024Z",
     "start_time": "2023-07-07T02:08:57.501310Z"
    }
   },
   "outputs": [
    {
     "data": {
      "text/plain": [
       "<matplotlib.legend.Legend at 0x1a718124fd0>"
      ]
     },
     "execution_count": 32,
     "metadata": {},
     "output_type": "execute_result"
    },
    {
     "data": {
      "image/png": "[encoded data removed]",
      "text/plain": [
       "<Figure size 432x288 with 1 Axes>"
      ]
     },
     "metadata": {
      "needs_background": "light"
     },
     "output_type": "display_data"
    }
   ],
   "source": [
    "plt.plot(np.arange(1,50,5), errors_16, label='max bond dim = 16')\n",
    "plt.plot(np.arange(1,50,5), errors_64, label='max bond dim = 64')\n",
    "plt.xlabel('number of Trotter layers')\n",
    "plt.ylabel('error')\n",
    "plt.title('t=0.1')\n",
    "plt.legend(loc='best')"
   ]
  },
  {
   "cell_type": "code",
   "execution_count": 7,
   "id": "26eca874",
   "metadata": {
    "ExecuteTime": {
     "end_time": "2024-08-30T22:10:11.763816Z",
     "start_time": "2024-08-30T22:10:07.570419Z"
    }
   },
   "outputs": [
    {
     "name": "stderr",
     "output_type": "stream",
     "text": [
      "100%|████████████████████████████████████████████| 5/5 [00:00<00:00, 224.25it/s]\n"
     ]
    },
    {
     "name": "stdout",
     "output_type": "stream",
     "text": [
      "1.3322676295501878e-15 6.661338147750939e-16 1\n"
     ]
    },
    {
     "name": "stderr",
     "output_type": "stream",
     "text": [
      "100%|█████████████████████████████████████████████| 5/5 [00:00<00:00, 93.07it/s]\n"
     ]
    },
    {
     "name": "stdout",
     "output_type": "stream",
     "text": [
      "0.008815300822119855 0.0022038252055299637 9\n"
     ]
    },
    {
     "name": "stderr",
     "output_type": "stream",
     "text": [
      "100%|█████████████████████████████████████████████| 5/5 [00:00<00:00, 17.71it/s]\n"
     ]
    },
    {
     "name": "stdout",
     "output_type": "stream",
     "text": [
      "0.02487175383845477 0.0031089692298068464 9\n"
     ]
    },
    {
     "name": "stderr",
     "output_type": "stream",
     "text": [
      "100%|█████████████████████████████████████████████| 5/5 [00:00<00:00,  6.15it/s]\n"
     ]
    },
    {
     "name": "stdout",
     "output_type": "stream",
     "text": [
      "0.0608726320643608 0.0038045395040225503 9\n"
     ]
    },
    {
     "name": "stderr",
     "output_type": "stream",
     "text": [
      "100%|█████████████████████████████████████████████| 5/5 [00:02<00:00,  2.28it/s]"
     ]
    },
    {
     "name": "stdout",
     "output_type": "stream",
     "text": [
      "0.14052096162736138 0.00439128005085505 9\n"
     ]
    },
    {
     "name": "stderr",
     "output_type": "stream",
     "text": [
      "\n"
     ]
    }
   ],
   "source": [
    "# for a fixed bond dimension and t what if I increase system size?\n",
    "max_dim = 20\n",
    "t = 0.1\n",
    "\n",
    "min_err = []\n",
    "min_err_normalized = []\n",
    "opt_r = []\n",
    "for num_qubits in range(2,12,2):\n",
    "    exact_operator = expm(1.j * t * xy_ham(num_qubits))\n",
    "    errors_20 = []\n",
    "    for i in tqdm(range(1,10,2)):\n",
    "        evolution_operator = xy_mpo(num_qubits,t,num_trotter_layers=i,max_dim=20)\n",
    "        errors_20.append(np.linalg.norm(exact_operator - evolution_operator.to_matrix()))\n",
    "        \n",
    "    err = min(errors_20)\n",
    "    min_err.append(err)\n",
    "    min_err_normalized.append(err/np.linalg.norm(exact_operator))\n",
    "    opt_r.append(np.arange(1,50,2)[errors_20.index(err)])\n",
    "    \n",
    "    \n",
    "    print(min_err[-1], min_err_normalized[-1] ,opt_r[-1])"
   ]
  },
  {
   "cell_type": "code",
   "execution_count": 8,
   "id": "2aac67d6",
   "metadata": {
    "ExecuteTime": {
     "end_time": "2024-08-30T22:10:21.703829Z",
     "start_time": "2024-08-30T22:10:21.585428Z"
    }
   },
   "outputs": [
    {
     "data": {
      "text/plain": [
       "Text(0.5, 0, 'number of qubits')"
      ]
     },
     "execution_count": 8,
     "metadata": {},
     "output_type": "execute_result"
    },
    {
     "data": {
      "image/png": "[encoded data removed]",
      "text/plain": [
       "<Figure size 640x480 with 1 Axes>"
      ]
     },
     "metadata": {},
     "output_type": "display_data"
    }
   ],
   "source": [
    "plt.plot(np.arange(2,12,2), min_err_normalized)\n",
    "plt.ylabel('normalized error')\n",
    "plt.xlabel('number of qubits')"
   ]
  },
  {
   "cell_type": "code",
   "execution_count": 9,
   "id": "345c7f4a",
   "metadata": {
    "ExecuteTime": {
     "end_time": "2024-08-30T22:10:42.024955Z",
     "start_time": "2024-08-30T22:10:38.254204Z"
    }
   },
   "outputs": [],
   "source": [
    "# using large bond dimension MPO as a benchmark to find optimal r\n",
    "num_qubits = 10\n",
    "t = 0.1\n",
    "benchmark_mpo = xy_mpo(num_qubits, t, num_trotter_layers=20, max_dim=100)"
   ]
  },
  {
   "cell_type": "code",
   "execution_count": 10,
   "id": "a3462c0b",
   "metadata": {
    "ExecuteTime": {
     "end_time": "2024-08-30T22:10:44.713295Z",
     "start_time": "2024-08-30T22:10:44.496829Z"
    }
   },
   "outputs": [
    {
     "name": "stderr",
     "output_type": "stream",
     "text": [
      "  0%|                                                     | 0/6 [00:00<?, ?it/s]\n"
     ]
    },
    {
     "ename": "AttributeError",
     "evalue": "'MPO' object has no attribute 'normalized_trace'",
     "output_type": "error",
     "traceback": [
      "\u001b[0;31m---------------------------------------------------------------------------\u001b[0m",
      "\u001b[0;31mAttributeError\u001b[0m                            Traceback (most recent call last)",
      "Cell \u001b[0;32mIn[10], line 4\u001b[0m\n\u001b[1;32m      2\u001b[0m \u001b[38;5;28;01mfor\u001b[39;00m i \u001b[38;5;129;01min\u001b[39;00m tqdm(\u001b[38;5;28mrange\u001b[39m(\u001b[38;5;241m1\u001b[39m,\u001b[38;5;241m12\u001b[39m,\u001b[38;5;241m2\u001b[39m)):\n\u001b[1;32m      3\u001b[0m     evolution_operator \u001b[38;5;241m=\u001b[39m xy_mpo(num_qubits,t,num_trotter_layers\u001b[38;5;241m=\u001b[39mi,max_dim\u001b[38;5;241m=\u001b[39m\u001b[38;5;241m16\u001b[39m)\n\u001b[0;32m----> 4\u001b[0m     errors_16\u001b[38;5;241m.\u001b[39mappend(\u001b[38;5;241m1\u001b[39m\u001b[38;5;241m-\u001b[39m\u001b[43m(\u001b[49m\u001b[43mevolution_operator\u001b[49m\u001b[38;5;241;43m.\u001b[39;49m\u001b[43mconj\u001b[49m\u001b[43m(\u001b[49m\u001b[43m)\u001b[49m\u001b[43m \u001b[49m\u001b[38;5;241;43m@\u001b[39;49m\u001b[43m \u001b[49m\u001b[43mbenchmark_mpo\u001b[49m\u001b[43m)\u001b[49m\u001b[38;5;241;43m.\u001b[39;49m\u001b[43mnormalized_trace\u001b[49m()\u001b[38;5;241m.\u001b[39mreal)\n",
      "\u001b[0;31mAttributeError\u001b[0m: 'MPO' object has no attribute 'normalized_trace'"
     ]
    }
   ],
   "source": [
    "errors_16 = []\n",
    "for i in tqdm(range(1,12,2)):\n",
    "    evolution_operator = xy_mpo(num_qubits,t,num_trotter_layers=i,max_dim=16)\n",
    "    errors_16.append(1-(evolution_operator.conj() @ benchmark_mpo).normalized_trace().real)"
   ]
  },
  {
   "cell_type": "code",
   "execution_count": 41,
   "id": "6f7ec0d2",
   "metadata": {
    "ExecuteTime": {
     "end_time": "2023-07-07T02:11:01.899067Z",
     "start_time": "2023-07-07T02:11:01.773389Z"
    }
   },
   "outputs": [
    {
     "data": {
      "text/plain": [
       "[<matplotlib.lines.Line2D at 0x1a7182684c0>]"
      ]
     },
     "execution_count": 41,
     "metadata": {},
     "output_type": "execute_result"
    },
    {
     "data": {
      "image/png": "[encoded data removed]",
      "text/plain": [
       "<Figure size 432x288 with 1 Axes>"
      ]
     },
     "metadata": {
      "needs_background": "light"
     },
     "output_type": "display_data"
    }
   ],
   "source": [
    "plt.plot(np.arange(1,12,2), errors_16)"
   ]
  },
  {
   "cell_type": "code",
   "execution_count": 45,
   "id": "27ffe55f",
   "metadata": {
    "ExecuteTime": {
     "end_time": "2023-07-07T02:11:42.852251Z",
     "start_time": "2023-07-07T02:11:39.912477Z"
    }
   },
   "outputs": [
    {
     "name": "stdout",
     "output_type": "stream",
     "text": [
      "0.5284167762721639\n"
     ]
    }
   ],
   "source": [
    "# if we already have the benchmark_mpo, why not truncate it? does it give worse result than truncating while constructing mpo?\n",
    "truncated_benchmark_mpo = benchmark_mpo.compress_symmetric(max_dim=16)\n",
    "print(1-(truncated_benchmark_mpo.conj() @ benchmark_mpo).normalized_trace().real)"
   ]
  },
  {
   "cell_type": "code",
   "execution_count": 46,
   "id": "35d762cd",
   "metadata": {
    "ExecuteTime": {
     "end_time": "2023-07-07T02:12:09.124705Z",
     "start_time": "2023-07-07T02:12:08.890626Z"
    }
   },
   "outputs": [
    {
     "data": {
      "text/plain": [
       "0.011357806324581735"
      ]
     },
     "execution_count": 46,
     "metadata": {},
     "output_type": "execute_result"
    }
   ],
   "source": [
    "np.linalg.norm(truncated_benchmark_mpo.to_matrix() - exact_operator) / (2**(num_qubits+1))"
   ]
  },
  {
   "cell_type": "code",
   "execution_count": 47,
   "id": "87f8df29",
   "metadata": {
    "ExecuteTime": {
     "end_time": "2023-07-07T02:12:12.318676Z",
     "start_time": "2023-07-07T02:12:11.999643Z"
    }
   },
   "outputs": [
    {
     "data": {
      "text/plain": [
       "0.00021609102980783517"
      ]
     },
     "execution_count": 47,
     "metadata": {},
     "output_type": "execute_result"
    }
   ],
   "source": [
    "evolution_operator = xy_mpo(num_qubits,t,num_trotter_layers=3,max_dim=16)\n",
    "np.linalg.norm(evolution_operator.to_matrix() - exact_operator) / (2**(num_qubits+1))"
   ]
  },
  {
   "cell_type": "code",
   "execution_count": null,
   "id": "ae233e36",
   "metadata": {
    "ExecuteTime": {
     "end_time": "2023-06-04T14:56:24.529344Z",
     "start_time": "2023-06-04T14:56:24.522397Z"
    }
   },
   "outputs": [],
   "source": [
    "### future developments: higher order Trotter (easy to implement) and Taylor expansion"
   ]
  },
  {
   "cell_type": "markdown",
   "id": "c596a5ab",
   "metadata": {
    "heading_collapsed": true
   },
   "source": [
    "# Givens Ansatz"
   ]
  },
  {
   "cell_type": "code",
   "execution_count": 2,
   "id": "7e3c33ab",
   "metadata": {
    "ExecuteTime": {
     "end_time": "2023-08-23T02:09:55.243391Z",
     "start_time": "2023-08-23T02:09:55.192103Z"
    },
    "hidden": true
   },
   "outputs": [
    {
     "data": {
      "text/plain": [
       "([(1, 1, 2, 2), (1, 1, 2, 2), (1, 1, 2, 2), (1, 1, 2, 2)],\n",
       " [(1, 4, 2, 2), (4, 1, 2, 2), (1, 4, 2, 2), (4, 1, 2, 2)],\n",
       " [(1, 1, 2, 2), (1, 4, 2, 2), (4, 1, 2, 2), (1, 1, 2, 2)])"
      ]
     },
     "execution_count": 2,
     "metadata": {},
     "output_type": "execute_result"
    }
   ],
   "source": [
    "num_qubits = 4\n",
    "t = 0.1\n",
    "angles = np.random.rand(num_qubits) * 2 * np.pi\n",
    "layer_params = np.random.rand(num_qubits-1) * 2*np.pi\n",
    "d = Rotation_MPO(t, angles)\n",
    "even_stack, odd_stack = Brickwall_MPO(layer_params[0:num_qubits//2], 0), Brickwall_MPO(layer_params[num_qubits//2:num_qubits-1], 1)\n",
    "d.skeleton, even_stack.skeleton, odd_stack.skeleton"
   ]
  },
  {
   "cell_type": "code",
   "execution_count": 4,
   "id": "5982172e",
   "metadata": {
    "ExecuteTime": {
     "end_time": "2023-08-23T02:10:01.122505Z",
     "start_time": "2023-08-23T02:10:01.113891Z"
    },
    "hidden": true
   },
   "outputs": [
    {
     "data": {
      "text/plain": [
       "[<ansatz.Rotation_MPO at 0x21fbde49c10>,\n",
       " <ansatz.Brickwall_MPO at 0x21fd0e19a30>,\n",
       " <ansatz.Brickwall_MPO at 0x21fd0e19ca0>,\n",
       " <ansatz.Brickwall_MPO at 0x21fd0e19730>,\n",
       " <ansatz.Brickwall_MPO at 0x21fd0e19d00>]"
      ]
     },
     "execution_count": 4,
     "metadata": {},
     "output_type": "execute_result"
    }
   ],
   "source": [
    "num_w_layers = 2\n",
    "params = np.random.rand(num_w_layers, num_qubits-1)\n",
    "ansatz = Ansatz(t, angles, params)\n",
    "ansatz.param_mpo_stacks"
   ]
  },
  {
   "cell_type": "code",
   "execution_count": 5,
   "id": "cb80f641",
   "metadata": {
    "ExecuteTime": {
     "end_time": "2023-08-23T02:10:01.749377Z",
     "start_time": "2023-08-23T02:10:01.703377Z"
    },
    "hidden": true
   },
   "outputs": [
    {
     "data": {
      "text/plain": [
       "7.921371667627419e-15"
      ]
     },
     "execution_count": 5,
     "metadata": {},
     "output_type": "execute_result"
    }
   ],
   "source": [
    "ansatz_mat = ansatz.mpo().to_matrix()\n",
    "actual_mpos = ansatz.param_mpo_stacks\n",
    "\n",
    "actual_mats = [mpo.to_matrix() for mpo in actual_mpos]\n",
    "w = actual_mats[4] @ actual_mats[3] @ actual_mats[2] @ actual_mats[1]\n",
    "ansatz_mat_actual = w @ actual_mats[0] @ w.conj().T\n",
    "np.linalg.norm(ansatz_mat - ansatz_mat_actual)"
   ]
  },
  {
   "cell_type": "code",
   "execution_count": 6,
   "id": "e534dd20",
   "metadata": {
    "ExecuteTime": {
     "end_time": "2023-08-23T02:10:02.372679Z",
     "start_time": "2023-08-23T02:10:02.277144Z"
    },
    "hidden": true
   },
   "outputs": [
    {
     "data": {
      "text/plain": [
       "8.301691874513868e-15"
      ]
     },
     "execution_count": 6,
     "metadata": {},
     "output_type": "execute_result"
    }
   ],
   "source": [
    "w_mpo = actual_mpos[4] @ actual_mpos[3] @ actual_mpos[2] @ actual_mpos[1]\n",
    "np.linalg.norm(ansatz.mpo().to_matrix() - (w_mpo @ actual_mpos[0] @ w_mpo.conj()).to_matrix())"
   ]
  },
  {
   "cell_type": "markdown",
   "id": "011e6dd0",
   "metadata": {
    "heading_collapsed": true
   },
   "source": [
    "# General Ansatz"
   ]
  },
  {
   "cell_type": "code",
   "execution_count": 7,
   "id": "91909320",
   "metadata": {
    "ExecuteTime": {
     "end_time": "2023-08-23T02:10:04.526649Z",
     "start_time": "2023-08-23T02:10:04.504612Z"
    },
    "hidden": true
   },
   "outputs": [
    {
     "data": {
      "text/plain": [
       "([(1, 1, 2, 2), (1, 1, 2, 2), (1, 1, 2, 2), (1, 1, 2, 2)],\n",
       " [(1, 4, 2, 2), (4, 1, 2, 2), (1, 4, 2, 2), (4, 1, 2, 2)],\n",
       " [(1, 1, 2, 2), (1, 4, 2, 2), (4, 1, 2, 2), (1, 1, 2, 2)])"
      ]
     },
     "execution_count": 7,
     "metadata": {},
     "output_type": "execute_result"
    }
   ],
   "source": [
    "num_qubits = 4\n",
    "t = 0.1\n",
    "angles = np.random.rand(num_qubits) * 2 * np.pi\n",
    "layer_params = np.random.rand(num_qubits-1,15) * 2*np.pi\n",
    "d = Rotation_MPO(t, angles)\n",
    "even_stack, odd_stack = Brickwall_MPO(layer_params[0:num_qubits//2], 0), Brickwall_MPO(layer_params[num_qubits//2:num_qubits-1], 1)\n",
    "d.skeleton, even_stack.skeleton, odd_stack.skeleton"
   ]
  },
  {
   "cell_type": "code",
   "execution_count": 8,
   "id": "50b94161",
   "metadata": {
    "ExecuteTime": {
     "end_time": "2023-08-23T02:10:09.915925Z",
     "start_time": "2023-08-23T02:10:09.891927Z"
    },
    "hidden": true
   },
   "outputs": [
    {
     "data": {
      "text/plain": [
       "[<ansatz.Rotation_MPO at 0x21fd0e35070>,\n",
       " <ansatz.Brickwall_MPO at 0x21fd0e353a0>,\n",
       " <ansatz.Brickwall_MPO at 0x21fbdd88670>,\n",
       " <ansatz.Brickwall_MPO at 0x21fd0e359a0>,\n",
       " <ansatz.Brickwall_MPO at 0x21fd0e35d90>]"
      ]
     },
     "execution_count": 8,
     "metadata": {},
     "output_type": "execute_result"
    }
   ],
   "source": [
    "num_w_layers = 2\n",
    "params = np.random.rand(num_w_layers, num_qubits-1, 15)\n",
    "ansatz = Ansatz(t, angles, params)\n",
    "ansatz.param_mpo_stacks"
   ]
  },
  {
   "cell_type": "code",
   "execution_count": 9,
   "id": "2a2b42e6",
   "metadata": {
    "ExecuteTime": {
     "end_time": "2023-08-23T02:10:10.642107Z",
     "start_time": "2023-08-23T02:10:10.617740Z"
    },
    "hidden": true
   },
   "outputs": [
    {
     "data": {
      "text/plain": [
       "2.2400451819114726e-14"
      ]
     },
     "execution_count": 9,
     "metadata": {},
     "output_type": "execute_result"
    }
   ],
   "source": [
    "ansatz_mat = ansatz.mpo().to_matrix()\n",
    "actual_mpos = ansatz.param_mpo_stacks\n",
    "\n",
    "actual_mats = [mpo.to_matrix() for mpo in actual_mpos]\n",
    "w = actual_mats[4] @ actual_mats[3] @ actual_mats[2] @ actual_mats[1]\n",
    "ansatz_mat_actual = w @ actual_mats[0] @ w.conj().T\n",
    "np.linalg.norm(ansatz_mat - ansatz_mat_actual)"
   ]
  },
  {
   "cell_type": "code",
   "execution_count": 10,
   "id": "0c8b0aab",
   "metadata": {
    "ExecuteTime": {
     "end_time": "2023-08-23T02:10:11.601983Z",
     "start_time": "2023-08-23T02:10:11.512266Z"
    },
    "hidden": true
   },
   "outputs": [
    {
     "data": {
      "text/plain": [
       "2.2693286638488284e-14"
      ]
     },
     "execution_count": 10,
     "metadata": {},
     "output_type": "execute_result"
    }
   ],
   "source": [
    "w_mpo = actual_mpos[4] @ actual_mpos[3] @ actual_mpos[2] @ actual_mpos[1]\n",
    "np.linalg.norm(ansatz.mpo().to_matrix() - (w_mpo @ actual_mpos[0] @ w_mpo.conj()).to_matrix())"
   ]
  },
  {
   "cell_type": "code",
   "execution_count": 11,
   "id": "f2c043b7",
   "metadata": {
    "ExecuteTime": {
     "end_time": "2023-08-23T02:10:12.780987Z",
     "start_time": "2023-08-23T02:10:12.760090Z"
    },
    "hidden": true
   },
   "outputs": [
    {
     "data": {
      "text/plain": [
       "array([[[[-0.60425183+0.0347535j ,  0.25841985+0.25863314j],\n",
       "         [-0.30354003-0.20380228j, -0.08220996-0.59964123j]],\n",
       "\n",
       "        [[ 0.03462339-0.6647746j , -0.16366957+0.17345956j],\n",
       "         [-0.16946908+0.16779803j, -0.6637484 +0.05061726j]],\n",
       "\n",
       "        [[ 0.04916656+0.23328639j, -0.3178323 +0.58492969j],\n",
       "         [ 0.05746338+0.66321797j,  0.1383363 -0.19417249j]],\n",
       "\n",
       "        [[-0.25858304-0.25853973j,  0.03445197-0.60423926j],\n",
       "         [ 0.32957862+0.50761201j,  0.09632521-0.35274557j]]]])"
      ]
     },
     "execution_count": 11,
     "metadata": {},
     "output_type": "execute_result"
    }
   ],
   "source": [
    "ansatz.param_mpo_stacks[1].nodes[0].data"
   ]
  },
  {
   "cell_type": "markdown",
   "id": "20627bfd",
   "metadata": {
    "heading_collapsed": true
   },
   "source": [
    "# Givens environments"
   ]
  },
  {
   "cell_type": "markdown",
   "id": "ecc9f27c",
   "metadata": {
    "heading_collapsed": true,
    "hidden": true
   },
   "source": [
    "## Stack environments "
   ]
  },
  {
   "cell_type": "code",
   "execution_count": 5,
   "id": "576389bb",
   "metadata": {
    "ExecuteTime": {
     "end_time": "2023-09-11T16:40:41.692388Z",
     "start_time": "2023-09-11T16:40:41.596388Z"
    },
    "hidden": true
   },
   "outputs": [],
   "source": [
    "num_qubits = 4\n",
    "t = 0.1\n",
    "num_w_layers = 4\n",
    "angles = np.random.rand(num_qubits) * 2 * np.pi\n",
    "params = np.random.rand(num_w_layers, num_qubits-1)\n",
    "ansatz = Ansatz(t, angles, params)\n",
    "target_mpo = xy_mpo(num_qubits, t, 5)"
   ]
  },
  {
   "cell_type": "code",
   "execution_count": 6,
   "id": "346e355b",
   "metadata": {
    "ExecuteTime": {
     "end_time": "2023-09-11T16:40:43.162386Z",
     "start_time": "2023-09-11T16:40:42.718381Z"
    },
    "hidden": true
   },
   "outputs": [
    {
     "data": {
      "text/plain": [
       "(-5.329070518200751e-15+2.192690473634684e-15j)"
      ]
     },
     "execution_count": 6,
     "metadata": {},
     "output_type": "execute_result"
    }
   ],
   "source": [
    "# testing environment of rz stack (noiseless)\n",
    "stack_idx = 0\n",
    "env1, env2 = stack_env(ansatz, target_mpo, stack_idx)\n",
    "env1.mult_and_trace(ansatz.param_mpo_stacks[0])[0,0,0,0] - np.trace(ansatz.mpo().to_matrix() @ target_mpo.conj().to_matrix())/(2**num_qubits)"
   ]
  },
  {
   "cell_type": "code",
   "execution_count": 7,
   "id": "c2da8045",
   "metadata": {
    "ExecuteTime": {
     "end_time": "2023-09-11T16:40:48.556384Z",
     "start_time": "2023-09-11T16:40:44.463407Z"
    },
    "hidden": true
   },
   "outputs": [
    {
     "name": "stdout",
     "output_type": "stream",
     "text": [
      "(-6.439293542825908e-15+2.1718737919229625e-15j)\n",
      "(-5.773159728050814e-15+2.3800406090401793e-15j)\n",
      "(-3.552713678800501e-15+2.033095913844818e-15j)\n",
      "(-2.220446049250313e-15+2.1441182163073336e-15j)\n",
      "(-1.9984014443252818e-15+1.5474275506799362e-15j)\n",
      "(1.1102230246251565e-16-4.537386091851836e-17j)\n",
      "(-3.3306690738754696e-16-3.469446951953614e-17j)\n",
      "(-2.220446049250313e-16-1.0408340855860843e-16j)\n"
     ]
    }
   ],
   "source": [
    "# testing environment of givens stacks (noiseless)\n",
    "for stack_idx in range(1, ansatz.num_stacks):\n",
    "    env1, env2 = stack_env(ansatz, target_mpo, stack_idx)\n",
    "    print((env1 @ ansatz.param_mpo_stacks[stack_idx] @ env2 @ ansatz.param_mpo_stacks[stack_idx].conj()).trace() - np.trace(ansatz.mpo().to_matrix() @ target_mpo.conj().to_matrix())/(2**num_qubits))"
   ]
  },
  {
   "cell_type": "code",
   "execution_count": 8,
   "id": "b2f51f37",
   "metadata": {
    "ExecuteTime": {
     "end_time": "2023-09-11T16:41:39.186383Z",
     "start_time": "2023-09-11T16:41:38.962388Z"
    },
    "hidden": true
   },
   "outputs": [
    {
     "data": {
      "text/plain": [
       "(0.0012797137196201014+0.0002938839335088206j)"
      ]
     },
     "execution_count": 8,
     "metadata": {},
     "output_type": "execute_result"
    }
   ],
   "source": [
    "# testing environment of rz stack (noisy)\n",
    "stack_idx = 0\n",
    "max_dim = 10\n",
    "env1, env2 = stack_env(ansatz, target_mpo, stack_idx, max_dim=max_dim)\n",
    "env1.mult_and_trace(ansatz.param_mpo_stacks[0])[0,0,0,0] - np.trace(ansatz.mpo().to_matrix() @ target_mpo.conj().to_matrix())/(2**num_qubits)"
   ]
  },
  {
   "cell_type": "code",
   "execution_count": 9,
   "id": "acb138ca",
   "metadata": {
    "ExecuteTime": {
     "end_time": "2023-09-11T16:42:15.146928Z",
     "start_time": "2023-09-11T16:42:12.240924Z"
    },
    "hidden": true
   },
   "outputs": [
    {
     "name": "stdout",
     "output_type": "stream",
     "text": [
      "(0.0012797137196201014+0.0002938839335087616j)\n",
      "(0.0012552702765098456+0.0002697738970225197j)\n",
      "(0.0012623316642313975+0.00029758435312850565j)\n",
      "(0.0010971666880974507+0.00029758675623800523j)\n",
      "(0.001182107949659894+0.0002741919999254713j)\n",
      "(0.00020943124704220217+1.0828842789728467e-05j)\n",
      "(0.0002536071897488723-1.3037121658905637e-05j)\n",
      "(0.00019259602843901824-5.246590258026901e-05j)\n"
     ]
    }
   ],
   "source": [
    "# testing environment of givens stacks (noiseless)\n",
    "max_dim = 10\n",
    "for stack_idx in range(1, ansatz.num_stacks):\n",
    "    env1, env2 = stack_env(ansatz, target_mpo, stack_idx, max_dim=max_dim)\n",
    "    print((env1 @ ansatz.param_mpo_stacks[stack_idx] @ env2 @ ansatz.param_mpo_stacks[stack_idx].conj()).trace() - np.trace(ansatz.mpo().to_matrix() @ target_mpo.conj().to_matrix())/(2**num_qubits))"
   ]
  },
  {
   "cell_type": "markdown",
   "id": "6d87376b",
   "metadata": {
    "heading_collapsed": true,
    "hidden": true
   },
   "source": [
    "## Building environments from left and right "
   ]
  },
  {
   "cell_type": "code",
   "execution_count": 15,
   "id": "3c5ce8f0",
   "metadata": {
    "ExecuteTime": {
     "end_time": "2023-08-23T02:14:02.940234Z",
     "start_time": "2023-08-23T02:14:02.916234Z"
    },
    "hidden": true
   },
   "outputs": [],
   "source": [
    "num_qubits = 4\n",
    "num_w_layers = 4\n",
    "t = 0.1\n",
    "\n",
    "angles = np.asarray(np.random.rand(num_qubits))\n",
    "params = np.asarray(np.random.rand(num_w_layers, num_qubits-1)) \n",
    "ansatz = Ansatz(t, angles, params)\n",
    "num_trotter_steps = 5\n",
    "target_mpo = xy_mpo(num_qubits, t, num_trotter_steps)"
   ]
  },
  {
   "cell_type": "code",
   "execution_count": 16,
   "id": "d792b9d0",
   "metadata": {
    "ExecuteTime": {
     "end_time": "2023-08-23T02:14:04.952248Z",
     "start_time": "2023-08-23T02:14:04.683769Z"
    },
    "hidden": true
   },
   "outputs": [
    {
     "name": "stdout",
     "output_type": "stream",
     "text": [
      "0.0\n",
      "0.0\n",
      "0.0\n",
      "0.0\n",
      "0.0\n",
      "0.0\n",
      "0.0\n",
      "0.0\n"
     ]
    }
   ],
   "source": [
    "left_envs, right_envs = all_stack_envs(ansatz, target_mpo)\n",
    "for i in range(1, ansatz.num_stacks): \n",
    "    old_stack_idx = i\n",
    "    target_stack_idx = old_stack_idx - 1\n",
    "    num_stacks = ansatz.num_stacks\n",
    "    cur_right_env = right_envs[old_stack_idx]\n",
    "    new_stack = ansatz.param_mpo_stacks[old_stack_idx]\n",
    "    new_env = build_right_env(cur_right_env, new_stack)\n",
    "    print(np.linalg.norm(new_env.to_matrix() - right_envs[target_stack_idx].to_matrix()))"
   ]
  },
  {
   "cell_type": "code",
   "execution_count": 17,
   "id": "4adb4aa4",
   "metadata": {
    "ExecuteTime": {
     "end_time": "2023-08-23T02:14:11.255897Z",
     "start_time": "2023-08-23T02:14:11.204473Z"
    },
    "hidden": true
   },
   "outputs": [
    {
     "name": "stdout",
     "output_type": "stream",
     "text": [
      "0.0\n",
      "0.0\n",
      "0.0\n",
      "0.0\n",
      "0.0\n",
      "0.0\n",
      "0.0\n",
      "0.0\n"
     ]
    }
   ],
   "source": [
    "for old_stack_idx in range(ansatz.num_stacks-1): \n",
    "    target_stack_idx = old_stack_idx + 1\n",
    "    num_stacks = ansatz.num_stacks\n",
    "    cur_left_env = left_envs[old_stack_idx]\n",
    "    new_stack = ansatz.param_mpo_stacks[old_stack_idx]\n",
    "    new_env = build_left_env(cur_left_env, new_stack)\n",
    "    print(np.linalg.norm(new_env.to_matrix() - left_envs[target_stack_idx].to_matrix()))"
   ]
  },
  {
   "cell_type": "markdown",
   "id": "ce84e8e9",
   "metadata": {
    "heading_collapsed": true,
    "hidden": true
   },
   "source": [
    "## Node environments"
   ]
  },
  {
   "cell_type": "code",
   "execution_count": 4,
   "id": "dad3c831",
   "metadata": {
    "ExecuteTime": {
     "end_time": "2023-09-11T16:39:32.457550Z",
     "start_time": "2023-09-11T16:39:31.764544Z"
    },
    "hidden": true
   },
   "outputs": [
    {
     "data": {
      "text/plain": [
       "(0.9250453125007135-2.942091015256665e-15j)"
      ]
     },
     "execution_count": 4,
     "metadata": {},
     "output_type": "execute_result"
    }
   ],
   "source": [
    "num_qubits = 6\n",
    "t = 0.1\n",
    "num_w_layers = 2\n",
    "angles = np.random.rand(num_qubits) * 2 * np.pi\n",
    "params = np.random.rand(num_w_layers, num_qubits-1)\n",
    "ansatz = Ansatz(t, angles, params)\n",
    "target_mpo = xy_mpo(num_qubits, t, 5)\n",
    "true_trace = ansatz.mpo().mult_and_trace(target_mpo.conj())[0,0,0,0]\n",
    "true_trace"
   ]
  },
  {
   "cell_type": "code",
   "execution_count": 3,
   "id": "0ad6a1ed",
   "metadata": {
    "ExecuteTime": {
     "end_time": "2023-08-28T16:35:46.831732Z",
     "start_time": "2023-08-28T16:35:46.104741Z"
    },
    "hidden": true
   },
   "outputs": [
    {
     "name": "stdout",
     "output_type": "stream",
     "text": [
      "(-1.3322676295501878e-15+4.163336342344337e-16j)\n",
      "(-1.1102230246251565e-15+4.440892098500626e-16j)\n",
      "(-1.1102230246251565e-15+2.914335439641036e-16j)\n",
      "(-8.881784197001252e-16+3.122502256758253e-16j)\n",
      "(-1.1102230246251565e-15+3.7470027081099033e-16j)\n",
      "(-8.881784197001252e-16+3.608224830031759e-16j)\n"
     ]
    }
   ],
   "source": [
    "stack_idx = 0\n",
    "param_mpo = ansatz.param_mpo_stacks[stack_idx]\n",
    "stack_env1, stack_env2 = stack_env(ansatz, target_mpo, stack_idx)\n",
    "for node_idx in range(num_qubits):\n",
    "    top_env, bottom_env = node_semi_env(param_mpo, stack_idx, node_idx, stack_env1, stack_env2)\n",
    "    f_env = full_env(stack_env1.nodes[node_idx].data, None, top_env, bottom_env)\n",
    "    print(np.einsum('ij,ij->', f_env, param_mpo.nodes[node_idx].data[0,0]) - true_trace)"
   ]
  },
  {
   "cell_type": "code",
   "execution_count": 4,
   "id": "dd05484a",
   "metadata": {
    "ExecuteTime": {
     "end_time": "2023-08-28T16:35:47.719743Z",
     "start_time": "2023-08-28T16:35:46.845727Z"
    },
    "hidden": true
   },
   "outputs": [
    {
     "name": "stdout",
     "output_type": "stream",
     "text": [
      "(-5.551115123125783e-16+7.91033905045424e-16j)\n",
      "(-6.661338147750939e-16+7.563394355258879e-16j)\n",
      "(-6.661338147750939e-16+7.91033905045424e-16j)\n",
      "(-3.219646771412954e-15+6.661338147750939e-16j)\n",
      "(-3.1086244689504383e-15+6.522560269672795e-16j)\n",
      "(-8.881784197001252e-16+3.3306690738754696e-16j)\n",
      "(-8.881784197001252e-16+2.636779683484747e-16j)\n",
      "(-8.881784197001252e-16+1.8041124150158794e-16j)\n",
      "-3.0531133177191805e-16j\n",
      "(2.220446049250313e-16-8.326672684688674e-17j)\n"
     ]
    }
   ],
   "source": [
    "for stack_idx in range(1,ansatz.num_stacks): \n",
    "    param_mpo = ansatz.param_mpo_stacks[stack_idx]\n",
    "    stack_env1, stack_env2 = stack_env(ansatz, target_mpo, stack_idx)\n",
    "\n",
    "    for node_idx in range(num_qubits//2 - (stack_idx+1)%2):\n",
    "        top_env, bottom_env = node_semi_env(param_mpo, stack_idx, node_idx, stack_env1, stack_env2)\n",
    "\n",
    "        idx = 2*node_idx+(stack_idx+1)%2\n",
    "        link_data1 = nodes_to_supernode(stack_env1.nodes[idx], stack_env1.nodes[idx+1])\n",
    "        link_data2 = nodes_to_supernode(stack_env2.nodes[idx], stack_env2.nodes[idx+1]) if stack_env2 is not None else None\n",
    "        f_env = full_env(link_data1, link_data2, top_env, bottom_env)\n",
    "\n",
    "        param_data = nodes_to_gate(param_mpo.nodes[idx], param_mpo.nodes[idx+1])\n",
    "        first = np.tensordot(f_env, param_data, axes=([2,7,0,5],[0,1,2,3]))\n",
    "        second = np.tensordot(first, param_data.conj(), axes=([2,0,3,1],[0,1,2,3]))\n",
    "        print(second-true_trace)"
   ]
  },
  {
   "cell_type": "code",
   "execution_count": 5,
   "id": "328a743b",
   "metadata": {
    "ExecuteTime": {
     "end_time": "2023-08-28T16:35:48.386742Z",
     "start_time": "2023-08-28T16:35:47.727728Z"
    },
    "hidden": true
   },
   "outputs": [
    {
     "name": "stdout",
     "output_type": "stream",
     "text": [
      "(-5.551115123125783e-16+7.91033905045424e-16j)\n",
      "(-6.661338147750939e-16+7.563394355258879e-16j)\n",
      "(-6.661338147750939e-16+7.91033905045424e-16j)\n",
      "(-3.219646771412954e-15+6.661338147750939e-16j)\n",
      "(-3.1086244689504383e-15+6.522560269672795e-16j)\n",
      "(-8.881784197001252e-16+3.3306690738754696e-16j)\n",
      "(-8.881784197001252e-16+2.636779683484747e-16j)\n",
      "(-8.881784197001252e-16+1.8041124150158794e-16j)\n",
      "-3.0531133177191805e-16j\n",
      "(2.220446049250313e-16-8.326672684688674e-17j)\n"
     ]
    }
   ],
   "source": [
    "for stack_idx in range(1,ansatz.num_stacks): \n",
    "    param_mpo = ansatz.param_mpo_stacks[stack_idx]\n",
    "    stack_env1, stack_env2 = stack_env(ansatz, target_mpo, stack_idx)\n",
    "\n",
    "    for node_idx in range(num_qubits//2 - (stack_idx+1)%2):\n",
    "        n_env = node_env(param_mpo, stack_idx, node_idx, stack_env1, stack_env2)        \n",
    "        idx = 2*node_idx+(stack_idx+1)%2\n",
    "        param_data = nodes_to_gate(param_mpo.nodes[idx], param_mpo.nodes[idx+1])        \n",
    "        first = np.tensordot(n_env, param_data, axes=([2,7,0,5],[0,1,2,3]))\n",
    "        second = np.tensordot(first, param_data.conj(), axes=([2,0,3,1],[0,1,2,3]))\n",
    "        print(second-true_trace)"
   ]
  },
  {
   "cell_type": "code",
   "execution_count": 6,
   "id": "2c63dcb7",
   "metadata": {
    "ExecuteTime": {
     "end_time": "2023-08-28T16:35:49.159732Z",
     "start_time": "2023-08-28T16:35:48.390723Z"
    },
    "hidden": true
   },
   "outputs": [
    {
     "name": "stdout",
     "output_type": "stream",
     "text": [
      "(-5.551115123125783e-16+7.91033905045424e-16j)\n",
      "(-6.661338147750939e-16+7.563394355258879e-16j)\n",
      "(-6.661338147750939e-16+7.91033905045424e-16j)\n",
      "(-3.219646771412954e-15+6.661338147750939e-16j)\n",
      "(-3.1086244689504383e-15+6.522560269672795e-16j)\n",
      "(-8.881784197001252e-16+3.3306690738754696e-16j)\n",
      "(-8.881784197001252e-16+2.636779683484747e-16j)\n",
      "(-8.881784197001252e-16+1.8041124150158794e-16j)\n",
      "-3.0531133177191805e-16j\n",
      "(2.220446049250313e-16-8.326672684688674e-17j)\n"
     ]
    }
   ],
   "source": [
    "for stack_idx in range(1,ansatz.num_stacks): \n",
    "    param_mpo = ansatz.param_mpo_stacks[stack_idx]\n",
    "    stack_env1, stack_env2 = stack_env(ansatz, target_mpo, stack_idx)\n",
    "    bottom_envs, top_envs = all_node_envs(param_mpo, stack_idx, stack_env1, stack_env2)\n",
    "    for node_idx in range(num_qubits//2 - (stack_idx+1)%2):\n",
    "        top_env, bottom_env = top_envs[node_idx], bottom_envs[node_idx]\n",
    "\n",
    "        idx = 2*node_idx+(stack_idx+1)%2\n",
    "        link_data1 = nodes_to_supernode(stack_env1.nodes[idx], stack_env1.nodes[idx+1])\n",
    "        link_data2 = nodes_to_supernode(stack_env2.nodes[idx], stack_env2.nodes[idx+1]) if stack_env2 is not None else None\n",
    "        f_env = full_env(link_data1, link_data2, top_env, bottom_env)\n",
    "        \n",
    "        param_data = nodes_to_gate(param_mpo.nodes[idx], param_mpo.nodes[idx+1])\n",
    "        first = np.tensordot(f_env, param_data, axes=([2,7,0,5],[0,1,2,3]))\n",
    "        second = np.tensordot(first, param_data.conj(), axes=([2,0,3,1],[0,1,2,3]))\n",
    "        print(second-true_trace)"
   ]
  },
  {
   "cell_type": "markdown",
   "id": "89fe60e5",
   "metadata": {},
   "source": [
    "# Optimization"
   ]
  },
  {
   "cell_type": "markdown",
   "id": "0ec66d77",
   "metadata": {},
   "source": [
    "## Node cost and derivative "
   ]
  },
  {
   "cell_type": "code",
   "execution_count": 2,
   "id": "65e5434a",
   "metadata": {
    "ExecuteTime": {
     "end_time": "2023-07-21T21:52:38.009494Z",
     "start_time": "2023-07-21T21:52:37.970493Z"
    }
   },
   "outputs": [],
   "source": [
    "num_qubits = 4\n",
    "num_w_layers = 4\n",
    "t = 0.1\n",
    "\n",
    "angles = np.asarray(np.random.rand(num_qubits))\n",
    "params = np.asarray(np.random.rand(2*num_w_layers+1, 3*num_qubits)) \n",
    "ansatz = Ansatz(t, angles, params)\n",
    "num_trotter_steps = 5\n",
    "target_mpo = xy_mpo(num_qubits, t, num_trotter_steps)"
   ]
  },
  {
   "cell_type": "code",
   "execution_count": 3,
   "id": "d8477aa4",
   "metadata": {
    "ExecuteTime": {
     "end_time": "2023-07-21T21:52:38.592517Z",
     "start_time": "2023-07-21T21:52:38.467538Z"
    }
   },
   "outputs": [
    {
     "name": "stdout",
     "output_type": "stream",
     "text": [
      "1.7763568394002505e-15\n",
      "1.6653345369377348e-15\n",
      "1.3322676295501878e-15\n",
      "1.3322676295501878e-15\n"
     ]
    }
   ],
   "source": [
    "# does node_cost product correct cost function in rz stack\n",
    "stack_idx = 0\n",
    "stack_env1, stack_env2 = stack_env(ansatz, target_mpo, stack_idx)\n",
    "stack_params = ansatz.angles\n",
    "true_cost = 1 - (target_mpo.conj() @ ansatz.mpo()).trace().real\n",
    "\n",
    "for node_idx in range(num_qubits):\n",
    "    n_env = node_env(ansatz.param_mpo_stacks[stack_idx], node_idx, stack_env1)\n",
    "    print(node_cost(ansatz.angles[node_idx], n_env, t) - true_cost)"
   ]
  },
  {
   "cell_type": "code",
   "execution_count": 4,
   "id": "7a339ab7",
   "metadata": {
    "ExecuteTime": {
     "end_time": "2023-07-21T21:52:39.934224Z",
     "start_time": "2023-07-21T21:52:39.406227Z"
    }
   },
   "outputs": [
    {
     "name": "stdout",
     "output_type": "stream",
     "text": [
      "2.220446049250313e-15\n",
      "2.220446049250313e-15\n",
      "2.220446049250313e-15\n",
      "2.220446049250313e-15\n",
      "0.0\n",
      "0.0\n",
      "0.0\n",
      "0.0\n",
      "1.9984014443252818e-15\n",
      "1.9984014443252818e-15\n",
      "1.9984014443252818e-15\n",
      "1.9984014443252818e-15\n",
      "0.0\n",
      "0.0\n",
      "0.0\n",
      "0.0\n",
      "4.440892098500626e-16\n",
      "4.440892098500626e-16\n",
      "4.440892098500626e-16\n",
      "4.440892098500626e-16\n",
      "2.220446049250313e-16\n",
      "2.220446049250313e-16\n",
      "2.220446049250313e-16\n",
      "2.220446049250313e-16\n",
      "-2.1094237467877974e-15\n",
      "-2.1094237467877974e-15\n",
      "-2.1094237467877974e-15\n",
      "-2.1094237467877974e-15\n",
      "-1.5543122344752192e-15\n",
      "-1.5543122344752192e-15\n",
      "-1.5543122344752192e-15\n",
      "-1.5543122344752192e-15\n",
      "-4.440892098500626e-16\n",
      "-4.440892098500626e-16\n",
      "-4.440892098500626e-16\n",
      "-4.440892098500626e-16\n"
     ]
    }
   ],
   "source": [
    "# does node_cost produce correct cost function in general stack\n",
    "for stack_idx in range(1, ansatz.num_stacks): \n",
    "    stack_env1, stack_env2 = stack_env(ansatz, target_mpo, stack_idx)\n",
    "    stack_params = ansatz.params[stack_idx-1]\n",
    "\n",
    "    for node_idx in range(num_qubits):\n",
    "        node_idx = 3\n",
    "        n_env = node_env(ansatz.param_mpo_stacks[stack_idx], node_idx, stack_env1, stack_env2)\n",
    "        print(node_cost(ansatz.params[stack_idx-1][node_idx*3:(node_idx+1)*3], n_env, t) - true_cost)"
   ]
  },
  {
   "cell_type": "code",
   "execution_count": 5,
   "id": "0afceb2e",
   "metadata": {
    "ExecuteTime": {
     "end_time": "2023-07-21T21:52:42.742769Z",
     "start_time": "2023-07-21T21:52:42.620768Z"
    }
   },
   "outputs": [
    {
     "name": "stdout",
     "output_type": "stream",
     "text": [
      "[5.50506635e-14]\n",
      "[-2.12769038e-13]\n",
      "[-6.65709675e-13]\n",
      "[-2.66962342e-13]\n"
     ]
    }
   ],
   "source": [
    "# does rz_node_deriv reproduce fd\n",
    "stack_idx = 0\n",
    "stack_env1, stack_env2 = stack_env(ansatz, target_mpo, stack_idx)\n",
    "\n",
    "for node_idx in range(num_qubits):\n",
    "    n_env = node_env(ansatz.param_mpo_stacks[stack_idx], node_idx, stack_env1)\n",
    "    fd = node_grad_fd(ansatz.angles[node_idx], n_env, t)\n",
    "    exact = rz_node_deriv(n_env, ansatz.angles[node_idx], t)\n",
    "    print(fd-exact)"
   ]
  },
  {
   "cell_type": "code",
   "execution_count": 6,
   "id": "1d77a176",
   "metadata": {
    "ExecuteTime": {
     "end_time": "2023-07-21T21:52:47.486156Z",
     "start_time": "2023-07-21T21:52:44.253887Z"
    }
   },
   "outputs": [
    {
     "name": "stderr",
     "output_type": "stream",
     "text": [
      "WARNING:absl:No GPU/TPU found, falling back to CPU. (Set TF_CPP_MIN_LOG_LEVEL=0 and rerun for more info.)\n"
     ]
    },
    {
     "name": "stdout",
     "output_type": "stream",
     "text": [
      "[-1.0186341e-08  6.2864274e-09  4.6857167e-09]\n",
      "[ 2.5611371e-09 -3.3527058e-08 -2.6793714e-08]\n",
      "[1.5716068e-08 1.3038516e-08 1.3882527e-08]\n",
      "[6.09725248e-09 1.12917311e-08 1.02154445e-08]\n",
      "[-2.6193447e-10 -1.4260877e-09 -2.3283064e-09]\n",
      "[ 1.3969839e-09 -1.1670636e-08 -1.1597876e-08]\n",
      "[ 4.2336978e-10  9.7206794e-09 -1.2572855e-08]\n",
      "[-1.9586878e-08 -2.6433554e-08  1.2078090e-09]\n",
      "[-9.0767571e-09  9.8370947e-09  1.7378625e-08]\n",
      "[-3.2014214e-09 -1.4591478e-08 -2.4505425e-08]\n",
      "[-1.0419171e-08  3.7834980e-10  1.8189894e-09]\n",
      "[-1.0768417e-09 -1.1787051e-09 -1.0186341e-10]\n",
      "[-7.1304385e-10  1.0804797e-09  1.2769306e-09]\n",
      "[-2.8521754e-09 -3.5281118e-08  1.9281288e-09]\n",
      "[-1.4260877e-09 -1.7986167e-08 -5.7043508e-09]\n",
      "[-1.1641532e-08 -1.2892997e-08 -2.5436748e-08]\n",
      "[4.4819899e-09 7.3341653e-09 3.2676326e-08]\n",
      "[ 2.4476321e-08 -3.4808181e-08 -1.7520506e-08]\n",
      "[-4.04106686e-08 -1.29657565e-08 -1.16415322e-08]\n",
      "[-1.2005330e-08 -4.6275090e-09  5.1077222e-09]\n",
      "[ 4.8021320e-09 -2.0081643e-09  3.3323886e-09]\n",
      "[ 2.0954758e-09 -1.8655555e-08 -2.8929207e-08]\n",
      "[ 1.8248102e-08  8.7165972e-09 -1.6589183e-09]\n",
      "[2.2992026e-09 9.8079909e-09 2.7775968e-08]\n",
      "[-2.0372681e-09  1.0142685e-08  2.4330802e-08]\n",
      "[ 2.1165761e-08 -1.3111276e-08 -1.7316779e-08]\n",
      "[ 4.8894435e-09  8.2291081e-09 -6.7375368e-09]\n",
      "[ 2.2875611e-08 -2.0954758e-09 -5.5297278e-10]\n",
      "[-5.2750693e-10  4.5438355e-09  1.3351382e-08]\n",
      "[2.7794158e-09 4.2520696e-08 1.8386345e-08]\n",
      "[-8.6729415e-09 -8.1490725e-10  2.5611371e-09]\n",
      "[-4.0927262e-10 -1.3147655e-08  4.0708983e-09]\n",
      "[-1.2063538e-08  4.0381565e-09 -1.6958666e-09]\n",
      "[-2.5829650e-10  3.9508450e-09 -2.4228939e-09]\n",
      "[-4.831236e-09 -4.656613e-10 -8.367351e-10]\n",
      "[-1.1226803e-08 -9.6661097e-09 -2.1820597e-08]\n"
     ]
    }
   ],
   "source": [
    "# does general_node_deriv reproduce fd\n",
    "for stack_idx in range(1,ansatz.num_stacks):\n",
    "    stack_env1, stack_env2 = stack_env(ansatz, target_mpo, stack_idx)\n",
    "\n",
    "    for node_idx in range(num_qubits):\n",
    "        n_env = node_env(ansatz.param_mpo_stacks[stack_idx], node_idx, stack_env1, stack_env2)\n",
    "        fd = node_grad_fd(ansatz.params[stack_idx-1][node_idx*3:(node_idx+1)*3], n_env)\n",
    "        exact = general_node_deriv(n_env, ansatz.params[stack_idx-1][node_idx*3:(node_idx+1)*3])\n",
    "        print(fd-exact)"
   ]
  },
  {
   "cell_type": "markdown",
   "id": "22ab7e93",
   "metadata": {
    "heading_collapsed": true
   },
   "source": [
    "## Node optimizer"
   ]
  },
  {
   "cell_type": "code",
   "execution_count": 7,
   "id": "dbefa369",
   "metadata": {
    "ExecuteTime": {
     "end_time": "2023-07-21T21:52:58.588170Z",
     "start_time": "2023-07-21T21:52:58.560210Z"
    },
    "hidden": true
   },
   "outputs": [],
   "source": [
    "num_qubits = 4\n",
    "num_w_layers = 4\n",
    "t = 0.1\n",
    "\n",
    "angles = np.asarray(np.random.rand(num_qubits))\n",
    "params = np.asarray(np.random.rand(2*num_w_layers+1, 3*num_qubits)) \n",
    "ansatz = Ansatz(t, angles, params)\n",
    "num_trotter_steps = 5\n",
    "target_mpo = xy_mpo(num_qubits, t, num_trotter_steps)"
   ]
  },
  {
   "cell_type": "code",
   "execution_count": 8,
   "id": "488f5a8c",
   "metadata": {
    "ExecuteTime": {
     "end_time": "2023-07-21T21:53:00.022142Z",
     "start_time": "2023-07-21T21:52:59.436171Z"
    },
    "hidden": true
   },
   "outputs": [
    {
     "name": "stdout",
     "output_type": "stream",
     "text": [
      "0.03214676657905424\n",
      "0.03195002956228565\n",
      "0.03171432860975343\n",
      "0.02986356529762879\n",
      "0.029858865418667335\n",
      "0.02985444707051621\n",
      "0.02985310050860801\n",
      "0.029853098477471418\n",
      "0.02984545302692676\n",
      "0.02978834569306077\n",
      "0.02976011795220479\n",
      "0.029758780204131585\n",
      "0.029730110357894524\n",
      "0.029632100130416728\n",
      "0.029622272817393602\n",
      "0.02961677141646568\n",
      "0.029611074972793472\n",
      "0.02957920799476832\n",
      "0.02952771204689586\n",
      "0.029519583187220477\n",
      "0.029514503370869694\n",
      "0.02941544103234317\n",
      "0.02938772649724708\n",
      "0.029383516982059543\n",
      "0.02936164660817675\n",
      "0.02929311677768598\n",
      "0.02924411702742058\n",
      "0.02922380858050244\n",
      "0.02921445891587049\n",
      "0.029159459123240694\n",
      "0.029123362553839627\n",
      "0.02911741117988509\n",
      "0.029101608781430643\n",
      "0.02907723615971447\n",
      "0.029064291456581515\n",
      "0.0290557840585135\n",
      "0.02904365656510044\n",
      "0.02902529950064614\n",
      "0.029013296535242317\n",
      "0.029002550632829527\n"
     ]
    }
   ],
   "source": [
    "# optimizing all nodes\n",
    "for stack_idx in range(ansatz.num_stacks):\n",
    "    stack_env1, stack_env2 = stack_env(ansatz, target_mpo, stack_idx)\n",
    "    for node_idx in range(num_qubits):\n",
    "        n_env = node_env(ansatz.param_mpo_stacks[stack_idx], node_idx, stack_env1, stack_env2)\n",
    "        new_cost, new_node = node_optimizer(ansatz, stack_idx, node_idx, n_env, t)\n",
    "        print(new_cost)"
   ]
  },
  {
   "cell_type": "code",
   "execution_count": 9,
   "id": "051e71af",
   "metadata": {
    "ExecuteTime": {
     "end_time": "2023-07-21T21:53:06.148942Z",
     "start_time": "2023-07-21T21:53:05.650437Z"
    },
    "hidden": true
   },
   "outputs": [
    {
     "name": "stdout",
     "output_type": "stream",
     "text": [
      "0.028646183521946145 0.027736562986004576\n",
      "0.027734442258978476 0.027542469734874286\n",
      "0.027525111073030573 0.027270040032685294\n",
      "0.02725736391307154 0.02666324953221566\n",
      "0.026623040003376564 0.02653299816902721\n",
      "0.026476898097764767 0.02606407985884207\n",
      "0.026062751958044972 0.025870234350243382\n",
      "0.02570331030028017 0.02533107020571146\n",
      "0.02530782202350368 0.025216497381447045\n",
      "0.025193903630758574 0.02506184660024291\n"
     ]
    }
   ],
   "source": [
    "# testing sweep_up_down\n",
    "for stack_idx in range(ansatz.num_stacks): \n",
    "    param_mpo = ansatz.param_mpo_stacks[stack_idx]\n",
    "    stack_env1, stack_env2 = stack_env(ansatz, target_mpo, stack_idx)\n",
    "    link_datas1 = [stack_env1.nodes[node_idx].data for node_idx in range(ansatz.num_qubits)]\n",
    "    link_datas2 = [None] * ansatz.num_qubits if stack_env2 is None else [stack_env2.nodes[node_idx].data for node_idx in range(ansatz.num_qubits)]\n",
    "    bottom_envs, top_envs = all_node_envs(param_mpo, stack_env1, stack_env2)\n",
    "    cost_list = sweep_up_down(ansatz, stack_idx, bottom_envs, top_envs, link_datas1, link_datas2, t)\n",
    "    print(cost_list[0], cost_list[-1])"
   ]
  },
  {
   "cell_type": "markdown",
   "id": "20f32ad8",
   "metadata": {
    "heading_collapsed": true
   },
   "source": [
    "## Nodewise training "
   ]
  },
  {
   "cell_type": "code",
   "execution_count": 2,
   "id": "193def72",
   "metadata": {
    "ExecuteTime": {
     "end_time": "2023-07-21T22:28:38.176834Z",
     "start_time": "2023-07-21T22:27:57.207026Z"
    },
    "hidden": true
   },
   "outputs": [
    {
     "name": "stderr",
     "output_type": "stream",
     "text": [
      "  0%|                                                                                           | 0/10 [00:00<?, ?it/s]\n",
      "  0%|                                                                                            | 0/9 [00:00<?, ?it/s]\u001b[AWARNING:absl:No GPU/TPU found, falling back to CPU. (Set TF_CPP_MIN_LOG_LEVEL=0 and rerun for more info.)\n",
      "\n",
      " 22%|██████████████████▋                                                                 | 2/9 [00:00<00:02,  2.72it/s]\u001b[A\n",
      " 33%|████████████████████████████                                                        | 3/9 [00:00<00:01,  3.69it/s]\u001b[A\n",
      " 44%|█████████████████████████████████████▎                                              | 4/9 [00:01<00:01,  4.49it/s]\u001b[A\n",
      " 56%|██████████████████████████████████████████████▋                                     | 5/9 [00:01<00:00,  5.22it/s]\u001b[A\n",
      " 67%|████████████████████████████████████████████████████████                            | 6/9 [00:01<00:00,  5.47it/s]\u001b[A\n",
      " 78%|█████████████████████████████████████████████████████████████████▎                  | 7/9 [00:01<00:00,  5.82it/s]\u001b[A\n",
      " 89%|██████████████████████████████████████████████████████████████████████████▋         | 8/9 [00:01<00:00,  5.82it/s]\u001b[A\n",
      "100%|████████████████████████████████████████████████████████████████████████████████████| 9/9 [00:01<00:00,  5.01it/s]\u001b[A\n",
      "\n",
      "  0%|                                                                                            | 0/9 [00:00<?, ?it/s]\u001b[A\n",
      " 11%|█████████▎                                                                          | 1/9 [00:00<00:01,  5.26it/s]\u001b[A\n",
      " 22%|██████████████████▋                                                                 | 2/9 [00:00<00:01,  4.83it/s]\u001b[A\n",
      " 33%|████████████████████████████                                                        | 3/9 [00:00<00:01,  4.59it/s]\u001b[A\n",
      " 44%|█████████████████████████████████████▎                                              | 4/9 [00:00<00:01,  4.66it/s]\u001b[A\n",
      " 56%|██████████████████████████████████████████████▋                                     | 5/9 [00:01<00:00,  5.15it/s]\u001b[A\n",
      " 67%|████████████████████████████████████████████████████████                            | 6/9 [00:01<00:00,  5.06it/s]\u001b[A\n",
      " 78%|█████████████████████████████████████████████████████████████████▎                  | 7/9 [00:01<00:00,  4.87it/s]\u001b[A\n",
      " 89%|██████████████████████████████████████████████████████████████████████████▋         | 8/9 [00:01<00:00,  4.83it/s]\u001b[A\n",
      "100%|████████████████████████████████████████████████████████████████████████████████████| 9/9 [00:01<00:00,  4.85it/s]\u001b[A\n",
      " 10%|████████▎                                                                          | 1/10 [00:03<00:34,  3.83s/it]"
     ]
    },
    {
     "name": "stdout",
     "output_type": "stream",
     "text": [
      "0.026173246310755793\n"
     ]
    },
    {
     "name": "stderr",
     "output_type": "stream",
     "text": [
      "\n",
      "  0%|                                                                                            | 0/9 [00:00<?, ?it/s]\u001b[A\n",
      " 22%|██████████████████▋                                                                 | 2/9 [00:00<00:01,  5.45it/s]\u001b[A\n",
      " 33%|████████████████████████████                                                        | 3/9 [00:00<00:00,  6.21it/s]\u001b[A\n",
      " 44%|█████████████████████████████████████▎                                              | 4/9 [00:00<00:00,  5.81it/s]\u001b[A\n",
      " 56%|██████████████████████████████████████████████▋                                     | 5/9 [00:00<00:00,  5.85it/s]\u001b[A\n",
      " 67%|████████████████████████████████████████████████████████                            | 6/9 [00:01<00:00,  5.86it/s]\u001b[A\n",
      " 78%|█████████████████████████████████████████████████████████████████▎                  | 7/9 [00:01<00:00,  5.76it/s]\u001b[A\n",
      " 89%|██████████████████████████████████████████████████████████████████████████▋         | 8/9 [00:01<00:00,  5.51it/s]\u001b[A\n",
      "100%|████████████████████████████████████████████████████████████████████████████████████| 9/9 [00:01<00:00,  5.09it/s]\u001b[A\n",
      "\n",
      "  0%|                                                                                            | 0/9 [00:00<?, ?it/s]\u001b[A\n",
      " 11%|█████████▎                                                                          | 1/9 [00:00<00:03,  2.66it/s]\u001b[A\n",
      " 22%|██████████████████▋                                                                 | 2/9 [00:00<00:01,  4.00it/s]\u001b[A\n",
      " 33%|████████████████████████████                                                        | 3/9 [00:00<00:01,  4.60it/s]\u001b[A\n",
      " 44%|█████████████████████████████████████▎                                              | 4/9 [00:00<00:00,  5.13it/s]\u001b[A\n",
      " 56%|██████████████████████████████████████████████▋                                     | 5/9 [00:01<00:00,  5.70it/s]\u001b[A\n",
      " 67%|████████████████████████████████████████████████████████                            | 6/9 [00:01<00:00,  5.46it/s]\u001b[A\n",
      " 78%|█████████████████████████████████████████████████████████████████▎                  | 7/9 [00:01<00:00,  5.40it/s]\u001b[A\n",
      " 89%|██████████████████████████████████████████████████████████████████████████▋         | 8/9 [00:01<00:00,  5.28it/s]\u001b[A\n",
      "100%|████████████████████████████████████████████████████████████████████████████████████| 9/9 [00:01<00:00,  4.95it/s]\u001b[A\n",
      " 20%|████████████████▌                                                                  | 2/10 [00:07<00:30,  3.79s/it]"
     ]
    },
    {
     "name": "stdout",
     "output_type": "stream",
     "text": [
      "0.01575171913363227\n"
     ]
    },
    {
     "name": "stderr",
     "output_type": "stream",
     "text": [
      "\n",
      "  0%|                                                                                            | 0/9 [00:00<?, ?it/s]\u001b[A\n",
      " 22%|██████████████████▋                                                                 | 2/9 [00:00<00:01,  3.58it/s]\u001b[A\n",
      " 33%|████████████████████████████                                                        | 3/9 [00:00<00:01,  4.25it/s]\u001b[A\n",
      " 44%|█████████████████████████████████████▎                                              | 4/9 [00:00<00:01,  4.31it/s]\u001b[A\n",
      " 56%|██████████████████████████████████████████████▋                                     | 5/9 [00:01<00:00,  4.47it/s]\u001b[A\n",
      " 67%|████████████████████████████████████████████████████████                            | 6/9 [00:01<00:00,  4.58it/s]\u001b[A\n",
      " 78%|█████████████████████████████████████████████████████████████████▎                  | 7/9 [00:01<00:00,  3.91it/s]\u001b[A\n",
      " 89%|██████████████████████████████████████████████████████████████████████████▋         | 8/9 [00:01<00:00,  4.19it/s]\u001b[A\n",
      "100%|████████████████████████████████████████████████████████████████████████████████████| 9/9 [00:02<00:00,  4.16it/s]\u001b[A\n",
      "\n",
      "  0%|                                                                                            | 0/9 [00:00<?, ?it/s]\u001b[A\n",
      " 11%|█████████▎                                                                          | 1/9 [00:00<00:01,  5.52it/s]\u001b[A\n",
      " 22%|██████████████████▋                                                                 | 2/9 [00:00<00:01,  6.30it/s]\u001b[A\n",
      " 33%|████████████████████████████                                                        | 3/9 [00:00<00:00,  6.41it/s]\u001b[A\n",
      " 44%|█████████████████████████████████████▎                                              | 4/9 [00:00<00:00,  5.49it/s]\u001b[A\n",
      " 56%|██████████████████████████████████████████████▋                                     | 5/9 [00:00<00:00,  5.25it/s]\u001b[A\n",
      " 67%|████████████████████████████████████████████████████████                            | 6/9 [00:01<00:00,  5.34it/s]\u001b[A\n",
      " 78%|█████████████████████████████████████████████████████████████████▎                  | 7/9 [00:01<00:00,  5.76it/s]\u001b[A\n",
      " 89%|██████████████████████████████████████████████████████████████████████████▋         | 8/9 [00:01<00:00,  5.36it/s]\u001b[A\n",
      "100%|████████████████████████████████████████████████████████████████████████████████████| 9/9 [00:01<00:00,  4.80it/s]\u001b[A\n",
      " 30%|████████████████████████▉                                                          | 3/10 [00:11<00:27,  3.96s/it]"
     ]
    },
    {
     "name": "stdout",
     "output_type": "stream",
     "text": [
      "0.012566580753105239\n"
     ]
    },
    {
     "name": "stderr",
     "output_type": "stream",
     "text": [
      "\n",
      "  0%|                                                                                            | 0/9 [00:00<?, ?it/s]\u001b[A\n",
      " 22%|██████████████████▋                                                                 | 2/9 [00:00<00:02,  3.19it/s]\u001b[A\n",
      " 44%|█████████████████████████████████████▎                                              | 4/9 [00:00<00:00,  5.71it/s]\u001b[A\n",
      " 56%|██████████████████████████████████████████████▋                                     | 5/9 [00:00<00:00,  6.19it/s]\u001b[A\n",
      " 67%|████████████████████████████████████████████████████████                            | 6/9 [00:01<00:00,  6.37it/s]\u001b[A\n",
      " 78%|█████████████████████████████████████████████████████████████████▎                  | 7/9 [00:01<00:00,  6.70it/s]\u001b[A\n",
      " 89%|██████████████████████████████████████████████████████████████████████████▋         | 8/9 [00:01<00:00,  7.31it/s]\u001b[A\n",
      "100%|████████████████████████████████████████████████████████████████████████████████████| 9/9 [00:01<00:00,  6.25it/s]\u001b[A\n",
      "\n",
      "  0%|                                                                                            | 0/9 [00:00<?, ?it/s]\u001b[A\n",
      " 11%|█████████▎                                                                          | 1/9 [00:00<00:01,  4.46it/s]\u001b[A\n",
      " 22%|██████████████████▋                                                                 | 2/9 [00:00<00:01,  4.34it/s]\u001b[A\n",
      " 33%|████████████████████████████                                                        | 3/9 [00:00<00:01,  5.50it/s]\u001b[A\n",
      " 44%|█████████████████████████████████████▎                                              | 4/9 [00:00<00:00,  6.03it/s]\u001b[A\n",
      " 56%|██████████████████████████████████████████████▋                                     | 5/9 [00:00<00:00,  6.59it/s]\u001b[A\n",
      " 67%|████████████████████████████████████████████████████████                            | 6/9 [00:00<00:00,  6.83it/s]\u001b[A\n",
      " 78%|█████████████████████████████████████████████████████████████████▎                  | 7/9 [00:01<00:00,  7.19it/s]\u001b[A\n",
      " 89%|██████████████████████████████████████████████████████████████████████████▋         | 8/9 [00:01<00:00,  6.47it/s]\u001b[A\n",
      "100%|████████████████████████████████████████████████████████████████████████████████████| 9/9 [00:01<00:00,  5.08it/s]\u001b[A\n",
      " 40%|█████████████████████████████████▏                                                 | 4/10 [00:15<00:22,  3.70s/it]"
     ]
    },
    {
     "name": "stdout",
     "output_type": "stream",
     "text": [
      "0.00978511989544828\n"
     ]
    },
    {
     "name": "stderr",
     "output_type": "stream",
     "text": [
      "\n",
      "  0%|                                                                                            | 0/9 [00:00<?, ?it/s]\u001b[A\n",
      " 22%|██████████████████▋                                                                 | 2/9 [00:00<00:02,  3.32it/s]\u001b[A\n",
      " 44%|█████████████████████████████████████▎                                              | 4/9 [00:00<00:00,  5.77it/s]\u001b[A\n",
      " 56%|██████████████████████████████████████████████▋                                     | 5/9 [00:00<00:00,  6.49it/s]\u001b[A\n",
      " 67%|████████████████████████████████████████████████████████                            | 6/9 [00:01<00:00,  6.77it/s]\u001b[A\n",
      " 78%|█████████████████████████████████████████████████████████████████▎                  | 7/9 [00:01<00:00,  4.76it/s]\u001b[A\n",
      " 89%|██████████████████████████████████████████████████████████████████████████▋         | 8/9 [00:01<00:00,  5.41it/s]\u001b[A\n",
      "100%|████████████████████████████████████████████████████████████████████████████████████| 9/9 [00:01<00:00,  5.58it/s]\u001b[A\n",
      "\n",
      "  0%|                                                                                            | 0/9 [00:00<?, ?it/s]\u001b[A\n",
      " 11%|█████████▎                                                                          | 1/9 [00:00<00:03,  2.41it/s]\u001b[A\n",
      " 22%|██████████████████▋                                                                 | 2/9 [00:00<00:01,  3.95it/s]\u001b[A\n",
      " 33%|████████████████████████████                                                        | 3/9 [00:00<00:01,  4.99it/s]\u001b[A\n",
      " 44%|█████████████████████████████████████▎                                              | 4/9 [00:00<00:01,  4.46it/s]\u001b[A\n",
      " 56%|██████████████████████████████████████████████▋                                     | 5/9 [00:01<00:00,  5.18it/s]\u001b[A\n",
      " 67%|████████████████████████████████████████████████████████                            | 6/9 [00:01<00:00,  6.01it/s]\u001b[A\n",
      " 78%|█████████████████████████████████████████████████████████████████▎                  | 7/9 [00:01<00:00,  6.53it/s]\u001b[A\n",
      " 89%|██████████████████████████████████████████████████████████████████████████▋         | 8/9 [00:01<00:00,  5.70it/s]\u001b[A\n",
      "100%|████████████████████████████████████████████████████████████████████████████████████| 9/9 [00:02<00:00,  4.38it/s]\u001b[A\n",
      " 50%|█████████████████████████████████████████▌                                         | 5/10 [00:18<00:18,  3.73s/it]"
     ]
    },
    {
     "name": "stdout",
     "output_type": "stream",
     "text": [
      "0.008275528369927065\n"
     ]
    },
    {
     "name": "stderr",
     "output_type": "stream",
     "text": [
      "\n",
      "  0%|                                                                                            | 0/9 [00:00<?, ?it/s]\u001b[A\n",
      " 22%|██████████████████▋                                                                 | 2/9 [00:00<00:02,  3.27it/s]\u001b[A\n",
      " 44%|█████████████████████████████████████▎                                              | 4/9 [00:00<00:00,  5.64it/s]\u001b[A\n",
      " 56%|██████████████████████████████████████████████▋                                     | 5/9 [00:00<00:00,  6.47it/s]\u001b[A\n",
      " 78%|█████████████████████████████████████████████████████████████████▎                  | 7/9 [00:01<00:00,  5.93it/s]\u001b[A\n",
      " 89%|██████████████████████████████████████████████████████████████████████████▋         | 8/9 [00:01<00:00,  6.47it/s]\u001b[A\n",
      "100%|████████████████████████████████████████████████████████████████████████████████████| 9/9 [00:01<00:00,  6.06it/s]\u001b[A\n",
      "\n",
      "  0%|                                                                                            | 0/9 [00:00<?, ?it/s]\u001b[A\n",
      " 11%|█████████▎                                                                          | 1/9 [00:00<00:02,  2.96it/s]\u001b[A\n",
      " 22%|██████████████████▋                                                                 | 2/9 [00:00<00:01,  4.04it/s]\u001b[A\n",
      " 33%|████████████████████████████                                                        | 3/9 [00:00<00:01,  5.47it/s]\u001b[A\n",
      " 44%|█████████████████████████████████████▎                                              | 4/9 [00:00<00:01,  4.22it/s]\u001b[A\n",
      " 56%|██████████████████████████████████████████████▋                                     | 5/9 [00:01<00:00,  5.21it/s]\u001b[A\n",
      " 67%|████████████████████████████████████████████████████████                            | 6/9 [00:01<00:00,  6.06it/s]\u001b[A\n",
      " 78%|█████████████████████████████████████████████████████████████████▎                  | 7/9 [00:01<00:00,  6.58it/s]\u001b[A\n",
      " 89%|██████████████████████████████████████████████████████████████████████████▋         | 8/9 [00:01<00:00,  5.71it/s]\u001b[A\n",
      "100%|████████████████████████████████████████████████████████████████████████████████████| 9/9 [00:02<00:00,  4.33it/s]\u001b[A\n",
      " 60%|█████████████████████████████████████████████████▊                                 | 6/10 [00:22<00:14,  3.70s/it]"
     ]
    },
    {
     "name": "stdout",
     "output_type": "stream",
     "text": [
      "0.007247310822087183\n"
     ]
    },
    {
     "name": "stderr",
     "output_type": "stream",
     "text": [
      "\n",
      "  0%|                                                                                            | 0/9 [00:00<?, ?it/s]\u001b[A\n",
      " 22%|██████████████████▋                                                                 | 2/9 [00:00<00:02,  3.28it/s]\u001b[A\n",
      " 44%|█████████████████████████████████████▎                                              | 4/9 [00:00<00:00,  5.64it/s]\u001b[A\n",
      " 67%|████████████████████████████████████████████████████████                            | 6/9 [00:00<00:00,  7.27it/s]\u001b[A\n",
      " 78%|█████████████████████████████████████████████████████████████████▎                  | 7/9 [00:01<00:00,  5.40it/s]\u001b[A\n",
      " 89%|██████████████████████████████████████████████████████████████████████████▋         | 8/9 [00:01<00:00,  6.04it/s]\u001b[A\n",
      "100%|████████████████████████████████████████████████████████████████████████████████████| 9/9 [00:01<00:00,  5.94it/s]\u001b[A\n",
      "\n",
      "  0%|                                                                                            | 0/9 [00:00<?, ?it/s]\u001b[A\n",
      " 11%|█████████▎                                                                          | 1/9 [00:00<00:03,  2.23it/s]\u001b[A\n",
      " 22%|██████████████████▋                                                                 | 2/9 [00:00<00:02,  2.93it/s]\u001b[A\n",
      " 44%|█████████████████████████████████████▎                                              | 4/9 [00:01<00:01,  3.99it/s]\u001b[A\n",
      " 56%|██████████████████████████████████████████████▋                                     | 5/9 [00:01<00:00,  4.71it/s]\u001b[A\n",
      " 67%|████████████████████████████████████████████████████████                            | 6/9 [00:01<00:00,  5.62it/s]\u001b[A\n",
      " 78%|█████████████████████████████████████████████████████████████████▎                  | 7/9 [00:01<00:00,  6.20it/s]\u001b[A\n",
      " 89%|██████████████████████████████████████████████████████████████████████████▋         | 8/9 [00:01<00:00,  6.23it/s]\u001b[A\n",
      "100%|████████████████████████████████████████████████████████████████████████████████████| 9/9 [00:02<00:00,  3.97it/s]\u001b[A\n",
      " 70%|██████████████████████████████████████████████████████████                         | 7/10 [00:26<00:11,  3.76s/it]"
     ]
    },
    {
     "name": "stdout",
     "output_type": "stream",
     "text": [
      "0.006504148249460107\n"
     ]
    },
    {
     "name": "stderr",
     "output_type": "stream",
     "text": [
      "\n",
      "  0%|                                                                                            | 0/9 [00:00<?, ?it/s]\u001b[A\n",
      " 22%|██████████████████▋                                                                 | 2/9 [00:00<00:02,  2.41it/s]\u001b[A\n",
      " 33%|████████████████████████████                                                        | 3/9 [00:01<00:02,  2.92it/s]\u001b[A\n",
      " 56%|██████████████████████████████████████████████▋                                     | 5/9 [00:01<00:00,  4.87it/s]\u001b[A\n",
      " 67%|████████████████████████████████████████████████████████                            | 6/9 [00:01<00:00,  5.68it/s]\u001b[A\n",
      " 78%|█████████████████████████████████████████████████████████████████▎                  | 7/9 [00:01<00:00,  3.91it/s]\u001b[A\n",
      " 89%|██████████████████████████████████████████████████████████████████████████▋         | 8/9 [00:01<00:00,  4.52it/s]\u001b[A\n",
      "100%|████████████████████████████████████████████████████████████████████████████████████| 9/9 [00:02<00:00,  4.11it/s]\u001b[A\n",
      "\n",
      "  0%|                                                                                            | 0/9 [00:00<?, ?it/s]\u001b[A\n",
      " 11%|█████████▎                                                                          | 1/9 [00:00<00:04,  1.77it/s]\u001b[A\n",
      " 22%|██████████████████▋                                                                 | 2/9 [00:00<00:02,  2.41it/s]\u001b[A\n",
      " 33%|████████████████████████████                                                        | 3/9 [00:00<00:01,  3.58it/s]\u001b[A\n",
      " 44%|█████████████████████████████████████▎                                              | 4/9 [00:01<00:01,  3.44it/s]\u001b[A\n",
      " 56%|██████████████████████████████████████████████▋                                     | 5/9 [00:01<00:00,  4.29it/s]\u001b[A\n",
      " 67%|████████████████████████████████████████████████████████                            | 6/9 [00:01<00:00,  5.20it/s]\u001b[A\n",
      " 78%|█████████████████████████████████████████████████████████████████▎                  | 7/9 [00:01<00:00,  5.87it/s]\u001b[A\n",
      " 89%|██████████████████████████████████████████████████████████████████████████▋         | 8/9 [00:01<00:00,  5.99it/s]\u001b[A\n",
      "100%|████████████████████████████████████████████████████████████████████████████████████| 9/9 [00:02<00:00,  3.71it/s]\u001b[A\n",
      " 80%|██████████████████████████████████████████████████████████████████▍                | 8/10 [00:31<00:08,  4.06s/it]"
     ]
    },
    {
     "name": "stdout",
     "output_type": "stream",
     "text": [
      "0.006010998430703185\n"
     ]
    },
    {
     "name": "stderr",
     "output_type": "stream",
     "text": [
      "\n",
      "  0%|                                                                                            | 0/9 [00:00<?, ?it/s]\u001b[A\n",
      " 22%|██████████████████▋                                                                 | 2/9 [00:00<00:02,  2.93it/s]\u001b[A\n",
      " 33%|████████████████████████████                                                        | 3/9 [00:00<00:01,  3.23it/s]\u001b[A\n",
      " 56%|██████████████████████████████████████████████▋                                     | 5/9 [00:01<00:00,  5.27it/s]\u001b[A\n",
      " 67%|████████████████████████████████████████████████████████                            | 6/9 [00:01<00:00,  5.70it/s]\u001b[A\n",
      " 78%|█████████████████████████████████████████████████████████████████▎                  | 7/9 [00:01<00:00,  4.88it/s]\u001b[A\n",
      "100%|████████████████████████████████████████████████████████████████████████████████████| 9/9 [00:01<00:00,  4.85it/s]\u001b[A\n",
      "\n",
      "  0%|                                                                                            | 0/9 [00:00<?, ?it/s]\u001b[A\n",
      " 11%|█████████▎                                                                          | 1/9 [00:00<00:03,  2.35it/s]\u001b[A\n",
      " 22%|██████████████████▋                                                                 | 2/9 [00:00<00:02,  2.44it/s]\u001b[A\n",
      " 33%|████████████████████████████                                                        | 3/9 [00:00<00:01,  3.69it/s]\u001b[A\n",
      " 44%|█████████████████████████████████████▎                                              | 4/9 [00:01<00:01,  3.00it/s]\u001b[A\n",
      " 56%|██████████████████████████████████████████████▋                                     | 5/9 [00:01<00:01,  3.93it/s]\u001b[A\n",
      " 67%|████████████████████████████████████████████████████████                            | 6/9 [00:01<00:00,  4.95it/s]\u001b[A\n",
      " 78%|█████████████████████████████████████████████████████████████████▎                  | 7/9 [00:01<00:00,  5.62it/s]\u001b[A\n",
      " 89%|██████████████████████████████████████████████████████████████████████████▋         | 8/9 [00:01<00:00,  5.02it/s]\u001b[A\n",
      "100%|████████████████████████████████████████████████████████████████████████████████████| 9/9 [00:02<00:00,  3.56it/s]\u001b[A\n",
      " 90%|██████████████████████████████████████████████████████████████████████████▋        | 9/10 [00:35<00:04,  4.18s/it]"
     ]
    },
    {
     "name": "stdout",
     "output_type": "stream",
     "text": [
      "0.005689390962225205\n"
     ]
    },
    {
     "name": "stderr",
     "output_type": "stream",
     "text": [
      "\n",
      "  0%|                                                                                            | 0/9 [00:00<?, ?it/s]\u001b[A\n",
      " 22%|██████████████████▋                                                                 | 2/9 [00:00<00:03,  2.16it/s]\u001b[A\n",
      " 33%|████████████████████████████                                                        | 3/9 [00:01<00:02,  2.53it/s]\u001b[A\n",
      " 44%|█████████████████████████████████████▎                                              | 4/9 [00:01<00:01,  3.47it/s]\u001b[A\n",
      " 67%|████████████████████████████████████████████████████████                            | 6/9 [00:01<00:00,  5.57it/s]\u001b[A\n",
      " 78%|█████████████████████████████████████████████████████████████████▎                  | 7/9 [00:01<00:00,  4.89it/s]\u001b[A\n",
      "100%|████████████████████████████████████████████████████████████████████████████████████| 9/9 [00:02<00:00,  4.39it/s]\u001b[A\n",
      "\n",
      "  0%|                                                                                            | 0/9 [00:00<?, ?it/s]\u001b[A\n",
      " 11%|█████████▎                                                                          | 1/9 [00:00<00:03,  2.04it/s]\u001b[A\n",
      " 22%|██████████████████▋                                                                 | 2/9 [00:00<00:03,  2.13it/s]\u001b[A\n",
      " 33%|████████████████████████████                                                        | 3/9 [00:01<00:01,  3.20it/s]\u001b[A\n",
      " 44%|█████████████████████████████████████▎                                              | 4/9 [00:01<00:01,  3.24it/s]\u001b[A\n",
      " 56%|██████████████████████████████████████████████▋                                     | 5/9 [00:01<00:00,  4.18it/s]\u001b[A\n",
      " 67%|████████████████████████████████████████████████████████                            | 6/9 [00:01<00:00,  5.18it/s]\u001b[A\n",
      " 78%|█████████████████████████████████████████████████████████████████▎                  | 7/9 [00:01<00:00,  6.01it/s]\u001b[A\n",
      " 89%|██████████████████████████████████████████████████████████████████████████▋         | 8/9 [00:01<00:00,  4.98it/s]\u001b[A\n",
      "100%|████████████████████████████████████████████████████████████████████████████████████| 9/9 [00:02<00:00,  3.49it/s]\u001b[A\n",
      "100%|██████████████████████████████████████████████████████████████████████████████████| 10/10 [00:40<00:00,  4.02s/it]"
     ]
    },
    {
     "name": "stdout",
     "output_type": "stream",
     "text": [
      "0.005461347418336926\n"
     ]
    },
    {
     "name": "stderr",
     "output_type": "stream",
     "text": [
      "\n"
     ]
    }
   ],
   "source": [
    "num_qubits = 4\n",
    "num_w_layers = 4\n",
    "t = 0.1\n",
    "num_trotter_steps = 5\n",
    "noisy_cost_data, exact_cost_data, time_data, angles, params = nodewise_train(num_qubits, t, num_trotter_steps, num_w_layers, num_stack_sweeps=10, max_dim=16)"
   ]
  },
  {
   "cell_type": "code",
   "execution_count": 11,
   "id": "e2910857",
   "metadata": {
    "ExecuteTime": {
     "end_time": "2023-07-21T22:31:25.233390Z",
     "start_time": "2023-07-21T22:31:25.070393Z"
    },
    "hidden": true
   },
   "outputs": [
    {
     "data": {
      "text/plain": [
       "[<matplotlib.lines.Line2D at 0x1da82ba42e0>]"
      ]
     },
     "execution_count": 11,
     "metadata": {},
     "output_type": "execute_result"
    },
    {
     "data": {
      "image/png": "[encoded data removed]",
      "text/plain": [
       "<Figure size 432x288 with 1 Axes>"
      ]
     },
     "metadata": {
      "needs_background": "light"
     },
     "output_type": "display_data"
    }
   ],
   "source": [
    "plt.plot(time_data[0::17], exact_cost_data)\n",
    "plt.plot(time_data[0::17], noisy_cost_data[0::17], 'r')"
   ]
  },
  {
   "cell_type": "markdown",
   "id": "3eb2c32d",
   "metadata": {
    "heading_collapsed": true
   },
   "source": [
    "# Timing"
   ]
  },
  {
   "cell_type": "code",
   "execution_count": 2,
   "id": "9e66cabb",
   "metadata": {
    "ExecuteTime": {
     "end_time": "2023-07-24T02:17:06.827618Z",
     "start_time": "2023-07-24T02:17:06.780377Z"
    },
    "hidden": true
   },
   "outputs": [],
   "source": [
    "%load_ext line_profiler"
   ]
  },
  {
   "cell_type": "code",
   "execution_count": 3,
   "id": "9b64ff44",
   "metadata": {
    "ExecuteTime": {
     "end_time": "2023-07-24T02:17:06.843654Z",
     "start_time": "2023-07-24T02:17:06.830651Z"
    },
    "hidden": true
   },
   "outputs": [],
   "source": [
    "num_qubits = 12\n",
    "num_w_layers = num_qubits \n",
    "max_dim = 64\n",
    "num_trotter_steps = 5\n",
    "t=0.1"
   ]
  },
  {
   "cell_type": "code",
   "execution_count": 4,
   "id": "e2e86aff",
   "metadata": {
    "ExecuteTime": {
     "end_time": "2023-07-24T02:37:55.966310Z",
     "start_time": "2023-07-24T02:17:09.842782Z"
    },
    "hidden": true
   },
   "outputs": [
    {
     "name": "stderr",
     "output_type": "stream",
     "text": [
      "  0%|                                                                                                                                           | 0/10 [00:00<?, ?it/s]\n",
      "  0%|                                                                                                                                           | 0/25 [00:00<?, ?it/s]\u001b[A\n",
      "  4%|█████▏                                                                                                                             | 1/25 [00:00<00:07,  3.13it/s]\u001b[A\n",
      "  8%|██████████▍                                                                                                                        | 2/25 [00:01<00:22,  1.02it/s]\u001b[A\n",
      " 12%|███████████████▋                                                                                                                   | 3/25 [00:02<00:19,  1.13it/s]\u001b[A\n",
      " 16%|████████████████████▉                                                                                                              | 4/25 [00:03<00:18,  1.11it/s]\u001b[A\n",
      " 20%|██████████████████████████▏                                                                                                        | 5/25 [00:05<00:24,  1.24s/it]\u001b[A\n",
      " 24%|███████████████████████████████▍                                                                                                   | 6/25 [00:07<00:27,  1.45s/it]\u001b[A\n",
      " 28%|████████████████████████████████████▋                                                                                              | 7/25 [00:08<00:27,  1.54s/it]\u001b[A\n",
      " 32%|█████████████████████████████████████████▉                                                                                         | 8/25 [00:10<00:26,  1.58s/it]\u001b[A\n",
      " 36%|███████████████████████████████████████████████▏                                                                                   | 9/25 [00:12<00:25,  1.62s/it]\u001b[A\n",
      " 40%|████████████████████████████████████████████████████                                                                              | 10/25 [00:13<00:24,  1.64s/it]\u001b[A\n",
      " 44%|█████████████████████████████████████████████████████████▏                                                                        | 11/25 [00:15<00:23,  1.66s/it]\u001b[A\n",
      " 48%|██████████████████████████████████████████████████████████████▍                                                                   | 12/25 [00:17<00:22,  1.70s/it]\u001b[A\n",
      " 52%|███████████████████████████████████████████████████████████████████▌                                                              | 13/25 [00:19<00:21,  1.77s/it]\u001b[A\n",
      " 56%|████████████████████████████████████████████████████████████████████████▊                                                         | 14/25 [00:21<00:20,  1.87s/it]\u001b[A\n",
      " 60%|██████████████████████████████████████████████████████████████████████████████                                                    | 15/25 [00:23<00:18,  1.86s/it]\u001b[A\n",
      " 64%|███████████████████████████████████████████████████████████████████████████████████▏                                              | 16/25 [00:24<00:16,  1.81s/it]\u001b[A\n",
      " 68%|████████████████████████████████████████████████████████████████████████████████████████▍                                         | 17/25 [00:27<00:15,  1.98s/it]\u001b[A\n",
      " 72%|█████████████████████████████████████████████████████████████████████████████████████████████▌                                    | 18/25 [00:29<00:14,  2.05s/it]\u001b[A\n",
      " 76%|██████████████████████████████████████████████████████████████████████████████████████████████████▊                               | 19/25 [00:31<00:12,  2.00s/it]\u001b[A\n",
      " 80%|████████████████████████████████████████████████████████████████████████████████████████████████████████                          | 20/25 [00:33<00:10,  2.01s/it]\u001b[A\n",
      " 84%|█████████████████████████████████████████████████████████████████████████████████████████████████████████████▏                    | 21/25 [00:35<00:07,  1.96s/it]\u001b[A\n",
      " 88%|██████████████████████████████████████████████████████████████████████████████████████████████████████████████████▍               | 22/25 [00:37<00:05,  1.89s/it]\u001b[A\n",
      " 92%|███████████████████████████████████████████████████████████████████████████████████████████████████████████████████████▌          | 23/25 [00:38<00:03,  1.86s/it]\u001b[A\n",
      " 96%|████████████████████████████████████████████████████████████████████████████████████████████████████████████████████████████▊     | 24/25 [00:40<00:01,  1.94s/it]\u001b[A\n",
      "100%|██████████████████████████████████████████████████████████████████████████████████████████████████████████████████████████████████| 25/25 [00:42<00:00,  1.70s/it]\u001b[A\n",
      "\n",
      "  0%|                                                                                                                                           | 0/25 [00:00<?, ?it/s]\u001b[A\n",
      "  4%|█████▏                                                                                                                             | 1/25 [00:01<00:42,  1.78s/it]\u001b[A\n",
      "  8%|██████████▍                                                                                                                        | 2/25 [00:03<00:43,  1.90s/it]\u001b[A\n",
      " 12%|███████████████▋                                                                                                                   | 3/25 [00:05<00:43,  1.95s/it]\u001b[A\n",
      " 16%|████████████████████▉                                                                                                              | 4/25 [00:07<00:40,  1.91s/it]\u001b[A\n",
      " 20%|██████████████████████████▏                                                                                                        | 5/25 [00:09<00:37,  1.90s/it]\u001b[A\n",
      " 24%|███████████████████████████████▍                                                                                                   | 6/25 [00:11<00:34,  1.84s/it]\u001b[A\n",
      " 28%|████████████████████████████████████▋                                                                                              | 7/25 [00:12<00:32,  1.79s/it]\u001b[A\n",
      " 32%|█████████████████████████████████████████▉                                                                                         | 8/25 [00:14<00:29,  1.75s/it]\u001b[A\n",
      " 36%|███████████████████████████████████████████████▏                                                                                   | 9/25 [00:16<00:27,  1.72s/it]\u001b[A\n",
      " 40%|████████████████████████████████████████████████████                                                                              | 10/25 [00:17<00:25,  1.71s/it]\u001b[A\n",
      " 44%|█████████████████████████████████████████████████████████▏                                                                        | 11/25 [00:19<00:23,  1.71s/it]\u001b[A\n",
      " 48%|██████████████████████████████████████████████████████████████▍                                                                   | 12/25 [00:21<00:22,  1.72s/it]\u001b[A\n",
      " 52%|███████████████████████████████████████████████████████████████████▌                                                              | 13/25 [00:23<00:20,  1.75s/it]\u001b[A\n",
      " 56%|████████████████████████████████████████████████████████████████████████▊                                                         | 14/25 [00:24<00:19,  1.73s/it]\u001b[A\n",
      " 60%|██████████████████████████████████████████████████████████████████████████████                                                    | 15/25 [00:26<00:17,  1.72s/it]\u001b[A\n",
      " 64%|███████████████████████████████████████████████████████████████████████████████████▏                                              | 16/25 [00:28<00:16,  1.78s/it]\u001b[A\n",
      " 68%|████████████████████████████████████████████████████████████████████████████████████████▍                                         | 17/25 [00:30<00:14,  1.80s/it]\u001b[A\n",
      " 72%|█████████████████████████████████████████████████████████████████████████████████████████████▌                                    | 18/25 [00:32<00:13,  1.93s/it]\u001b[A\n",
      " 76%|██████████████████████████████████████████████████████████████████████████████████████████████████▊                               | 19/25 [00:34<00:11,  1.91s/it]\u001b[A\n",
      " 80%|████████████████████████████████████████████████████████████████████████████████████████████████████████                          | 20/25 [00:36<00:09,  1.90s/it]\u001b[A\n",
      " 84%|█████████████████████████████████████████████████████████████████████████████████████████████████████████████▏                    | 21/25 [00:38<00:07,  1.94s/it]\u001b[A\n",
      " 88%|██████████████████████████████████████████████████████████████████████████████████████████████████████████████████▍               | 22/25 [00:40<00:05,  1.99s/it]\u001b[A\n",
      " 92%|███████████████████████████████████████████████████████████████████████████████████████████████████████████████████████▌          | 23/25 [00:41<00:03,  1.81s/it]\u001b[A\n",
      " 96%|████████████████████████████████████████████████████████████████████████████████████████████████████████████████████████████▊     | 24/25 [00:43<00:01,  1.63s/it]\u001b[A\n",
      "100%|██████████████████████████████████████████████████████████████████████████████████████████████████████████████████████████████████| 25/25 [00:44<00:00,  1.77s/it]\u001b[A\n",
      " 10%|█████████████                                                                                                                      | 1/10 [01:26<13:00, 86.73s/it]\n",
      "  0%|                                                                                                                                           | 0/25 [00:00<?, ?it/s]\u001b[A\n",
      "  4%|█████▏                                                                                                                             | 1/25 [00:00<00:07,  3.35it/s]\u001b[A\n",
      "  8%|██████████▍                                                                                                                        | 2/25 [00:01<00:12,  1.82it/s]\u001b[A\n",
      " 12%|███████████████▋                                                                                                                   | 3/25 [00:01<00:14,  1.57it/s]\u001b[A\n",
      " 16%|████████████████████▉                                                                                                              | 4/25 [00:02<00:15,  1.39it/s]\u001b[A\n",
      " 20%|██████████████████████████▏                                                                                                        | 5/25 [00:04<00:21,  1.08s/it]\u001b[A\n",
      " 24%|███████████████████████████████▍                                                                                                   | 6/25 [00:06<00:25,  1.33s/it]\u001b[A\n",
      " 28%|████████████████████████████████████▋                                                                                              | 7/25 [00:08<00:27,  1.55s/it]\u001b[A\n",
      " 32%|█████████████████████████████████████████▉                                                                                         | 8/25 [00:09<00:27,  1.63s/it]\u001b[A\n",
      " 36%|███████████████████████████████████████████████▏                                                                                   | 9/25 [00:11<00:26,  1.67s/it]\u001b[A\n",
      " 40%|████████████████████████████████████████████████████                                                                              | 10/25 [00:13<00:24,  1.66s/it]\u001b[A\n",
      " 44%|█████████████████████████████████████████████████████████▏                                                                        | 11/25 [00:15<00:24,  1.72s/it]\u001b[A\n",
      " 48%|██████████████████████████████████████████████████████████████▍                                                                   | 12/25 [00:17<00:23,  1.79s/it]\u001b[A\n",
      " 52%|███████████████████████████████████████████████████████████████████▌                                                              | 13/25 [00:18<00:21,  1.78s/it]\u001b[A\n",
      " 56%|████████████████████████████████████████████████████████████████████████▊                                                         | 14/25 [00:20<00:20,  1.84s/it]\u001b[A\n",
      " 60%|██████████████████████████████████████████████████████████████████████████████                                                    | 15/25 [00:22<00:18,  1.82s/it]\u001b[A\n",
      " 64%|███████████████████████████████████████████████████████████████████████████████████▏                                              | 16/25 [00:24<00:16,  1.81s/it]\u001b[A\n",
      " 68%|████████████████████████████████████████████████████████████████████████████████████████▍                                         | 17/25 [00:26<00:14,  1.80s/it]\u001b[A\n",
      " 72%|█████████████████████████████████████████████████████████████████████████████████████████████▌                                    | 18/25 [00:28<00:12,  1.80s/it]\u001b[A\n",
      " 76%|██████████████████████████████████████████████████████████████████████████████████████████████████▊                               | 19/25 [00:29<00:10,  1.79s/it]\u001b[A\n",
      " 80%|████████████████████████████████████████████████████████████████████████████████████████████████████████                          | 20/25 [00:31<00:08,  1.79s/it]\u001b[A\n",
      " 84%|█████████████████████████████████████████████████████████████████████████████████████████████████████████████▏                    | 21/25 [00:33<00:07,  1.80s/it]\u001b[A\n",
      " 88%|██████████████████████████████████████████████████████████████████████████████████████████████████████████████████▍               | 22/25 [00:35<00:05,  1.78s/it]\u001b[A\n",
      " 92%|███████████████████████████████████████████████████████████████████████████████████████████████████████████████████████▌          | 23/25 [00:36<00:03,  1.79s/it]\u001b[A\n",
      " 96%|████████████████████████████████████████████████████████████████████████████████████████████████████████████████████████████▊     | 24/25 [00:38<00:01,  1.82s/it]\u001b[A\n",
      "100%|██████████████████████████████████████████████████████████████████████████████████████████████████████████████████████████████████| 25/25 [00:40<00:00,  1.62s/it]\u001b[A\n",
      "\n",
      "  0%|                                                                                                                                           | 0/25 [00:00<?, ?it/s]\u001b[A\n",
      "  4%|█████▏                                                                                                                             | 1/25 [00:01<00:34,  1.45s/it]\u001b[A\n",
      "  8%|██████████▍                                                                                                                        | 2/25 [00:03<00:36,  1.60s/it]\u001b[A\n",
      " 12%|███████████████▋                                                                                                                   | 3/25 [00:04<00:37,  1.70s/it]\u001b[A\n",
      " 16%|████████████████████▉                                                                                                              | 4/25 [00:06<00:36,  1.76s/it]\u001b[A\n",
      " 20%|██████████████████████████▏                                                                                                        | 5/25 [00:08<00:36,  1.80s/it]\u001b[A\n",
      " 24%|███████████████████████████████▍                                                                                                   | 6/25 [00:10<00:34,  1.82s/it]\u001b[A\n",
      " 28%|████████████████████████████████████▋                                                                                              | 7/25 [00:12<00:33,  1.88s/it]\u001b[A\n",
      " 32%|█████████████████████████████████████████▉                                                                                         | 8/25 [00:14<00:32,  1.89s/it]\u001b[A\n",
      " 36%|███████████████████████████████████████████████▏                                                                                   | 9/25 [00:16<00:29,  1.85s/it]\u001b[A\n",
      " 40%|████████████████████████████████████████████████████                                                                              | 10/25 [00:17<00:27,  1.81s/it]\u001b[A\n",
      " 44%|█████████████████████████████████████████████████████████▏                                                                        | 11/25 [00:19<00:25,  1.82s/it]\u001b[A\n",
      " 48%|██████████████████████████████████████████████████████████████▍                                                                   | 12/25 [00:21<00:23,  1.78s/it]\u001b[A\n",
      " 52%|███████████████████████████████████████████████████████████████████▌                                                              | 13/25 [00:23<00:20,  1.74s/it]\u001b[A\n"
     ]
    },
    {
     "name": "stderr",
     "output_type": "stream",
     "text": [
      " 56%|████████████████████████████████████████████████████████████████████████▊                                                         | 14/25 [00:24<00:19,  1.74s/it]\u001b[A\n",
      " 60%|██████████████████████████████████████████████████████████████████████████████                                                    | 15/25 [00:26<00:17,  1.71s/it]\u001b[A\n",
      " 64%|███████████████████████████████████████████████████████████████████████████████████▏                                              | 16/25 [00:28<00:15,  1.68s/it]\u001b[A\n",
      " 68%|████████████████████████████████████████████████████████████████████████████████████████▍                                         | 17/25 [00:29<00:13,  1.70s/it]\u001b[A\n",
      " 72%|█████████████████████████████████████████████████████████████████████████████████████████████▌                                    | 18/25 [00:31<00:11,  1.71s/it]\u001b[A\n",
      " 76%|██████████████████████████████████████████████████████████████████████████████████████████████████▊                               | 19/25 [00:33<00:10,  1.71s/it]\u001b[A\n",
      " 80%|████████████████████████████████████████████████████████████████████████████████████████████████████████                          | 20/25 [00:35<00:09,  1.92s/it]\u001b[A\n",
      " 84%|█████████████████████████████████████████████████████████████████████████████████████████████████████████████▏                    | 21/25 [00:38<00:08,  2.03s/it]\u001b[A\n",
      " 88%|██████████████████████████████████████████████████████████████████████████████████████████████████████████████████▍               | 22/25 [00:40<00:06,  2.08s/it]\u001b[A\n",
      " 92%|███████████████████████████████████████████████████████████████████████████████████████████████████████████████████████▌          | 23/25 [00:41<00:03,  1.92s/it]\u001b[A\n",
      " 96%|████████████████████████████████████████████████████████████████████████████████████████████████████████████████████████████▊     | 24/25 [00:43<00:01,  1.74s/it]\u001b[A\n",
      "100%|██████████████████████████████████████████████████████████████████████████████████████████████████████████████████████████████████| 25/25 [00:43<00:00,  1.76s/it]\u001b[A\n",
      " 20%|██████████████████████████▏                                                                                                        | 2/10 [02:51<11:22, 85.37s/it]\n",
      "  0%|                                                                                                                                           | 0/25 [00:00<?, ?it/s]\u001b[A\n",
      "  4%|█████▏                                                                                                                             | 1/25 [00:00<00:05,  4.31it/s]\u001b[A\n",
      "  8%|██████████▍                                                                                                                        | 2/25 [00:00<00:12,  1.89it/s]\u001b[A\n",
      " 12%|███████████████▋                                                                                                                   | 3/25 [00:01<00:14,  1.55it/s]\u001b[A\n",
      " 16%|████████████████████▉                                                                                                              | 4/25 [00:02<00:15,  1.35it/s]\u001b[A\n",
      " 20%|██████████████████████████▏                                                                                                        | 5/25 [00:04<00:23,  1.20s/it]\u001b[A\n",
      " 24%|███████████████████████████████▍                                                                                                   | 6/25 [00:06<00:26,  1.42s/it]\u001b[A\n",
      " 28%|████████████████████████████████████▋                                                                                              | 7/25 [00:08<00:27,  1.55s/it]\u001b[A\n",
      " 32%|█████████████████████████████████████████▉                                                                                         | 8/25 [00:10<00:27,  1.64s/it]\u001b[A\n",
      " 36%|███████████████████████████████████████████████▏                                                                                   | 9/25 [00:11<00:26,  1.65s/it]\u001b[A\n",
      " 40%|████████████████████████████████████████████████████                                                                              | 10/25 [00:13<00:25,  1.71s/it]\u001b[A\n",
      " 44%|█████████████████████████████████████████████████████████▏                                                                        | 11/25 [00:15<00:24,  1.73s/it]\u001b[A\n",
      " 48%|██████████████████████████████████████████████████████████████▍                                                                   | 12/25 [00:17<00:22,  1.73s/it]\u001b[A\n",
      " 52%|███████████████████████████████████████████████████████████████████▌                                                              | 13/25 [00:18<00:20,  1.71s/it]\u001b[A\n",
      " 56%|████████████████████████████████████████████████████████████████████████▊                                                         | 14/25 [00:20<00:19,  1.78s/it]\u001b[A\n",
      " 60%|██████████████████████████████████████████████████████████████████████████████                                                    | 15/25 [00:22<00:18,  1.81s/it]\u001b[A\n",
      " 64%|███████████████████████████████████████████████████████████████████████████████████▏                                              | 16/25 [00:24<00:16,  1.79s/it]\u001b[A\n",
      " 68%|████████████████████████████████████████████████████████████████████████████████████████▍                                         | 17/25 [00:26<00:14,  1.79s/it]\u001b[A\n",
      " 72%|█████████████████████████████████████████████████████████████████████████████████████████████▌                                    | 18/25 [00:27<00:12,  1.79s/it]\u001b[A\n",
      " 76%|██████████████████████████████████████████████████████████████████████████████████████████████████▊                               | 19/25 [00:29<00:10,  1.79s/it]\u001b[A\n",
      " 80%|████████████████████████████████████████████████████████████████████████████████████████████████████████                          | 20/25 [00:31<00:09,  1.82s/it]\u001b[A\n",
      " 84%|█████████████████████████████████████████████████████████████████████████████████████████████████████████████▏                    | 21/25 [00:33<00:07,  1.86s/it]\u001b[A\n",
      " 88%|██████████████████████████████████████████████████████████████████████████████████████████████████████████████████▍               | 22/25 [00:35<00:05,  1.86s/it]\u001b[A\n",
      " 92%|███████████████████████████████████████████████████████████████████████████████████████████████████████████████████████▌          | 23/25 [00:37<00:03,  1.83s/it]\u001b[A\n",
      " 96%|████████████████████████████████████████████████████████████████████████████████████████████████████████████████████████████▊     | 24/25 [00:38<00:01,  1.79s/it]\u001b[A\n",
      "100%|██████████████████████████████████████████████████████████████████████████████████████████████████████████████████████████████████| 25/25 [00:40<00:00,  1.62s/it]\u001b[A\n",
      "\n",
      "  0%|                                                                                                                                           | 0/25 [00:00<?, ?it/s]\u001b[A\n",
      "  4%|█████▏                                                                                                                             | 1/25 [00:01<00:38,  1.60s/it]\u001b[A\n",
      "  8%|██████████▍                                                                                                                        | 2/25 [00:03<00:39,  1.70s/it]\u001b[A\n",
      " 12%|███████████████▋                                                                                                                   | 3/25 [00:05<00:37,  1.71s/it]\u001b[A\n",
      " 16%|████████████████████▉                                                                                                              | 4/25 [00:06<00:36,  1.74s/it]\u001b[A\n",
      " 20%|██████████████████████████▏                                                                                                        | 5/25 [00:08<00:35,  1.75s/it]\u001b[A\n",
      " 24%|███████████████████████████████▍                                                                                                   | 6/25 [00:10<00:33,  1.76s/it]\u001b[A\n",
      " 28%|████████████████████████████████████▋                                                                                              | 7/25 [00:12<00:31,  1.75s/it]\u001b[A\n",
      " 32%|█████████████████████████████████████████▉                                                                                         | 8/25 [00:13<00:29,  1.74s/it]\u001b[A\n",
      " 36%|███████████████████████████████████████████████▏                                                                                   | 9/25 [00:15<00:27,  1.74s/it]\u001b[A\n",
      " 40%|████████████████████████████████████████████████████                                                                              | 10/25 [00:17<00:26,  1.76s/it]\u001b[A\n",
      " 44%|█████████████████████████████████████████████████████████▏                                                                        | 11/25 [00:19<00:23,  1.71s/it]\u001b[A\n",
      " 48%|██████████████████████████████████████████████████████████████▍                                                                   | 12/25 [00:20<00:22,  1.72s/it]\u001b[A\n",
      " 52%|███████████████████████████████████████████████████████████████████▌                                                              | 13/25 [00:22<00:20,  1.69s/it]\u001b[A\n",
      " 56%|████████████████████████████████████████████████████████████████████████▊                                                         | 14/25 [00:24<00:18,  1.68s/it]\u001b[A\n",
      " 60%|██████████████████████████████████████████████████████████████████████████████                                                    | 15/25 [00:25<00:17,  1.70s/it]\u001b[A\n",
      " 64%|███████████████████████████████████████████████████████████████████████████████████▏                                              | 16/25 [00:27<00:15,  1.69s/it]\u001b[A\n",
      " 68%|████████████████████████████████████████████████████████████████████████████████████████▍                                         | 17/25 [00:29<00:13,  1.68s/it]\u001b[A\n",
      " 72%|█████████████████████████████████████████████████████████████████████████████████████████████▌                                    | 18/25 [00:30<00:11,  1.69s/it]\u001b[A\n",
      " 76%|██████████████████████████████████████████████████████████████████████████████████████████████████▊                               | 19/25 [00:32<00:10,  1.71s/it]\u001b[A\n",
      " 80%|████████████████████████████████████████████████████████████████████████████████████████████████████████                          | 20/25 [00:34<00:08,  1.74s/it]\u001b[A\n",
      " 84%|█████████████████████████████████████████████████████████████████████████████████████████████████████████████▏                    | 21/25 [00:36<00:06,  1.72s/it]\u001b[A\n",
      " 88%|██████████████████████████████████████████████████████████████████████████████████████████████████████████████████▍               | 22/25 [00:37<00:05,  1.77s/it]\u001b[A\n",
      " 92%|███████████████████████████████████████████████████████████████████████████████████████████████████████████████████████▌          | 23/25 [00:39<00:03,  1.62s/it]\u001b[A\n",
      " 96%|████████████████████████████████████████████████████████████████████████████████████████████████████████████████████████████▊     | 24/25 [00:40<00:01,  1.51s/it]\u001b[A\n",
      "100%|██████████████████████████████████████████████████████████████████████████████████████████████████████████████████████████████████| 25/25 [00:41<00:00,  1.66s/it]\u001b[A\n",
      " 30%|███████████████████████████████████████▎                                                                                           | 3/10 [04:13<09:46, 83.81s/it]\n",
      "  0%|                                                                                                                                           | 0/25 [00:00<?, ?it/s]\u001b[A\n",
      "  4%|█████▏                                                                                                                             | 1/25 [00:00<00:06,  3.55it/s]\u001b[A\n",
      "  8%|██████████▍                                                                                                                        | 2/25 [00:01<00:15,  1.51it/s]\u001b[A\n",
      " 12%|███████████████▋                                                                                                                   | 3/25 [00:01<00:14,  1.50it/s]\u001b[A\n",
      " 16%|████████████████████▉                                                                                                              | 4/25 [00:02<00:15,  1.34it/s]\u001b[A\n",
      " 20%|██████████████████████████▏                                                                                                        | 5/25 [00:04<00:22,  1.11s/it]\u001b[A\n",
      " 24%|███████████████████████████████▍                                                                                                   | 6/25 [00:06<00:26,  1.39s/it]\u001b[A\n",
      " 28%|████████████████████████████████████▋                                                                                              | 7/25 [00:08<00:27,  1.53s/it]\u001b[A\n",
      " 32%|█████████████████████████████████████████▉                                                                                         | 8/25 [00:10<00:29,  1.71s/it]\u001b[A\n",
      " 36%|███████████████████████████████████████████████▏                                                                                   | 9/25 [00:12<00:27,  1.73s/it]\u001b[A\n",
      " 40%|████████████████████████████████████████████████████                                                                              | 10/25 [00:13<00:26,  1.75s/it]\u001b[A\n",
      " 44%|█████████████████████████████████████████████████████████▏                                                                        | 11/25 [00:16<00:26,  1.90s/it]\u001b[A\n",
      " 48%|██████████████████████████████████████████████████████████████▍                                                                   | 12/25 [00:18<00:24,  1.88s/it]\u001b[A\n",
      " 52%|███████████████████████████████████████████████████████████████████▌                                                              | 13/25 [00:20<00:23,  1.92s/it]\u001b[A\n",
      " 56%|████████████████████████████████████████████████████████████████████████▊                                                         | 14/25 [00:21<00:20,  1.90s/it]\u001b[A\n",
      " 60%|██████████████████████████████████████████████████████████████████████████████                                                    | 15/25 [00:23<00:18,  1.86s/it]\u001b[A\n",
      " 64%|███████████████████████████████████████████████████████████████████████████████████▏                                              | 16/25 [00:25<00:16,  1.85s/it]\u001b[A\n",
      " 68%|████████████████████████████████████████████████████████████████████████████████████████▍                                         | 17/25 [00:27<00:14,  1.86s/it]\u001b[A\n",
      " 72%|█████████████████████████████████████████████████████████████████████████████████████████████▌                                    | 18/25 [00:29<00:13,  1.87s/it]\u001b[A\n",
      " 76%|██████████████████████████████████████████████████████████████████████████████████████████████████▊                               | 19/25 [00:31<00:11,  1.84s/it]\u001b[A\n",
      " 80%|████████████████████████████████████████████████████████████████████████████████████████████████████████                          | 20/25 [00:32<00:09,  1.82s/it]\u001b[A\n",
      " 84%|█████████████████████████████████████████████████████████████████████████████████████████████████████████████▏                    | 21/25 [00:34<00:07,  1.82s/it]\u001b[A\n",
      " 88%|██████████████████████████████████████████████████████████████████████████████████████████████████████████████████▍               | 22/25 [00:36<00:05,  1.81s/it]\u001b[A\n",
      " 92%|███████████████████████████████████████████████████████████████████████████████████████████████████████████████████████▌          | 23/25 [00:38<00:03,  1.81s/it]\u001b[A\n",
      " 96%|████████████████████████████████████████████████████████████████████████████████████████████████████████████████████████████▊     | 24/25 [00:39<00:01,  1.78s/it]\u001b[A\n",
      "100%|██████████████████████████████████████████████████████████████████████████████████████████████████████████████████████████████████| 25/25 [00:41<00:00,  1.65s/it]\u001b[A\n",
      "\n",
      "  0%|                                                                                                                                           | 0/25 [00:00<?, ?it/s]\u001b[A\n",
      "  4%|█████▏                                                                                                                             | 1/25 [00:01<00:31,  1.32s/it]\u001b[A\n"
     ]
    },
    {
     "name": "stderr",
     "output_type": "stream",
     "text": [
      "  8%|██████████▍                                                                                                                        | 2/25 [00:03<00:37,  1.62s/it]\u001b[A\n",
      " 12%|███████████████▋                                                                                                                   | 3/25 [00:04<00:36,  1.67s/it]\u001b[A\n",
      " 16%|████████████████████▉                                                                                                              | 4/25 [00:06<00:36,  1.73s/it]\u001b[A\n",
      " 20%|██████████████████████████▏                                                                                                        | 5/25 [00:08<00:35,  1.80s/it]\u001b[A\n",
      " 24%|███████████████████████████████▍                                                                                                   | 6/25 [00:10<00:33,  1.77s/it]\u001b[A\n",
      " 28%|████████████████████████████████████▋                                                                                              | 7/25 [00:12<00:32,  1.78s/it]\u001b[A\n",
      " 32%|█████████████████████████████████████████▉                                                                                         | 8/25 [00:14<00:30,  1.81s/it]\u001b[A\n",
      " 36%|███████████████████████████████████████████████▏                                                                                   | 9/25 [00:15<00:28,  1.81s/it]\u001b[A\n",
      " 40%|████████████████████████████████████████████████████                                                                              | 10/25 [00:17<00:27,  1.83s/it]\u001b[A\n",
      " 44%|█████████████████████████████████████████████████████████▏                                                                        | 11/25 [00:19<00:27,  1.96s/it]\u001b[A\n",
      " 48%|██████████████████████████████████████████████████████████████▍                                                                   | 12/25 [00:21<00:25,  1.93s/it]\u001b[A\n",
      " 52%|███████████████████████████████████████████████████████████████████▌                                                              | 13/25 [00:23<00:23,  1.97s/it]\u001b[A\n",
      " 56%|████████████████████████████████████████████████████████████████████████▊                                                         | 14/25 [00:25<00:21,  1.99s/it]\u001b[A\n",
      " 60%|██████████████████████████████████████████████████████████████████████████████                                                    | 15/25 [00:27<00:19,  2.00s/it]\u001b[A\n",
      " 64%|███████████████████████████████████████████████████████████████████████████████████▏                                              | 16/25 [00:29<00:17,  1.95s/it]\u001b[A\n",
      " 68%|████████████████████████████████████████████████████████████████████████████████████████▍                                         | 17/25 [00:31<00:15,  1.89s/it]\u001b[A\n",
      " 72%|█████████████████████████████████████████████████████████████████████████████████████████████▌                                    | 18/25 [00:33<00:12,  1.83s/it]\u001b[A\n",
      " 76%|██████████████████████████████████████████████████████████████████████████████████████████████████▊                               | 19/25 [00:34<00:10,  1.79s/it]\u001b[A\n",
      " 80%|████████████████████████████████████████████████████████████████████████████████████████████████████████                          | 20/25 [00:36<00:08,  1.77s/it]\u001b[A\n",
      " 84%|█████████████████████████████████████████████████████████████████████████████████████████████████████████████▏                    | 21/25 [00:38<00:07,  1.79s/it]\u001b[A\n",
      " 88%|██████████████████████████████████████████████████████████████████████████████████████████████████████████████████▍               | 22/25 [00:40<00:05,  1.79s/it]\u001b[A\n",
      " 92%|███████████████████████████████████████████████████████████████████████████████████████████████████████████████████████▌          | 23/25 [00:41<00:03,  1.66s/it]\u001b[A\n",
      " 96%|████████████████████████████████████████████████████████████████████████████████████████████████████████████████████████████▊     | 24/25 [00:42<00:01,  1.55s/it]\u001b[A\n",
      "100%|██████████████████████████████████████████████████████████████████████████████████████████████████████████████████████████████████| 25/25 [00:44<00:00,  1.77s/it]\u001b[A\n",
      " 40%|████████████████████████████████████████████████████▍                                                                              | 4/10 [05:38<08:27, 84.53s/it]\n",
      "  0%|                                                                                                                                           | 0/25 [00:00<?, ?it/s]\u001b[A\n",
      "  4%|█████▏                                                                                                                             | 1/25 [00:00<00:06,  3.75it/s]\u001b[A\n",
      "  8%|██████████▍                                                                                                                        | 2/25 [00:01<00:21,  1.05it/s]\u001b[A\n",
      " 12%|███████████████▋                                                                                                                   | 3/25 [00:02<00:19,  1.13it/s]\u001b[A\n",
      " 16%|████████████████████▉                                                                                                              | 4/25 [00:03<00:21,  1.00s/it]\u001b[A\n",
      " 20%|██████████████████████████▏                                                                                                        | 5/25 [00:05<00:26,  1.33s/it]\u001b[A\n",
      " 24%|███████████████████████████████▍                                                                                                   | 6/25 [00:07<00:29,  1.58s/it]\u001b[A\n",
      " 28%|████████████████████████████████████▋                                                                                              | 7/25 [00:09<00:32,  1.79s/it]\u001b[A\n",
      " 32%|█████████████████████████████████████████▉                                                                                         | 8/25 [00:11<00:30,  1.79s/it]\u001b[A\n",
      " 36%|███████████████████████████████████████████████▏                                                                                   | 9/25 [00:13<00:28,  1.76s/it]\u001b[A\n",
      " 40%|████████████████████████████████████████████████████                                                                              | 10/25 [00:15<00:26,  1.75s/it]\u001b[A\n",
      " 44%|█████████████████████████████████████████████████████████▏                                                                        | 11/25 [00:17<00:27,  1.98s/it]\u001b[A\n",
      " 48%|██████████████████████████████████████████████████████████████▍                                                                   | 12/25 [00:19<00:25,  1.93s/it]\u001b[A\n",
      " 52%|███████████████████████████████████████████████████████████████████▌                                                              | 13/25 [00:21<00:22,  1.87s/it]\u001b[A\n",
      " 56%|████████████████████████████████████████████████████████████████████████▊                                                         | 14/25 [00:23<00:22,  2.06s/it]\u001b[A\n",
      " 60%|██████████████████████████████████████████████████████████████████████████████                                                    | 15/25 [00:25<00:20,  2.01s/it]\u001b[A\n",
      " 64%|███████████████████████████████████████████████████████████████████████████████████▏                                              | 16/25 [00:27<00:18,  2.05s/it]\u001b[A\n",
      " 68%|████████████████████████████████████████████████████████████████████████████████████████▍                                         | 17/25 [00:29<00:15,  1.97s/it]\u001b[A\n",
      " 72%|█████████████████████████████████████████████████████████████████████████████████████████████▌                                    | 18/25 [00:31<00:14,  2.03s/it]\u001b[A\n",
      " 76%|██████████████████████████████████████████████████████████████████████████████████████████████████▊                               | 19/25 [00:33<00:11,  1.97s/it]\u001b[A\n",
      " 80%|████████████████████████████████████████████████████████████████████████████████████████████████████████                          | 20/25 [00:35<00:09,  1.92s/it]\u001b[A\n",
      " 84%|█████████████████████████████████████████████████████████████████████████████████████████████████████████████▏                    | 21/25 [00:36<00:07,  1.85s/it]\u001b[A\n",
      " 88%|██████████████████████████████████████████████████████████████████████████████████████████████████████████████████▍               | 22/25 [00:38<00:05,  1.83s/it]\u001b[A\n",
      " 92%|███████████████████████████████████████████████████████████████████████████████████████████████████████████████████████▌          | 23/25 [00:40<00:03,  1.89s/it]\u001b[A\n",
      " 96%|████████████████████████████████████████████████████████████████████████████████████████████████████████████████████████████▊     | 24/25 [00:42<00:01,  1.89s/it]\u001b[A\n",
      "100%|██████████████████████████████████████████████████████████████████████████████████████████████████████████████████████████████████| 25/25 [00:44<00:00,  1.77s/it]\u001b[A\n",
      "\n",
      "  0%|                                                                                                                                           | 0/25 [00:00<?, ?it/s]\u001b[A\n",
      "  4%|█████▏                                                                                                                             | 1/25 [00:01<00:38,  1.61s/it]\u001b[A\n",
      "  8%|██████████▍                                                                                                                        | 2/25 [00:03<00:46,  2.04s/it]\u001b[A\n",
      " 12%|███████████████▋                                                                                                                   | 3/25 [00:05<00:44,  2.04s/it]\u001b[A\n",
      " 16%|████████████████████▉                                                                                                              | 4/25 [00:08<00:44,  2.11s/it]\u001b[A\n",
      " 20%|██████████████████████████▏                                                                                                        | 5/25 [00:10<00:40,  2.03s/it]\u001b[A\n",
      " 24%|███████████████████████████████▍                                                                                                   | 6/25 [00:11<00:37,  1.96s/it]\u001b[A\n",
      " 28%|████████████████████████████████████▋                                                                                              | 7/25 [00:14<00:36,  2.01s/it]\u001b[A\n",
      " 32%|█████████████████████████████████████████▉                                                                                         | 8/25 [00:16<00:34,  2.01s/it]\u001b[A\n",
      " 36%|███████████████████████████████████████████████▏                                                                                   | 9/25 [00:18<00:33,  2.09s/it]\u001b[A\n",
      " 40%|████████████████████████████████████████████████████                                                                              | 10/25 [00:20<00:29,  1.98s/it]\u001b[A\n",
      " 44%|█████████████████████████████████████████████████████████▏                                                                        | 11/25 [00:22<00:29,  2.11s/it]\u001b[A\n",
      " 48%|██████████████████████████████████████████████████████████████▍                                                                   | 12/25 [00:24<00:26,  2.03s/it]\u001b[A\n",
      " 52%|███████████████████████████████████████████████████████████████████▌                                                              | 13/25 [00:27<00:26,  2.25s/it]\u001b[A\n",
      " 56%|████████████████████████████████████████████████████████████████████████▊                                                         | 14/25 [00:28<00:23,  2.10s/it]\u001b[A\n",
      " 60%|██████████████████████████████████████████████████████████████████████████████                                                    | 15/25 [00:30<00:20,  2.01s/it]\u001b[A\n",
      " 64%|███████████████████████████████████████████████████████████████████████████████████▏                                              | 16/25 [00:32<00:18,  2.08s/it]\u001b[A\n",
      " 68%|████████████████████████████████████████████████████████████████████████████████████████▍                                         | 17/25 [00:34<00:15,  1.97s/it]\u001b[A\n",
      " 72%|█████████████████████████████████████████████████████████████████████████████████████████████▌                                    | 18/25 [00:36<00:13,  1.89s/it]\u001b[A\n",
      " 76%|██████████████████████████████████████████████████████████████████████████████████████████████████▊                               | 19/25 [00:38<00:11,  1.87s/it]\u001b[A\n",
      " 80%|████████████████████████████████████████████████████████████████████████████████████████████████████████                          | 20/25 [00:39<00:09,  1.84s/it]\u001b[A\n",
      " 84%|█████████████████████████████████████████████████████████████████████████████████████████████████████████████▏                    | 21/25 [00:41<00:07,  1.85s/it]\u001b[A\n",
      " 88%|██████████████████████████████████████████████████████████████████████████████████████████████████████████████████▍               | 22/25 [00:43<00:05,  1.83s/it]\u001b[A\n",
      " 92%|███████████████████████████████████████████████████████████████████████████████████████████████████████████████████████▌          | 23/25 [00:44<00:03,  1.71s/it]\u001b[A\n",
      " 96%|████████████████████████████████████████████████████████████████████████████████████████████████████████████████████████████▊     | 24/25 [00:46<00:01,  1.55s/it]\u001b[A\n",
      "100%|██████████████████████████████████████████████████████████████████████████████████████████████████████████████████████████████████| 25/25 [00:47<00:00,  1.90s/it]\u001b[A\n",
      " 50%|█████████████████████████████████████████████████████████████████▌                                                                 | 5/10 [07:10<07:15, 87.15s/it]\n",
      "  0%|                                                                                                                                           | 0/25 [00:00<?, ?it/s]\u001b[A\n",
      "  4%|█████▏                                                                                                                             | 1/25 [00:00<00:06,  3.54it/s]\u001b[A\n",
      "  8%|██████████▍                                                                                                                        | 2/25 [00:02<00:26,  1.17s/it]\u001b[A\n",
      " 12%|███████████████▋                                                                                                                   | 3/25 [00:02<00:22,  1.01s/it]\u001b[A\n",
      " 16%|████████████████████▉                                                                                                              | 4/25 [00:03<00:20,  1.02it/s]\u001b[A\n",
      " 20%|██████████████████████████▏                                                                                                        | 5/25 [00:05<00:24,  1.24s/it]\u001b[A\n",
      " 24%|███████████████████████████████▍                                                                                                   | 6/25 [00:07<00:27,  1.44s/it]\u001b[A\n",
      " 28%|████████████████████████████████████▋                                                                                              | 7/25 [00:09<00:28,  1.57s/it]\u001b[A\n",
      " 32%|█████████████████████████████████████████▉                                                                                         | 8/25 [00:11<00:28,  1.66s/it]\u001b[A\n",
      " 36%|███████████████████████████████████████████████▏                                                                                   | 9/25 [00:13<00:28,  1.75s/it]\u001b[A\n",
      " 40%|████████████████████████████████████████████████████                                                                              | 10/25 [00:14<00:26,  1.76s/it]\u001b[A\n",
      " 44%|█████████████████████████████████████████████████████████▏                                                                        | 11/25 [00:16<00:26,  1.86s/it]\u001b[A\n",
      " 48%|██████████████████████████████████████████████████████████████▍                                                                   | 12/25 [00:18<00:23,  1.81s/it]\u001b[A\n",
      " 52%|███████████████████████████████████████████████████████████████████▌                                                              | 13/25 [00:20<00:21,  1.77s/it]\u001b[A\n",
      " 56%|████████████████████████████████████████████████████████████████████████▊                                                         | 14/25 [00:22<00:21,  1.97s/it]\u001b[A\n",
      " 60%|██████████████████████████████████████████████████████████████████████████████                                                    | 15/25 [00:24<00:19,  1.90s/it]\u001b[A\n"
     ]
    },
    {
     "name": "stderr",
     "output_type": "stream",
     "text": [
      " 64%|███████████████████████████████████████████████████████████████████████████████████▏                                              | 16/25 [00:26<00:17,  1.99s/it]\u001b[A\n",
      " 68%|████████████████████████████████████████████████████████████████████████████████████████▍                                         | 17/25 [00:28<00:15,  1.88s/it]\u001b[A\n",
      " 72%|█████████████████████████████████████████████████████████████████████████████████████████████▌                                    | 18/25 [00:30<00:14,  2.12s/it]\u001b[A\n",
      " 76%|██████████████████████████████████████████████████████████████████████████████████████████████████▊                               | 19/25 [00:32<00:11,  1.99s/it]\u001b[A\n",
      " 80%|████████████████████████████████████████████████████████████████████████████████████████████████████████                          | 20/25 [00:35<00:10,  2.14s/it]\u001b[A\n",
      " 84%|█████████████████████████████████████████████████████████████████████████████████████████████████████████████▏                    | 21/25 [00:37<00:08,  2.16s/it]\u001b[A\n",
      " 88%|██████████████████████████████████████████████████████████████████████████████████████████████████████████████████▍               | 22/25 [00:39<00:06,  2.10s/it]\u001b[A\n",
      " 92%|███████████████████████████████████████████████████████████████████████████████████████████████████████████████████████▌          | 23/25 [00:41<00:04,  2.09s/it]\u001b[A\n",
      " 96%|████████████████████████████████████████████████████████████████████████████████████████████████████████████████████████████▊     | 24/25 [00:43<00:02,  2.03s/it]\u001b[A\n",
      "100%|██████████████████████████████████████████████████████████████████████████████████████████████████████████████████████████████████| 25/25 [00:44<00:00,  1.79s/it]\u001b[A\n",
      "\n",
      "  0%|                                                                                                                                           | 0/25 [00:00<?, ?it/s]\u001b[A\n",
      "  4%|█████▏                                                                                                                             | 1/25 [00:01<00:31,  1.32s/it]\u001b[A\n",
      "  8%|██████████▍                                                                                                                        | 2/25 [00:03<00:42,  1.83s/it]\u001b[A\n",
      " 12%|███████████████▋                                                                                                                   | 3/25 [00:05<00:39,  1.80s/it]\u001b[A\n",
      " 16%|████████████████████▉                                                                                                              | 4/25 [00:07<00:37,  1.80s/it]\u001b[A\n",
      " 20%|██████████████████████████▏                                                                                                        | 5/25 [00:08<00:35,  1.76s/it]\u001b[A\n",
      " 24%|███████████████████████████████▍                                                                                                   | 6/25 [00:10<00:33,  1.77s/it]\u001b[A\n",
      " 28%|████████████████████████████████████▋                                                                                              | 7/25 [00:12<00:33,  1.85s/it]\u001b[A\n",
      " 32%|█████████████████████████████████████████▉                                                                                         | 8/25 [00:14<00:31,  1.85s/it]\u001b[A\n",
      " 36%|███████████████████████████████████████████████▏                                                                                   | 9/25 [00:16<00:30,  1.91s/it]\u001b[A\n",
      " 40%|████████████████████████████████████████████████████                                                                              | 10/25 [00:18<00:27,  1.85s/it]\u001b[A\n",
      " 44%|█████████████████████████████████████████████████████████▏                                                                        | 11/25 [00:20<00:26,  1.88s/it]\u001b[A\n",
      " 48%|██████████████████████████████████████████████████████████████▍                                                                   | 12/25 [00:22<00:25,  1.93s/it]\u001b[A\n",
      " 52%|███████████████████████████████████████████████████████████████████▌                                                              | 13/25 [00:24<00:24,  2.06s/it]\u001b[A\n",
      " 56%|████████████████████████████████████████████████████████████████████████▊                                                         | 14/25 [00:26<00:22,  2.02s/it]\u001b[A\n",
      " 60%|██████████████████████████████████████████████████████████████████████████████                                                    | 15/25 [00:28<00:19,  1.94s/it]\u001b[A\n",
      " 64%|███████████████████████████████████████████████████████████████████████████████████▏                                              | 16/25 [00:30<00:19,  2.12s/it]\u001b[A\n",
      " 68%|████████████████████████████████████████████████████████████████████████████████████████▍                                         | 17/25 [00:32<00:16,  2.02s/it]\u001b[A\n",
      " 72%|█████████████████████████████████████████████████████████████████████████████████████████████▌                                    | 18/25 [00:34<00:14,  2.02s/it]\u001b[A\n",
      " 76%|██████████████████████████████████████████████████████████████████████████████████████████████████▊                               | 19/25 [00:36<00:11,  2.00s/it]\u001b[A\n",
      " 80%|████████████████████████████████████████████████████████████████████████████████████████████████████████                          | 20/25 [00:38<00:09,  1.90s/it]\u001b[A\n",
      " 84%|█████████████████████████████████████████████████████████████████████████████████████████████████████████████▏                    | 21/25 [00:39<00:07,  1.88s/it]\u001b[A\n",
      " 88%|██████████████████████████████████████████████████████████████████████████████████████████████████████████████████▍               | 22/25 [00:41<00:05,  1.84s/it]\u001b[A\n",
      " 92%|███████████████████████████████████████████████████████████████████████████████████████████████████████████████████████▌          | 23/25 [00:43<00:03,  1.69s/it]\u001b[A\n",
      " 96%|████████████████████████████████████████████████████████████████████████████████████████████████████████████████████████████▊     | 24/25 [00:44<00:01,  1.59s/it]\u001b[A\n",
      "100%|██████████████████████████████████████████████████████████████████████████████████████████████████████████████████████████████████| 25/25 [00:45<00:00,  1.84s/it]\u001b[A\n",
      " 60%|██████████████████████████████████████████████████████████████████████████████▌                                                    | 6/10 [08:41<05:53, 88.38s/it]\n",
      "  0%|                                                                                                                                           | 0/25 [00:00<?, ?it/s]\u001b[A\n",
      "  4%|█████▏                                                                                                                             | 1/25 [00:00<00:06,  3.54it/s]\u001b[A\n",
      "  8%|██████████▍                                                                                                                        | 2/25 [00:02<00:31,  1.36s/it]\u001b[A\n",
      " 12%|███████████████▋                                                                                                                   | 3/25 [00:03<00:25,  1.15s/it]\u001b[A\n",
      " 16%|████████████████████▉                                                                                                              | 4/25 [00:04<00:23,  1.10s/it]\u001b[A\n",
      " 20%|██████████████████████████▏                                                                                                        | 5/25 [00:06<00:26,  1.34s/it]\u001b[A\n",
      " 24%|███████████████████████████████▍                                                                                                   | 6/25 [00:08<00:30,  1.63s/it]\u001b[A\n",
      " 28%|████████████████████████████████████▋                                                                                              | 7/25 [00:10<00:30,  1.72s/it]\u001b[A\n",
      " 32%|█████████████████████████████████████████▉                                                                                         | 8/25 [00:12<00:31,  1.84s/it]\u001b[A\n",
      " 36%|███████████████████████████████████████████████▏                                                                                   | 9/25 [00:14<00:29,  1.87s/it]\u001b[A\n",
      " 40%|████████████████████████████████████████████████████                                                                              | 10/25 [00:15<00:27,  1.84s/it]\u001b[A\n",
      " 44%|█████████████████████████████████████████████████████████▏                                                                        | 11/25 [00:18<00:28,  2.01s/it]\u001b[A\n",
      " 48%|██████████████████████████████████████████████████████████████▍                                                                   | 12/25 [00:20<00:24,  1.91s/it]\u001b[A\n",
      " 52%|███████████████████████████████████████████████████████████████████▌                                                              | 13/25 [00:21<00:22,  1.90s/it]\u001b[A\n",
      " 56%|████████████████████████████████████████████████████████████████████████▊                                                         | 14/25 [00:24<00:23,  2.10s/it]\u001b[A\n",
      " 60%|██████████████████████████████████████████████████████████████████████████████                                                    | 15/25 [00:27<00:22,  2.22s/it]\u001b[A\n",
      " 64%|███████████████████████████████████████████████████████████████████████████████████▏                                              | 16/25 [00:29<00:20,  2.31s/it]\u001b[A\n",
      " 68%|████████████████████████████████████████████████████████████████████████████████████████▍                                         | 17/25 [00:31<00:17,  2.21s/it]\u001b[A\n",
      " 72%|█████████████████████████████████████████████████████████████████████████████████████████████▌                                    | 18/25 [00:33<00:15,  2.27s/it]\u001b[A\n",
      " 76%|██████████████████████████████████████████████████████████████████████████████████████████████████▊                               | 19/25 [00:35<00:12,  2.12s/it]\u001b[A\n",
      " 80%|████████████████████████████████████████████████████████████████████████████████████████████████████████                          | 20/25 [00:37<00:10,  2.09s/it]\u001b[A\n",
      " 84%|█████████████████████████████████████████████████████████████████████████████████████████████████████████████▏                    | 21/25 [00:39<00:08,  2.06s/it]\u001b[A\n",
      " 88%|██████████████████████████████████████████████████████████████████████████████████████████████████████████████████▍               | 22/25 [00:41<00:06,  2.03s/it]\u001b[A\n",
      " 92%|███████████████████████████████████████████████████████████████████████████████████████████████████████████████████████▌          | 23/25 [00:43<00:04,  2.03s/it]\u001b[A\n",
      " 96%|████████████████████████████████████████████████████████████████████████████████████████████████████████████████████████████▊     | 24/25 [00:45<00:02,  2.04s/it]\u001b[A\n",
      "100%|██████████████████████████████████████████████████████████████████████████████████████████████████████████████████████████████████| 25/25 [00:47<00:00,  1.90s/it]\u001b[A\n",
      "\n",
      "  0%|                                                                                                                                           | 0/25 [00:00<?, ?it/s]\u001b[A\n",
      "  4%|█████▏                                                                                                                             | 1/25 [00:01<00:43,  1.82s/it]\u001b[A\n",
      "  8%|██████████▍                                                                                                                        | 2/25 [00:05<01:06,  2.89s/it]\u001b[A\n",
      " 12%|███████████████▋                                                                                                                   | 3/25 [00:07<00:52,  2.38s/it]\u001b[A\n",
      " 16%|████████████████████▉                                                                                                              | 4/25 [00:09<00:47,  2.26s/it]\u001b[A\n",
      " 20%|██████████████████████████▏                                                                                                        | 5/25 [00:11<00:42,  2.13s/it]\u001b[A\n",
      " 24%|███████████████████████████████▍                                                                                                   | 6/25 [00:13<00:38,  2.02s/it]\u001b[A\n",
      " 28%|████████████████████████████████████▋                                                                                              | 7/25 [00:15<00:37,  2.09s/it]\u001b[A\n",
      " 32%|█████████████████████████████████████████▉                                                                                         | 8/25 [00:17<00:35,  2.07s/it]\u001b[A\n",
      " 36%|███████████████████████████████████████████████▏                                                                                   | 9/25 [00:19<00:35,  2.19s/it]\u001b[A\n",
      " 40%|████████████████████████████████████████████████████                                                                              | 10/25 [00:21<00:32,  2.19s/it]\u001b[A\n",
      " 44%|█████████████████████████████████████████████████████████▏                                                                        | 11/25 [00:24<00:33,  2.39s/it]\u001b[A\n",
      " 48%|██████████████████████████████████████████████████████████████▍                                                                   | 12/25 [00:27<00:31,  2.46s/it]\u001b[A\n",
      " 52%|███████████████████████████████████████████████████████████████████▌                                                              | 13/25 [00:29<00:29,  2.50s/it]\u001b[A\n",
      " 56%|████████████████████████████████████████████████████████████████████████▊                                                         | 14/25 [00:32<00:26,  2.37s/it]\u001b[A\n",
      " 60%|██████████████████████████████████████████████████████████████████████████████                                                    | 15/25 [00:33<00:22,  2.20s/it]\u001b[A\n",
      " 64%|███████████████████████████████████████████████████████████████████████████████████▏                                              | 16/25 [00:36<00:20,  2.26s/it]\u001b[A\n",
      " 68%|████████████████████████████████████████████████████████████████████████████████████████▍                                         | 17/25 [00:38<00:17,  2.13s/it]\u001b[A\n",
      " 72%|█████████████████████████████████████████████████████████████████████████████████████████████▌                                    | 18/25 [00:40<00:15,  2.21s/it]\u001b[A\n",
      " 76%|██████████████████████████████████████████████████████████████████████████████████████████████████▊                               | 19/25 [00:42<00:13,  2.22s/it]\u001b[A\n",
      " 80%|████████████████████████████████████████████████████████████████████████████████████████████████████████                          | 20/25 [00:44<00:10,  2.10s/it]\u001b[A\n",
      " 84%|█████████████████████████████████████████████████████████████████████████████████████████████████████████████▏                    | 21/25 [00:46<00:08,  2.04s/it]\u001b[A\n",
      " 88%|██████████████████████████████████████████████████████████████████████████████████████████████████████████████████▍               | 22/25 [00:48<00:05,  1.97s/it]\u001b[A\n",
      " 92%|███████████████████████████████████████████████████████████████████████████████████████████████████████████████████████▌          | 23/25 [00:49<00:03,  1.79s/it]\u001b[A\n",
      " 96%|████████████████████████████████████████████████████████████████████████████████████████████████████████████████████████████▊     | 24/25 [00:51<00:01,  1.75s/it]\u001b[A\n",
      "100%|██████████████████████████████████████████████████████████████████████████████████████████████████████████████████████████████████| 25/25 [00:53<00:00,  2.13s/it]\u001b[A\n",
      " 70%|███████████████████████████████████████████████████████████████████████████████████████████▋                                       | 7/10 [10:22<04:37, 92.43s/it]\n",
      "  0%|                                                                                                                                           | 0/25 [00:00<?, ?it/s]\u001b[A\n",
      "  4%|█████▏                                                                                                                             | 1/25 [00:00<00:05,  4.01it/s]\u001b[A\n",
      "  8%|██████████▍                                                                                                                        | 2/25 [00:02<00:30,  1.34s/it]\u001b[A\n",
      " 12%|███████████████▋                                                                                                                   | 3/25 [00:03<00:27,  1.27s/it]\u001b[A\n"
     ]
    },
    {
     "name": "stderr",
     "output_type": "stream",
     "text": [
      " 16%|████████████████████▉                                                                                                              | 4/25 [00:04<00:25,  1.20s/it]\u001b[A\n",
      " 20%|██████████████████████████▏                                                                                                        | 5/25 [00:06<00:30,  1.53s/it]\u001b[A\n",
      " 24%|███████████████████████████████▍                                                                                                   | 6/25 [00:08<00:33,  1.75s/it]\u001b[A\n",
      " 28%|████████████████████████████████████▋                                                                                              | 7/25 [00:10<00:33,  1.84s/it]\u001b[A\n",
      " 32%|█████████████████████████████████████████▉                                                                                         | 8/25 [00:13<00:33,  1.94s/it]\u001b[A\n",
      " 36%|███████████████████████████████████████████████▏                                                                                   | 9/25 [00:15<00:31,  1.95s/it]\u001b[A\n",
      " 40%|████████████████████████████████████████████████████                                                                              | 10/25 [00:16<00:28,  1.93s/it]\u001b[A\n",
      " 44%|█████████████████████████████████████████████████████████▏                                                                        | 11/25 [00:19<00:29,  2.09s/it]\u001b[A\n",
      " 48%|██████████████████████████████████████████████████████████████▍                                                                   | 12/25 [00:21<00:25,  1.98s/it]\u001b[A\n",
      " 52%|███████████████████████████████████████████████████████████████████▌                                                              | 13/25 [00:23<00:23,  1.99s/it]\u001b[A\n",
      " 56%|████████████████████████████████████████████████████████████████████████▊                                                         | 14/25 [00:25<00:24,  2.24s/it]\u001b[A\n",
      " 60%|██████████████████████████████████████████████████████████████████████████████                                                    | 15/25 [00:28<00:22,  2.25s/it]\u001b[A\n",
      " 64%|███████████████████████████████████████████████████████████████████████████████████▏                                              | 16/25 [00:30<00:20,  2.25s/it]\u001b[A\n",
      " 68%|████████████████████████████████████████████████████████████████████████████████████████▍                                         | 17/25 [00:32<00:17,  2.20s/it]\u001b[A\n",
      " 72%|█████████████████████████████████████████████████████████████████████████████████████████████▌                                    | 18/25 [00:35<00:16,  2.32s/it]\u001b[A\n",
      " 76%|██████████████████████████████████████████████████████████████████████████████████████████████████▊                               | 19/25 [00:37<00:13,  2.31s/it]\u001b[A\n",
      " 80%|████████████████████████████████████████████████████████████████████████████████████████████████████████                          | 20/25 [00:40<00:11,  2.39s/it]\u001b[A\n",
      " 84%|█████████████████████████████████████████████████████████████████████████████████████████████████████████████▏                    | 21/25 [00:41<00:08,  2.24s/it]\u001b[A\n",
      " 88%|██████████████████████████████████████████████████████████████████████████████████████████████████████████████████▍               | 22/25 [00:43<00:06,  2.15s/it]\u001b[A\n",
      " 92%|███████████████████████████████████████████████████████████████████████████████████████████████████████████████████████▌          | 23/25 [00:46<00:04,  2.14s/it]\u001b[A\n",
      " 96%|████████████████████████████████████████████████████████████████████████████████████████████████████████████████████████████▊     | 24/25 [00:48<00:02,  2.11s/it]\u001b[A\n",
      "100%|██████████████████████████████████████████████████████████████████████████████████████████████████████████████████████████████████| 25/25 [00:49<00:00,  1.99s/it]\u001b[A\n",
      "\n",
      "  0%|                                                                                                                                           | 0/25 [00:00<?, ?it/s]\u001b[A\n",
      "  4%|█████▏                                                                                                                             | 1/25 [00:01<00:30,  1.29s/it]\u001b[A\n",
      "  8%|██████████▍                                                                                                                        | 2/25 [00:03<00:42,  1.85s/it]\u001b[A\n",
      " 12%|███████████████▋                                                                                                                   | 3/25 [00:05<00:39,  1.80s/it]\u001b[A\n",
      " 16%|████████████████████▉                                                                                                              | 4/25 [00:07<00:42,  2.01s/it]\u001b[A\n",
      " 20%|██████████████████████████▏                                                                                                        | 5/25 [00:09<00:40,  2.02s/it]\u001b[A\n",
      " 24%|███████████████████████████████▍                                                                                                   | 6/25 [00:11<00:36,  1.90s/it]\u001b[A\n",
      " 28%|████████████████████████████████████▋                                                                                              | 7/25 [00:13<00:34,  1.91s/it]\u001b[A\n",
      " 32%|█████████████████████████████████████████▉                                                                                         | 8/25 [00:15<00:34,  2.06s/it]\u001b[A\n",
      " 36%|███████████████████████████████████████████████▏                                                                                   | 9/25 [00:19<00:40,  2.56s/it]\u001b[A\n",
      " 40%|████████████████████████████████████████████████████                                                                              | 10/25 [00:22<00:43,  2.88s/it]\u001b[A\n",
      " 44%|█████████████████████████████████████████████████████████▏                                                                        | 11/25 [00:25<00:40,  2.86s/it]\u001b[A\n",
      " 48%|██████████████████████████████████████████████████████████████▍                                                                   | 12/25 [00:28<00:36,  2.77s/it]\u001b[A\n",
      " 52%|███████████████████████████████████████████████████████████████████▌                                                              | 13/25 [00:31<00:33,  2.78s/it]\u001b[A\n",
      " 56%|████████████████████████████████████████████████████████████████████████▊                                                         | 14/25 [00:33<00:28,  2.62s/it]\u001b[A\n",
      " 60%|██████████████████████████████████████████████████████████████████████████████                                                    | 15/25 [00:35<00:23,  2.35s/it]\u001b[A\n",
      " 64%|███████████████████████████████████████████████████████████████████████████████████▏                                              | 16/25 [00:37<00:22,  2.44s/it]\u001b[A\n",
      " 68%|████████████████████████████████████████████████████████████████████████████████████████▍                                         | 17/25 [00:39<00:18,  2.27s/it]\u001b[A\n",
      " 72%|█████████████████████████████████████████████████████████████████████████████████████████████▌                                    | 18/25 [00:41<00:14,  2.14s/it]\u001b[A\n",
      " 76%|██████████████████████████████████████████████████████████████████████████████████████████████████▊                               | 19/25 [00:43<00:12,  2.12s/it]\u001b[A\n",
      " 80%|████████████████████████████████████████████████████████████████████████████████████████████████████████                          | 20/25 [00:45<00:10,  2.06s/it]\u001b[A\n",
      " 84%|█████████████████████████████████████████████████████████████████████████████████████████████████████████████▏                    | 21/25 [00:47<00:08,  2.06s/it]\u001b[A\n",
      " 88%|██████████████████████████████████████████████████████████████████████████████████████████████████████████████████▍               | 22/25 [00:49<00:06,  2.01s/it]\u001b[A\n",
      " 92%|███████████████████████████████████████████████████████████████████████████████████████████████████████████████████████▌          | 23/25 [00:50<00:03,  1.89s/it]\u001b[A\n",
      " 96%|████████████████████████████████████████████████████████████████████████████████████████████████████████████████████████████▊     | 24/25 [00:52<00:01,  1.79s/it]\u001b[A\n",
      "100%|██████████████████████████████████████████████████████████████████████████████████████████████████████████████████████████████████| 25/25 [00:54<00:00,  2.17s/it]\u001b[A\n",
      " 80%|████████████████████████████████████████████████████████████████████████████████████████████████████████▊                          | 8/10 [12:06<03:12, 96.12s/it]\n",
      "  0%|                                                                                                                                           | 0/25 [00:00<?, ?it/s]\u001b[A\n",
      "  4%|█████▏                                                                                                                             | 1/25 [00:00<00:06,  3.99it/s]\u001b[A\n",
      "  8%|██████████▍                                                                                                                        | 2/25 [00:02<00:35,  1.52s/it]\u001b[A\n",
      " 12%|███████████████▋                                                                                                                   | 3/25 [00:03<00:30,  1.40s/it]\u001b[A\n",
      " 16%|████████████████████▉                                                                                                              | 4/25 [00:04<00:25,  1.20s/it]\u001b[A\n",
      " 20%|██████████████████████████▏                                                                                                        | 5/25 [00:06<00:28,  1.45s/it]\u001b[A\n",
      " 24%|███████████████████████████████▍                                                                                                   | 6/25 [00:08<00:31,  1.63s/it]\u001b[A\n",
      " 28%|████████████████████████████████████▋                                                                                              | 7/25 [00:10<00:31,  1.77s/it]\u001b[A\n",
      " 32%|█████████████████████████████████████████▉                                                                                         | 8/25 [00:13<00:33,  1.96s/it]\u001b[A\n",
      " 36%|███████████████████████████████████████████████▏                                                                                   | 9/25 [00:15<00:32,  2.03s/it]\u001b[A\n",
      " 40%|████████████████████████████████████████████████████                                                                              | 10/25 [00:17<00:30,  2.00s/it]\u001b[A\n",
      " 44%|█████████████████████████████████████████████████████████▏                                                                        | 11/25 [00:19<00:31,  2.21s/it]\u001b[A\n",
      " 48%|██████████████████████████████████████████████████████████████▍                                                                   | 12/25 [00:21<00:27,  2.09s/it]\u001b[A\n",
      " 52%|███████████████████████████████████████████████████████████████████▌                                                              | 13/25 [00:23<00:25,  2.11s/it]\u001b[A\n",
      " 56%|████████████████████████████████████████████████████████████████████████▊                                                         | 14/25 [00:26<00:25,  2.29s/it]\u001b[A\n",
      " 60%|██████████████████████████████████████████████████████████████████████████████                                                    | 15/25 [00:29<00:23,  2.35s/it]\u001b[A\n",
      " 64%|███████████████████████████████████████████████████████████████████████████████████▏                                              | 16/25 [00:31<00:20,  2.27s/it]\u001b[A\n",
      " 68%|████████████████████████████████████████████████████████████████████████████████████████▍                                         | 17/25 [00:32<00:16,  2.12s/it]\u001b[A\n",
      " 72%|█████████████████████████████████████████████████████████████████████████████████████████████▌                                    | 18/25 [00:35<00:14,  2.11s/it]\u001b[A\n",
      " 76%|██████████████████████████████████████████████████████████████████████████████████████████████████▊                               | 19/25 [00:37<00:12,  2.16s/it]\u001b[A\n",
      " 80%|████████████████████████████████████████████████████████████████████████████████████████████████████████                          | 20/25 [00:39<00:10,  2.13s/it]\u001b[A\n",
      " 84%|█████████████████████████████████████████████████████████████████████████████████████████████████████████████▏                    | 21/25 [00:41<00:08,  2.14s/it]\u001b[A\n",
      " 88%|██████████████████████████████████████████████████████████████████████████████████████████████████████████████████▍               | 22/25 [00:43<00:06,  2.23s/it]\u001b[A\n",
      " 92%|███████████████████████████████████████████████████████████████████████████████████████████████████████████████████████▌          | 23/25 [00:46<00:04,  2.23s/it]\u001b[A\n",
      " 96%|████████████████████████████████████████████████████████████████████████████████████████████████████████████████████████████▊     | 24/25 [00:48<00:02,  2.11s/it]\u001b[A\n",
      "100%|██████████████████████████████████████████████████████████████████████████████████████████████████████████████████████████████████| 25/25 [00:49<00:00,  1.98s/it]\u001b[A\n",
      "\n",
      "  0%|                                                                                                                                           | 0/25 [00:00<?, ?it/s]\u001b[A\n",
      "  4%|█████▏                                                                                                                             | 1/25 [00:01<00:34,  1.43s/it]\u001b[A\n",
      "  8%|██████████▍                                                                                                                        | 2/25 [00:03<00:44,  1.92s/it]\u001b[A\n",
      " 12%|███████████████▋                                                                                                                   | 3/25 [00:05<00:40,  1.85s/it]\u001b[A\n",
      " 16%|████████████████████▉                                                                                                              | 4/25 [00:07<00:43,  2.07s/it]\u001b[A\n",
      " 20%|██████████████████████████▏                                                                                                        | 5/25 [00:10<00:43,  2.17s/it]\u001b[A\n",
      " 24%|███████████████████████████████▍                                                                                                   | 6/25 [00:13<00:46,  2.43s/it]\u001b[A\n",
      " 28%|████████████████████████████████████▋                                                                                              | 7/25 [00:16<00:46,  2.59s/it]\u001b[A\n",
      " 32%|█████████████████████████████████████████▉                                                                                         | 8/25 [00:19<00:49,  2.92s/it]\u001b[A\n",
      " 36%|███████████████████████████████████████████████▏                                                                                   | 9/25 [00:23<00:50,  3.17s/it]\u001b[A\n",
      " 40%|████████████████████████████████████████████████████                                                                              | 10/25 [00:26<00:45,  3.04s/it]\u001b[A\n",
      " 44%|█████████████████████████████████████████████████████████▏                                                                        | 11/25 [00:29<00:42,  3.02s/it]\u001b[A\n",
      " 48%|██████████████████████████████████████████████████████████████▍                                                                   | 12/25 [00:32<00:39,  3.03s/it]\u001b[A\n",
      " 52%|███████████████████████████████████████████████████████████████████▌                                                              | 13/25 [00:35<00:38,  3.22s/it]\u001b[A\n",
      " 56%|████████████████████████████████████████████████████████████████████████▊                                                         | 14/25 [00:39<00:36,  3.27s/it]\u001b[A\n",
      " 60%|██████████████████████████████████████████████████████████████████████████████                                                    | 15/25 [00:41<00:30,  3.04s/it]\u001b[A\n",
      " 64%|███████████████████████████████████████████████████████████████████████████████████▏                                              | 16/25 [00:45<00:29,  3.29s/it]\u001b[A\n",
      " 68%|████████████████████████████████████████████████████████████████████████████████████████▍                                         | 17/25 [00:48<00:25,  3.13s/it]\u001b[A\n",
      " 72%|█████████████████████████████████████████████████████████████████████████████████████████████▌                                    | 18/25 [00:51<00:21,  3.02s/it]\u001b[A\n"
     ]
    },
    {
     "name": "stderr",
     "output_type": "stream",
     "text": [
      " 76%|██████████████████████████████████████████████████████████████████████████████████████████████████▊                               | 19/25 [00:53<00:17,  2.94s/it]\u001b[A\n",
      " 80%|████████████████████████████████████████████████████████████████████████████████████████████████████████                          | 20/25 [00:56<00:14,  2.92s/it]\u001b[A\n",
      " 84%|█████████████████████████████████████████████████████████████████████████████████████████████████████████████▏                    | 21/25 [00:59<00:11,  2.93s/it]\u001b[A\n",
      " 88%|██████████████████████████████████████████████████████████████████████████████████████████████████████████████████▍               | 22/25 [01:02<00:09,  3.01s/it]\u001b[A\n",
      " 92%|███████████████████████████████████████████████████████████████████████████████████████████████████████████████████████▌          | 23/25 [01:05<00:05,  2.87s/it]\u001b[A\n",
      " 96%|████████████████████████████████████████████████████████████████████████████████████████████████████████████████████████████▊     | 24/25 [01:07<00:02,  2.76s/it]\u001b[A\n",
      "100%|██████████████████████████████████████████████████████████████████████████████████████████████████████████████████████████████████| 25/25 [01:10<00:00,  2.83s/it]\u001b[A\n",
      " 90%|█████████████████████████████████████████████████████████████████████████████████████████████████████████████████████             | 9/10 [14:06<01:43, 103.71s/it]\n",
      "  0%|                                                                                                                                           | 0/25 [00:00<?, ?it/s]\u001b[A\n",
      "  4%|█████▏                                                                                                                             | 1/25 [00:00<00:10,  2.30it/s]\u001b[A\n",
      "  8%|██████████▍                                                                                                                        | 2/25 [00:04<01:02,  2.73s/it]\u001b[A\n",
      " 12%|███████████████▋                                                                                                                   | 3/25 [00:07<00:56,  2.55s/it]\u001b[A\n",
      " 16%|████████████████████▉                                                                                                              | 4/25 [00:08<00:46,  2.22s/it]\u001b[A\n",
      " 20%|██████████████████████████▏                                                                                                        | 5/25 [00:11<00:49,  2.47s/it]\u001b[A\n",
      " 24%|███████████████████████████████▍                                                                                                   | 6/25 [00:14<00:48,  2.56s/it]\u001b[A\n",
      " 28%|████████████████████████████████████▋                                                                                              | 7/25 [00:17<00:50,  2.81s/it]\u001b[A\n",
      " 32%|█████████████████████████████████████████▉                                                                                         | 8/25 [00:20<00:48,  2.88s/it]\u001b[A\n",
      " 36%|███████████████████████████████████████████████▏                                                                                   | 9/25 [00:23<00:46,  2.93s/it]\u001b[A\n",
      " 40%|████████████████████████████████████████████████████                                                                              | 10/25 [00:26<00:44,  2.97s/it]\u001b[A\n",
      " 44%|█████████████████████████████████████████████████████████▏                                                                        | 11/25 [00:30<00:44,  3.19s/it]\u001b[A\n",
      " 48%|██████████████████████████████████████████████████████████████▍                                                                   | 12/25 [00:33<00:39,  3.01s/it]\u001b[A\n",
      " 52%|███████████████████████████████████████████████████████████████████▌                                                              | 13/25 [00:36<00:37,  3.09s/it]\u001b[A\n",
      " 56%|████████████████████████████████████████████████████████████████████████▊                                                         | 14/25 [00:40<00:36,  3.30s/it]\u001b[A\n",
      " 60%|██████████████████████████████████████████████████████████████████████████████                                                    | 15/25 [00:43<00:34,  3.42s/it]\u001b[A\n",
      " 64%|███████████████████████████████████████████████████████████████████████████████████▏                                              | 16/25 [00:47<00:30,  3.42s/it]\u001b[A\n",
      " 68%|████████████████████████████████████████████████████████████████████████████████████████▍                                         | 17/25 [00:50<00:26,  3.26s/it]\u001b[A\n",
      " 72%|█████████████████████████████████████████████████████████████████████████████████████████████▌                                    | 18/25 [00:53<00:23,  3.31s/it]\u001b[A\n",
      " 76%|██████████████████████████████████████████████████████████████████████████████████████████████████▊                               | 19/25 [00:56<00:19,  3.19s/it]\u001b[A\n",
      " 80%|████████████████████████████████████████████████████████████████████████████████████████████████████████                          | 20/25 [00:59<00:14,  2.98s/it]\u001b[A\n",
      " 84%|█████████████████████████████████████████████████████████████████████████████████████████████████████████████▏                    | 21/25 [01:01<00:11,  2.83s/it]\u001b[A\n",
      " 88%|██████████████████████████████████████████████████████████████████████████████████████████████████████████████████▍               | 22/25 [01:04<00:08,  2.93s/it]\u001b[A\n",
      " 92%|███████████████████████████████████████████████████████████████████████████████████████████████████████████████████████▌          | 23/25 [01:07<00:05,  2.99s/it]\u001b[A\n",
      " 96%|████████████████████████████████████████████████████████████████████████████████████████████████████████████████████████████▊     | 24/25 [01:10<00:02,  2.94s/it]\u001b[A\n",
      "100%|██████████████████████████████████████████████████████████████████████████████████████████████████████████████████████████████████| 25/25 [01:13<00:00,  2.93s/it]\u001b[A\n",
      "\n",
      "  0%|                                                                                                                                           | 0/25 [00:00<?, ?it/s]\u001b[A\n",
      "  4%|█████▏                                                                                                                             | 1/25 [00:02<00:49,  2.08s/it]\u001b[A\n",
      "  8%|██████████▍                                                                                                                        | 2/25 [00:06<01:13,  3.20s/it]\u001b[A\n",
      " 12%|███████████████▋                                                                                                                   | 3/25 [00:08<01:05,  2.96s/it]\u001b[A\n",
      " 16%|████████████████████▉                                                                                                              | 4/25 [00:12<01:09,  3.33s/it]\u001b[A\n",
      " 20%|██████████████████████████▏                                                                                                        | 5/25 [00:16<01:07,  3.39s/it]\u001b[A\n",
      " 24%|███████████████████████████████▍                                                                                                   | 6/25 [00:20<01:12,  3.82s/it]\u001b[A\n",
      " 28%|████████████████████████████████████▋                                                                                              | 7/25 [00:24<01:08,  3.81s/it]\u001b[A\n",
      " 32%|█████████████████████████████████████████▉                                                                                         | 8/25 [00:28<01:03,  3.72s/it]\u001b[A\n",
      " 36%|███████████████████████████████████████████████▏                                                                                   | 9/25 [00:31<00:59,  3.75s/it]\u001b[A\n",
      " 40%|████████████████████████████████████████████████████                                                                              | 10/25 [00:34<00:51,  3.42s/it]\u001b[A\n",
      " 44%|█████████████████████████████████████████████████████████▏                                                                        | 11/25 [00:38<00:49,  3.55s/it]\u001b[A\n",
      " 48%|██████████████████████████████████████████████████████████████▍                                                                   | 12/25 [00:42<00:46,  3.58s/it]\u001b[A\n",
      " 52%|███████████████████████████████████████████████████████████████████▌                                                              | 13/25 [00:45<00:42,  3.52s/it]\u001b[A\n",
      " 56%|████████████████████████████████████████████████████████████████████████▊                                                         | 14/25 [00:48<00:38,  3.52s/it]\u001b[A\n",
      " 60%|██████████████████████████████████████████████████████████████████████████████                                                    | 15/25 [00:51<00:33,  3.33s/it]\u001b[A\n",
      " 64%|███████████████████████████████████████████████████████████████████████████████████▏                                              | 16/25 [00:55<00:31,  3.55s/it]\u001b[A\n",
      " 68%|████████████████████████████████████████████████████████████████████████████████████████▍                                         | 17/25 [00:58<00:26,  3.25s/it]\u001b[A\n",
      " 72%|█████████████████████████████████████████████████████████████████████████████████████████████▌                                    | 18/25 [01:01<00:21,  3.10s/it]\u001b[A\n",
      " 76%|██████████████████████████████████████████████████████████████████████████████████████████████████▊                               | 19/25 [01:04<00:18,  3.01s/it]\u001b[A\n",
      " 80%|████████████████████████████████████████████████████████████████████████████████████████████████████████                          | 20/25 [01:07<00:15,  3.02s/it]\u001b[A\n",
      " 84%|█████████████████████████████████████████████████████████████████████████████████████████████████████████████▏                    | 21/25 [01:10<00:12,  3.07s/it]\u001b[A\n",
      " 88%|██████████████████████████████████████████████████████████████████████████████████████████████████████████████████▍               | 22/25 [01:13<00:09,  3.13s/it]\u001b[A\n",
      " 92%|███████████████████████████████████████████████████████████████████████████████████████████████████████████████████████▌          | 23/25 [01:15<00:05,  2.82s/it]\u001b[A\n",
      " 96%|████████████████████████████████████████████████████████████████████████████████████████████████████████████████████████████▊     | 24/25 [01:18<00:02,  2.81s/it]\u001b[A\n",
      "100%|██████████████████████████████████████████████████████████████████████████████████████████████████████████████████████████████████| 25/25 [01:21<00:00,  3.25s/it]\u001b[A\n",
      "100%|█████████████████████████████████████████████████████████████████████████████████████████████████████████████████████████████████| 10/10 [16:41<00:00, 100.11s/it]\n"
     ]
    }
   ],
   "source": [
    "%lprun -f nodewise_train nodewise_train(num_qubits, t, num_trotter_steps, num_w_layers, num_stack_sweeps=10, max_dim=64, testing=False)"
   ]
  },
  {
   "cell_type": "code",
   "execution_count": 8,
   "id": "9d453d1f",
   "metadata": {
    "ExecuteTime": {
     "end_time": "2023-07-24T02:12:05.147868Z",
     "start_time": "2023-07-24T02:08:23.038751Z"
    },
    "hidden": true
   },
   "outputs": [],
   "source": [
    "angles = np.zeros(num_qubits)\n",
    "params = np.random.rand(2*num_w_layers+1, 3*num_qubits) * 2*np.pi\n",
    "ansatz = Ansatz(t, angles, params)\n",
    "target_mpo = xy_mpo(num_qubits, t, num_trotter_steps, max_dim=max_dim)\n",
    "left_envs, right_envs = all_stack_envs(ansatz, target_mpo, max_dim=max_dim)\n",
    "\n",
    "stack_idx = 8\n",
    "stack_env1, stack_env2 = right_envs[stack_idx], left_envs[stack_idx]\n",
    "param_mpo = ansatz.param_mpo_stacks[stack_idx]\n",
    "bottom_envs, top_envs = all_node_envs(param_mpo, stack_env1, stack_env2)\n",
    "link_datas1 = [stack_env1.nodes[i].data for i in range(num_qubits)]\n",
    "link_datas2 = [None]*num_qubits if stack_env2 is None else [stack_env2.nodes[i].data for i in range(num_qubits)]"
   ]
  },
  {
   "cell_type": "code",
   "execution_count": 9,
   "id": "5d03c143",
   "metadata": {
    "ExecuteTime": {
     "end_time": "2023-07-24T02:12:05.320655Z",
     "start_time": "2023-07-24T02:12:05.152389Z"
    },
    "hidden": true
   },
   "outputs": [],
   "source": [
    "%lprun -f sweep_up_down sweep_up_down(ansatz, stack_idx, bottom_envs, top_envs, link_datas1, link_datas2, t)"
   ]
  },
  {
   "cell_type": "markdown",
   "id": "bb778940",
   "metadata": {
    "heading_collapsed": true
   },
   "source": [
    "# Test runs"
   ]
  },
  {
   "cell_type": "markdown",
   "id": "42b208e1",
   "metadata": {
    "heading_collapsed": true,
    "hidden": true
   },
   "source": [
    "## Can I compile identity? "
   ]
  },
  {
   "cell_type": "code",
   "execution_count": null,
   "id": "f7282732",
   "metadata": {
    "ExecuteTime": {
     "end_time": "2023-06-29T21:12:15.077466Z",
     "start_time": "2023-06-29T21:12:14.865270Z"
    },
    "hidden": true
   },
   "outputs": [],
   "source": [
    "num_qubits = 4\n",
    "target_mpo = MPO([Node(jnp.eye(2,2)[jnp.newaxis,jnp.newaxis,:,:]) for i in range(num_qubits)])\n",
    "t = 0.1 # doesn't really matter since angles should equal zero\n",
    "num_w_layers = 1\n",
    "angles = jnp.asarray(np.random.rand(num_qubits)) \n",
    "params = jnp.asarray(np.random.rand(2*num_w_layers+1, 3*num_qubits)) # doesn't really matter once angles << 1 \n",
    "ansatz = Ansatz(t, angles, params)\n",
    "min_sv_ratio = None\n",
    "max_dim = None"
   ]
  },
  {
   "cell_type": "code",
   "execution_count": null,
   "id": "2441ac42",
   "metadata": {
    "ExecuteTime": {
     "end_time": "2023-06-29T21:12:16.296148Z",
     "start_time": "2023-06-29T21:12:16.110932Z"
    },
    "hidden": true
   },
   "outputs": [],
   "source": [
    "1-(ansatz.mpo().conj() @ target_mpo).normalized_trace() "
   ]
  },
  {
   "cell_type": "code",
   "execution_count": null,
   "id": "7a73e391",
   "metadata": {
    "ExecuteTime": {
     "end_time": "2023-06-29T21:12:42.834206Z",
     "start_time": "2023-06-29T21:12:19.969697Z"
    },
    "hidden": true
   },
   "outputs": [],
   "source": [
    "env = ansatz.deriv_mpo(target_mpo, 0, min_sv_ratio, max_dim)\n",
    "angles = ansatz.angles\n",
    "print(angles)\n",
    "new_cost_list, angles = optimizer(d_cost, d_cost_grad, angles, env, t, max_iter=200)\n",
    "ansatz.update(0, angles)\n",
    "print(angles)\n",
    "print(new_cost_list[-1])"
   ]
  },
  {
   "cell_type": "code",
   "execution_count": null,
   "id": "92327068",
   "metadata": {
    "ExecuteTime": {
     "end_time": "2023-06-29T21:14:22.651479Z",
     "start_time": "2023-06-29T21:12:46.384695Z"
    },
    "hidden": true
   },
   "outputs": [],
   "source": [
    "param_idx_left = np.arange(ansatz.num_stacks-1)\n",
    "for i in tqdm(range(ansatz.num_stacks-1)): \n",
    "    choice = np.random.randint(len(param_idx_left))\n",
    "    param_idx = param_idx_left[choice]\n",
    "    param_idx_left = np.delete(param_idx_left, choice)\n",
    "    stack_idx = param_idx + 1\n",
    "    \n",
    "    env1, env2 = ansatz.deriv_mpo(target_mpo, stack_idx)\n",
    "    stack_params = ansatz.params[param_idx]\n",
    "    print(stack_params)\n",
    "    new_cost_list, stack_params = optimizer(layer_cost, layer_cost_grad, stack_params, env1, env2, max_iter=50)\n",
    "    ansatz.update(stack_idx, stack_params)\n",
    "    print(stack_params)\n",
    "    print(new_cost_list[-1])"
   ]
  },
  {
   "cell_type": "code",
   "execution_count": null,
   "id": "4b9ce055",
   "metadata": {
    "ExecuteTime": {
     "end_time": "2023-06-29T21:14:48.055917Z",
     "start_time": "2023-06-29T21:14:25.265074Z"
    },
    "hidden": true
   },
   "outputs": [],
   "source": [
    "env = ansatz.deriv_mpo(target_mpo, 0, min_sv_ratio, max_dim)\n",
    "angles = ansatz.angles\n",
    "print(angles)\n",
    "new_cost_list, angles = optimizer(d_cost, d_cost_grad, angles, env, t, max_iter=500)\n",
    "ansatz.update(0, angles)\n",
    "print(angles)\n",
    "print(new_cost_list[-1])"
   ]
  },
  {
   "cell_type": "code",
   "execution_count": null,
   "id": "ab224e11",
   "metadata": {
    "ExecuteTime": {
     "end_time": "2023-06-29T21:15:24.678838Z",
     "start_time": "2023-06-29T21:15:04.034015Z"
    },
    "hidden": true
   },
   "outputs": [],
   "source": [
    "env = ansatz.deriv_mpo(target_mpo, 0, min_sv_ratio, max_dim)\n",
    "angles = ansatz.angles\n",
    "print(angles)\n",
    "new_cost_list, angles = optimizer(d_cost, d_cost_grad, angles, env, t, max_iter=500)\n",
    "ansatz.update(0, angles)\n",
    "print(angles)\n",
    "print(new_cost_list[-1])"
   ]
  },
  {
   "cell_type": "code",
   "execution_count": null,
   "id": "df6ecf5d",
   "metadata": {
    "ExecuteTime": {
     "end_time": "2023-06-29T21:15:28.141512Z",
     "start_time": "2023-06-29T21:15:27.969093Z"
    },
    "hidden": true
   },
   "outputs": [],
   "source": [
    "# this doesn't have to be identity because the diagonal portion is \n",
    "(ansatz.odd_mpo @ ansatz.param_mpo_stacks[1] @ ansatz.odd_mpo).to_matrix()"
   ]
  },
  {
   "cell_type": "markdown",
   "id": "d993c138",
   "metadata": {
    "heading_collapsed": true,
    "hidden": true
   },
   "source": [
    "## 2 qubit simulation (no max_dim, no min_sv_ratio) "
   ]
  },
  {
   "cell_type": "code",
   "execution_count": null,
   "id": "b071f0ca",
   "metadata": {
    "ExecuteTime": {
     "end_time": "2023-06-11T16:08:48.004346Z",
     "start_time": "2023-06-11T16:07:42.753061Z"
    },
    "hidden": true
   },
   "outputs": [],
   "source": [
    "num_qubits = 2\n",
    "t=0.1\n",
    "num_trotter_layers = 5\n",
    "num_w_layers = 1\n",
    "cost_list1, angles1, params_array1 = train(num_qubits, t, num_trotter_layers, num_w_layers=num_w_layers, num_steps=100, eta=10)"
   ]
  },
  {
   "cell_type": "code",
   "execution_count": null,
   "id": "7bd110c9",
   "metadata": {
    "ExecuteTime": {
     "end_time": "2023-06-11T16:11:22.655227Z",
     "start_time": "2023-06-11T16:09:23.639295Z"
    },
    "hidden": true
   },
   "outputs": [],
   "source": [
    "cost_list2, angles2, params_array2 = train(num_qubits, t, num_trotter_layers, num_w_layers=num_w_layers, num_steps=100, eta=10, angles=angles1, params_array=params_array1)"
   ]
  },
  {
   "cell_type": "code",
   "execution_count": null,
   "id": "2b31425b",
   "metadata": {
    "ExecuteTime": {
     "end_time": "2023-06-11T16:13:24.989402Z",
     "start_time": "2023-06-11T16:11:24.304574Z"
    },
    "hidden": true
   },
   "outputs": [],
   "source": [
    "cost_list3, angles3, params_array3 = train(num_qubits, t, num_trotter_layers, num_w_layers=num_w_layers, num_steps=100, eta=10, angles=angles2, params_array=params_array2)"
   ]
  },
  {
   "cell_type": "code",
   "execution_count": null,
   "id": "7fd73311",
   "metadata": {
    "ExecuteTime": {
     "end_time": "2023-06-11T16:13:37.765647Z",
     "start_time": "2023-06-11T16:13:33.645518Z"
    },
    "hidden": true
   },
   "outputs": [],
   "source": [
    "plt.plot(cost_list1+cost_list2+cost_list3)\n",
    "plt.yscale('log')"
   ]
  },
  {
   "cell_type": "markdown",
   "id": "7f03df14",
   "metadata": {
    "heading_collapsed": true,
    "hidden": true
   },
   "source": [
    "## 2 qubit simulation (finite differences, no max_dim, no min_sv_ratio) "
   ]
  },
  {
   "cell_type": "code",
   "execution_count": null,
   "id": "370cfcd9",
   "metadata": {
    "ExecuteTime": {
     "end_time": "2023-06-12T17:04:26.155214Z",
     "start_time": "2023-06-12T16:57:11.281815Z"
    },
    "hidden": true
   },
   "outputs": [],
   "source": [
    "num_qubits = 2\n",
    "t=0.1\n",
    "num_trotter_layers = 5\n",
    "num_w_layers = 1\n",
    "cost_list1, angles1, params_array1 = train(num_qubits, t, num_trotter_layers, num_w_layers=num_w_layers, num_steps=100, eta=10)"
   ]
  },
  {
   "cell_type": "code",
   "execution_count": null,
   "id": "88d86f3f",
   "metadata": {
    "ExecuteTime": {
     "end_time": "2023-06-12T17:13:43.982396Z",
     "start_time": "2023-06-12T17:05:47.447504Z"
    },
    "hidden": true
   },
   "outputs": [],
   "source": [
    "cost_list2, angles2, params_array2 = train(num_qubits, t, num_trotter_layers, num_w_layers=num_w_layers, num_steps=100, eta=10, angles=angles1, params_array=params_array1)"
   ]
  },
  {
   "cell_type": "markdown",
   "id": "9a3bf377",
   "metadata": {
    "heading_collapsed": true,
    "hidden": true
   },
   "source": [
    "## 4 qubit simulation "
   ]
  },
  {
   "cell_type": "code",
   "execution_count": null,
   "id": "62057508",
   "metadata": {
    "ExecuteTime": {
     "start_time": "2023-06-30T20:42:36.215Z"
    },
    "hidden": true
   },
   "outputs": [],
   "source": [
    "num_qubits = 6\n",
    "t = 0.1\n",
    "num_w_layers = 6\n",
    "num_trotter_steps = 5\n",
    "angles = np.asarray(np.random.rand(num_qubits)) \n",
    "params = np.asarray(np.random.rand(2*num_w_layers+1, 3*num_qubits)) \n",
    "train(num_qubits, t, num_trotter_steps, num_w_layers)"
   ]
  },
  {
   "cell_type": "markdown",
   "id": "1a0e1571",
   "metadata": {
    "heading_collapsed": true
   },
   "source": [
    "# Known problem 1: Initializing from identity"
   ]
  },
  {
   "cell_type": "code",
   "execution_count": null,
   "id": "87544814",
   "metadata": {
    "ExecuteTime": {
     "end_time": "2023-06-07T16:21:33.649971Z",
     "start_time": "2023-06-07T16:21:32.497358Z"
    },
    "hidden": true
   },
   "outputs": [],
   "source": [
    "# initializing the ansatz as identity\n",
    "num_qubits = 6\n",
    "t=0.1\n",
    "angles = jnp.zeros(num_qubits)\n",
    "params_array = jnp.zeros((num_qubits-1, 15))\n",
    "a = ansatz_mpo(t, angles, params_array, min_sv_ratio=0.1)\n",
    "a.to_matrix()"
   ]
  },
  {
   "cell_type": "code",
   "execution_count": null,
   "id": "5f17917e",
   "metadata": {
    "ExecuteTime": {
     "end_time": "2023-06-07T18:08:54.228918Z",
     "start_time": "2023-06-07T18:08:54.032850Z"
    },
    "hidden": true
   },
   "outputs": [],
   "source": [
    "# test derivatives\n",
    "num_qubits=6\n",
    "t=0.5\n",
    "num_trotter_layers = 4\n",
    "angles =jnp.zeros(num_qubits)+0.1\n",
    "angles = angles.at[0].set(0.0)\n",
    "angles = angles.at[1].set(0.0)\n",
    "angles = angles.at[2].set(0.0)\n",
    "angles = angles.at[3].set(0.0)\n",
    "angles = angles.at[4].set(0.0)\n",
    "angles = angles.at[5].set(0.0)\n",
    "target_mpo = xy_mpo(num_qubits, t, num_trotter_layers, max_dim=16)\n",
    "def angle_cost(target_mpo, t, angles):\n",
    "    ''' ||target_mpo - ansatz_mpo|| / 2^(n+1) '''\n",
    "    return 1 - (target_mpo.conj() @ D_Layer(t, angles)).normalized_trace().real\n",
    "\n",
    "angle_cost(target_mpo, t, angles)\n",
    "grad_angle = grad(angle_cost, argnums=(2))\n",
    "grad_angle(target_mpo, t, angles)"
   ]
  },
  {
   "cell_type": "markdown",
   "id": "2d4ea5e1",
   "metadata": {
    "heading_collapsed": true
   },
   "source": [
    "# Stackwise optimization"
   ]
  },
  {
   "cell_type": "code",
   "execution_count": 18,
   "id": "33413778",
   "metadata": {
    "ExecuteTime": {
     "end_time": "2023-07-17T21:49:24.106635Z",
     "start_time": "2023-07-17T21:49:24.073610Z"
    },
    "hidden": true
   },
   "outputs": [],
   "source": [
    "from stackwise_train import *"
   ]
  },
  {
   "cell_type": "markdown",
   "id": "4bb292f8",
   "metadata": {
    "heading_collapsed": true,
    "hidden": true
   },
   "source": [
    "## Stack cost and derivative"
   ]
  },
  {
   "cell_type": "code",
   "execution_count": 9,
   "id": "1515799c",
   "metadata": {
    "ExecuteTime": {
     "end_time": "2023-07-07T19:23:10.749655Z",
     "start_time": "2023-07-07T19:23:10.693176Z"
    },
    "hidden": true
   },
   "outputs": [
    {
     "data": {
      "text/plain": [
       "1.5199647096508784e-14"
      ]
     },
     "execution_count": 9,
     "metadata": {},
     "output_type": "execute_result"
    }
   ],
   "source": [
    "# test stack_cost for diagonal stack\n",
    "environment = ansatz.stack_env(target_mpo, 0)\n",
    "stack_cost(angles, environment, t) - (np.linalg.norm(ansatz.mpo().to_matrix() - target_mpo.to_matrix())**2)/ 32"
   ]
  },
  {
   "cell_type": "code",
   "execution_count": 11,
   "id": "9ed1a140",
   "metadata": {
    "ExecuteTime": {
     "end_time": "2023-07-07T19:26:02.049477Z",
     "start_time": "2023-07-07T19:26:01.971411Z"
    },
    "hidden": true
   },
   "outputs": [
    {
     "data": {
      "text/plain": [
       "1.5643736306358846e-14"
      ]
     },
     "execution_count": 11,
     "metadata": {},
     "output_type": "execute_result"
    }
   ],
   "source": [
    "# test stack_cost for non-diagonal stack\n",
    "stack_idx = 3\n",
    "env1, env2 = ansatz.stack_env(target_mpo, stack_idx)\n",
    "stack_cost(params[stack_idx-1], env1, env2) - (np.linalg.norm(ansatz.mpo().to_matrix() - target_mpo.to_matrix())**2)/ 32"
   ]
  },
  {
   "cell_type": "code",
   "execution_count": 17,
   "id": "6e411b4c",
   "metadata": {
    "ExecuteTime": {
     "end_time": "2023-07-07T19:29:04.530857Z",
     "start_time": "2023-07-07T19:29:04.486005Z"
    },
    "hidden": true
   },
   "outputs": [
    {
     "data": {
      "text/plain": [
       "array([0.00139768, 0.00201162, 0.0001509 , 0.0005454 ])"
      ]
     },
     "execution_count": 17,
     "metadata": {},
     "output_type": "execute_result"
    }
   ],
   "source": [
    "environment = ansatz.stack_env(target_mpo, 0)\n",
    "stack_grad(angles, environment, t)"
   ]
  },
  {
   "cell_type": "code",
   "execution_count": 16,
   "id": "3062f354",
   "metadata": {
    "ExecuteTime": {
     "end_time": "2023-07-07T19:28:07.529044Z",
     "start_time": "2023-07-07T19:28:07.394022Z"
    },
    "hidden": true
   },
   "outputs": [
    {
     "data": {
      "text/plain": [
       "array([-6.96367969e-05,  1.34792196e-04,  3.36436148e-04, -6.18128971e-04,\n",
       "        1.00152299e-04, -9.90862343e-04,  9.31964751e-04, -1.86763987e-04,\n",
       "       -1.86482477e-04,  6.50025522e-04,  4.99087839e-04, -5.88299226e-05])"
      ]
     },
     "execution_count": 16,
     "metadata": {},
     "output_type": "execute_result"
    }
   ],
   "source": [
    "# test stack_grad\n",
    "stack_idx = 3\n",
    "env1, env2 = ansatz.stack_env(target_mpo, stack_idx)\n",
    "stack_grad(params[stack_idx-1], env1, env2)"
   ]
  },
  {
   "cell_type": "markdown",
   "id": "5e5160f8",
   "metadata": {
    "heading_collapsed": true,
    "hidden": true
   },
   "source": [
    "## Stackwise training"
   ]
  },
  {
   "cell_type": "code",
   "execution_count": 19,
   "id": "c39574c9",
   "metadata": {
    "ExecuteTime": {
     "end_time": "2023-07-07T19:36:03.076435Z",
     "start_time": "2023-07-07T19:33:39.697206Z"
    },
    "hidden": true
   },
   "outputs": [
    {
     "name": "stderr",
     "output_type": "stream",
     "text": [
      " 33%|████████████████████████████                                                        | 1/3 [00:57<01:54, 57.28s/it]"
     ]
    },
    {
     "name": "stdout",
     "output_type": "stream",
     "text": [
      "0.028437829940798576 0.028437829940798687\n"
     ]
    },
    {
     "name": "stderr",
     "output_type": "stream",
     "text": [
      "\r",
      " 67%|████████████████████████████████████████████████████████                            | 2/3 [01:36<00:46, 46.44s/it]"
     ]
    },
    {
     "name": "stdout",
     "output_type": "stream",
     "text": [
      "0.01013623094504279 0.010136230945042124\n"
     ]
    },
    {
     "name": "stderr",
     "output_type": "stream",
     "text": [
      "100%|████████████████████████████████████████████████████████████████████████████████████| 3/3 [02:23<00:00, 47.77s/it]"
     ]
    },
    {
     "name": "stdout",
     "output_type": "stream",
     "text": [
      "0.009934937605322158 0.009934937605321714\n"
     ]
    },
    {
     "name": "stderr",
     "output_type": "stream",
     "text": [
      "\n"
     ]
    },
    {
     "data": {
      "text/plain": [
       "([0.02963628805198948,\n",
       "  0.02909621171254617,\n",
       "  0.02844030529846031,\n",
       "  0.028437829940798687,\n",
       "  0.013279325053111801,\n",
       "  0.010141275324740295,\n",
       "  0.010140784562254757,\n",
       "  0.010136230945042124,\n",
       "  0.009935094595761473,\n",
       "  0.009934964565686322,\n",
       "  0.009934947371659897,\n",
       "  0.009934937605321714],\n",
       " [0.02970017378901768,\n",
       "  0.028437829940798576,\n",
       "  0.01013623094504279,\n",
       "  0.009934937605322158],\n",
       " array([-1.99170165e-03, -2.83109493e+00,  2.82950320e+00,  2.03000982e-03]),\n",
       " array([[-7.83889671e-01,  2.59290634e-02,  4.01991522e-02,\n",
       "         -8.66898772e-05,  7.35448929e-02,  8.19807973e-02,\n",
       "         -7.83892892e-01,  4.52516990e-02,  2.00397442e-02,\n",
       "          3.67470103e-03,  8.03002044e-02,  2.65492511e-02],\n",
       "        [ 7.35213344e-02, -3.36273900e-02,  8.05239922e-03,\n",
       "          1.57151173e+00, -1.99996192e-02,  1.03257710e-01,\n",
       "         -6.99571720e-10,  1.03114351e-03, -1.03114352e-03,\n",
       "         -3.90368423e-03, -2.35697751e-02,  5.15847619e-02],\n",
       "        [ 4.46650673e-02,  3.79719731e-02,  7.60365752e-02,\n",
       "          2.77853024e-07,  1.49015651e-02,  1.04147898e-02,\n",
       "          1.28932343e-09,  2.90800177e-02,  9.95240793e-02,\n",
       "          3.93233881e-03,  9.50320958e-02,  5.55958251e-03]]))"
      ]
     },
     "execution_count": 19,
     "metadata": {},
     "output_type": "execute_result"
    }
   ],
   "source": [
    "num_qubits = 4\n",
    "t = 0.1\n",
    "num_trotter_steps = 5\n",
    "num_w_layers = 4\n",
    "max_dim = 16\n",
    "stackwise_train(num_qubits, t, num_trotter_steps, num_w_layers, max_dim=max_dim, num_sweeps=3)"
   ]
  },
  {
   "cell_type": "markdown",
   "id": "9c78ad07",
   "metadata": {
    "hidden": true
   },
   "source": [
    "## Stackwise training with noise "
   ]
  },
  {
   "cell_type": "code",
   "execution_count": 20,
   "id": "6950fc92",
   "metadata": {
    "ExecuteTime": {
     "end_time": "2023-07-07T19:39:41.029092Z",
     "start_time": "2023-07-07T19:37:13.686668Z"
    },
    "hidden": true
   },
   "outputs": [
    {
     "name": "stderr",
     "output_type": "stream",
     "text": [
      " 33%|████████████████████████████                                                        | 1/3 [00:59<01:59, 59.85s/it]"
     ]
    },
    {
     "name": "stdout",
     "output_type": "stream",
     "text": [
      "0.02656562275478591 0.026354173868404107\n"
     ]
    },
    {
     "name": "stderr",
     "output_type": "stream",
     "text": [
      "\r",
      " 67%|████████████████████████████████████████████████████████                            | 2/3 [01:45<00:51, 51.25s/it]"
     ]
    },
    {
     "name": "stdout",
     "output_type": "stream",
     "text": [
      "0.01733523887103705 0.017266000011702642\n"
     ]
    },
    {
     "name": "stderr",
     "output_type": "stream",
     "text": [
      "100%|████████████████████████████████████████████████████████████████████████████████████| 3/3 [02:27<00:00, 49.08s/it]"
     ]
    },
    {
     "name": "stdout",
     "output_type": "stream",
     "text": [
      "0.016199865223630372 0.016128695696956852\n"
     ]
    },
    {
     "name": "stderr",
     "output_type": "stream",
     "text": [
      "\n"
     ]
    },
    {
     "data": {
      "text/plain": [
       "([0.028938935904301633,\n",
       "  0.02714555334746538,\n",
       "  0.02664754259724278,\n",
       "  0.026636976617159913,\n",
       "  0.026610658074240012,\n",
       "  0.026513539384511287,\n",
       "  0.026474837153266484,\n",
       "  0.026451356971541662,\n",
       "  0.026363845400986463,\n",
       "  0.026354173868404107,\n",
       "  0.021055136284950038,\n",
       "  0.020828673370719475,\n",
       "  0.019545706690016318,\n",
       "  0.0195414991155205,\n",
       "  0.01953797663460244,\n",
       "  0.01759694186400007,\n",
       "  0.017373632642255332,\n",
       "  0.017364576964040035,\n",
       "  0.017360504914117114,\n",
       "  0.017266000011702642,\n",
       "  0.016576424902841946,\n",
       "  0.01655764374996238,\n",
       "  0.01641822626519107,\n",
       "  0.016366496602161718,\n",
       "  0.016366377214832917,\n",
       "  0.01632271733345214,\n",
       "  0.016244871761674995,\n",
       "  0.0162443915372964,\n",
       "  0.016194750463895957,\n",
       "  0.016128695696956852],\n",
       " [0.029655916701596174,\n",
       "  0.02656562275478591,\n",
       "  0.01733523887103705,\n",
       "  0.016199865223630372],\n",
       " array([ 1.98483550e-03, -1.73023593e+00, -1.77582237e+00,  2.09964163e+00]),\n",
       " array([[ 3.54984236e-06,  6.95504610e-03,  7.87134515e-02,\n",
       "         -6.34672895e-04,  2.94800562e-02,  8.84307754e-02,\n",
       "          1.28479908e+00,  2.59186068e-02, -8.86259507e-02,\n",
       "         -1.20199418e-01,  1.10262679e-02, -4.82685262e-02],\n",
       "        [ 9.17546547e-02,  3.96501199e-02,  7.92198088e-02,\n",
       "          4.64282810e-02,  1.17386935e-01,  1.62459906e-01,\n",
       "          1.28665650e-02,  7.99312553e-03,  4.58910678e-02,\n",
       "          8.38435128e-02, -3.35606819e-02,  4.38873099e-02],\n",
       "        [-4.35240958e-06,  8.77271122e-02,  7.99337775e-02,\n",
       "         -2.26550130e-04,  1.49383023e-03,  7.86953051e-02,\n",
       "         -4.77979023e-02,  1.78532660e-01,  1.05809633e-01,\n",
       "          1.02187668e-01,  3.77639023e-02,  7.06132672e-02],\n",
       "        [ 2.12237136e-02,  8.23498747e-02,  4.75312251e-03,\n",
       "          5.51979408e-01,  1.42078125e-01,  1.66249115e-01,\n",
       "         -4.89890291e-02, -4.32256574e-02, -1.04417574e-01,\n",
       "         -8.57798430e-02,  1.46854105e-01,  1.18281287e-01],\n",
       "        [ 6.50752307e-06,  4.18677893e-02,  8.99511944e-02,\n",
       "          5.03293731e-04,  3.29206201e-02,  1.66964013e-02,\n",
       "          1.68372564e-01,  3.56788311e-01, -1.59955332e-01,\n",
       "          8.16873115e-03,  5.61894873e-02,  6.87409128e-02],\n",
       "        [ 6.34390120e-02,  8.56287625e-02,  9.97898654e-02,\n",
       "          1.87823229e-01,  8.56452036e-02,  1.70923408e-01,\n",
       "          4.24229441e-02,  2.96588249e-02,  6.48262571e-02,\n",
       "          5.29761546e-03,  2.29770071e-01,  2.29893499e-01],\n",
       "        [-1.35590382e-06,  4.07332010e-02,  6.13588849e-02,\n",
       "          2.84217357e-05, -4.16708848e-02, -3.92822705e-04,\n",
       "          1.04568122e+00,  9.52120132e-01, -6.67321918e-01,\n",
       "          2.99809424e-03, -5.73039690e-02, -5.18252399e-02],\n",
       "        [ 1.26719002e-02,  5.79855922e-02,  1.44176966e-02,\n",
       "          1.21819128e+00,  2.21147844e+00, -5.41636014e-01,\n",
       "         -7.23314699e-03, -5.21521560e-04, -8.65440093e-03,\n",
       "         -3.02253371e-02,  4.02497759e-02,  1.78152526e-02],\n",
       "        [ 7.71490687e-02,  4.98357770e-02,  8.79403188e-03,\n",
       "          3.69626496e-03,  8.60925893e-02,  8.28381491e-02,\n",
       "          5.48154359e-03,  8.63372731e-02,  1.16065147e-01,\n",
       "          3.69733626e-02,  8.41838530e-02,  1.56476471e-02]]))"
      ]
     },
     "execution_count": 20,
     "metadata": {},
     "output_type": "execute_result"
    }
   ],
   "source": [
    "num_qubits = 4\n",
    "t = 0.1\n",
    "num_trotter_steps = 5\n",
    "num_w_layers = 4\n",
    "max_dim = 4\n",
    "stackwise_train(num_qubits, t, num_trotter_steps, num_w_layers, max_dim=max_dim, num_sweeps=3)"
   ]
  }
 ],
 "metadata": {
  "kernelspec": {
   "display_name": "Python 3 (ipykernel)",
   "language": "python",
   "name": "python3"
  },
  "language_info": {
   "codemirror_mode": {
    "name": "ipython",
    "version": 3
   },
   "file_extension": ".py",
   "mimetype": "text/x-python",
   "name": "python",
   "nbconvert_exporter": "python",
   "pygments_lexer": "ipython3",
   "version": "3.8.19"
  },
  "toc": {
   "base_numbering": 1,
   "nav_menu": {},
   "number_sections": true,
   "sideBar": true,
   "skip_h1_title": false,
   "title_cell": "Table of Contents",
   "title_sidebar": "Contents",
   "toc_cell": false,
   "toc_position": {},
   "toc_section_display": true,
   "toc_window_display": false
  }
 },
 "nbformat": 4,
 "nbformat_minor": 5
}
