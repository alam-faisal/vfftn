{
 "cells": [
  {
   "cell_type": "code",
   "execution_count": 1,
   "id": "521b1b25",
   "metadata": {
    "ExecuteTime": {
     "end_time": "2024-08-30T22:31:13.595586Z",
     "start_time": "2024-08-30T22:31:13.377464Z"
    }
   },
   "outputs": [],
   "source": [
    "import sys\n",
    "sys.path.insert(0, '/Users/alam/code/vfftn/src')\n",
    "from train import *"
   ]
  },
  {
   "cell_type": "code",
   "execution_count": 2,
   "id": "817db0a7",
   "metadata": {
    "ExecuteTime": {
     "end_time": "2024-08-30T22:34:15.574062Z",
     "start_time": "2024-08-30T22:34:15.564998Z"
    }
   },
   "outputs": [],
   "source": [
    "def exact_xxz_evol(total_time, num_qubits, init_state=None, op=False):\n",
    "    ''' applies time evolution operator '''\n",
    "    evol_op = expm(-1j * total_time * heisenberg_ham(num_qubits, jz=3, h=0))\n",
    "    return evol_op if op else np.dot(evol_op, init_state)\n",
    "\n",
    "def exact_xy_evol(total_time, num_qubits, init_state=None, op=False):\n",
    "    ''' applies time evolution operator '''\n",
    "    evol_op = expm(-1j * total_time * xy_ham(num_qubits))\n",
    "    return evol_op if op else np.dot(evol_op, init_state)"
   ]
  },
  {
   "cell_type": "code",
   "execution_count": 3,
   "id": "49b4e09c",
   "metadata": {
    "ExecuteTime": {
     "end_time": "2024-08-30T22:31:58.343153Z",
     "start_time": "2024-08-30T22:31:58.224597Z"
    }
   },
   "outputs": [],
   "source": [
    "num_qubits = 4\n",
    "t = 1.0\n",
    "num_trotter_layers = 50\n",
    "order = 4\n",
    "ev_op = xxz_mpo(num_qubits, t, num_trotter_layers=num_trotter_layers, order=order)"
   ]
  },
  {
   "cell_type": "code",
   "execution_count": 4,
   "id": "2d343b42",
   "metadata": {
    "ExecuteTime": {
     "end_time": "2024-08-30T22:32:36.500706Z",
     "start_time": "2024-08-30T22:32:36.495019Z"
    }
   },
   "outputs": [],
   "source": [
    "ev_mat = ev_op.to_matrix()"
   ]
  },
  {
   "cell_type": "code",
   "execution_count": 5,
   "id": "f390fb4d",
   "metadata": {
    "ExecuteTime": {
     "end_time": "2024-08-30T22:33:15.383484Z",
     "start_time": "2024-08-30T22:33:15.376487Z"
    }
   },
   "outputs": [],
   "source": [
    "ex_mat = exact_xxz_evol(t, num_qubits, op=True)"
   ]
  },
  {
   "cell_type": "code",
   "execution_count": 6,
   "id": "3999423d",
   "metadata": {
    "ExecuteTime": {
     "end_time": "2024-08-30T22:33:15.730357Z",
     "start_time": "2024-08-30T22:33:15.727234Z"
    }
   },
   "outputs": [
    {
     "data": {
      "text/plain": [
       "(2.286333539234117+1.8695473772827347j)"
      ]
     },
     "execution_count": 6,
     "metadata": {},
     "output_type": "execute_result"
    }
   ],
   "source": [
    "np.trace(ev_mat.conj().T @ ex_mat)"
   ]
  },
  {
   "cell_type": "code",
   "execution_count": 24,
   "id": "db747190",
   "metadata": {
    "ExecuteTime": {
     "end_time": "2024-08-30T22:34:44.964191Z",
     "start_time": "2024-08-30T22:34:44.146714Z"
    }
   },
   "outputs": [],
   "source": [
    "num_qubits = 4\n",
    "t = 1.0\n",
    "num_trotter_layers = 500\n",
    "order = 4\n",
    "ev_op = xy_mpo(num_qubits, t, num_trotter_layers=num_trotter_layers, order=order)"
   ]
  },
  {
   "cell_type": "code",
   "execution_count": 25,
   "id": "a7814538",
   "metadata": {
    "ExecuteTime": {
     "end_time": "2024-08-30T22:34:45.972268Z",
     "start_time": "2024-08-30T22:34:45.965749Z"
    }
   },
   "outputs": [],
   "source": [
    "ev_mat = ev_op.to_matrix()"
   ]
  },
  {
   "cell_type": "code",
   "execution_count": 26,
   "id": "e244c7b6",
   "metadata": {
    "ExecuteTime": {
     "end_time": "2024-08-30T22:34:46.662702Z",
     "start_time": "2024-08-30T22:34:46.655166Z"
    }
   },
   "outputs": [],
   "source": [
    "ex_mat = exact_xy_evol(t, num_qubits, op=True)"
   ]
  },
  {
   "cell_type": "code",
   "execution_count": 27,
   "id": "421a16fb",
   "metadata": {
    "ExecuteTime": {
     "end_time": "2024-08-30T22:34:47.270485Z",
     "start_time": "2024-08-30T22:34:47.263022Z"
    }
   },
   "outputs": [
    {
     "data": {
      "text/plain": [
       "(3.6628778214224016+3.160971231551975e-14j)"
      ]
     },
     "execution_count": 27,
     "metadata": {},
     "output_type": "execute_result"
    }
   ],
   "source": [
    "np.trace(ev_mat.conj().T @ ex_mat)"
   ]
  },
  {
   "cell_type": "code",
   "execution_count": null,
   "id": "555638df",
   "metadata": {},
   "outputs": [],
   "source": []
  }
 ],
 "metadata": {
  "kernelspec": {
   "display_name": "Python 3 (ipykernel)",
   "language": "python",
   "name": "python3"
  },
  "language_info": {
   "codemirror_mode": {
    "name": "ipython",
    "version": 3
   },
   "file_extension": ".py",
   "mimetype": "text/x-python",
   "name": "python",
   "nbconvert_exporter": "python",
   "pygments_lexer": "ipython3",
   "version": "3.8.19"
  }
 },
 "nbformat": 4,
 "nbformat_minor": 5
}
